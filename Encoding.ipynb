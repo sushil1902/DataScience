{
  "nbformat": 4,
  "nbformat_minor": 0,
  "metadata": {
    "colab": {
      "name": "Encoding.ipynb",
      "provenance": [],
      "collapsed_sections": [],
      "toc_visible": true
    },
    "kernelspec": {
      "name": "python3",
      "display_name": "Python 3"
    }
  },
  "cells": [
    {
      "cell_type": "markdown",
      "metadata": {
        "id": "V7i7Mb3WKWtI"
      },
      "source": [
        "\n",
        "\n",
        "<h1><center><strong>Encoding</strong></center></h1>"
      ]
    },
    {
      "cell_type": "markdown",
      "metadata": {
        "id": "LKqoTLYsbj63"
      },
      "source": [
        "# **Table of Contents**\n",
        "\n",
        "1. [Introduction](#Section1)<br><br>\n",
        "2. [Replacing Values](#Section2)<br><br>\n",
        "3. [Label Encoding](#Section3)<br><br>\n",
        "4. [One-Hot Encoding](#Section4)<br><br>\n",
        "5. [Binary Encoding](#Section5)<br><br>\n",
        "6. [Backward Difference Encoding](#Section6)<br><br>\n",
        "7. [Miscellaneous Features](#Section7)"
      ]
    },
    {
      "cell_type": "markdown",
      "metadata": {
        "id": "t-pOTeG7FeW8"
      },
      "source": [
        "<a id = Section1></a>\n",
        "### **1. Introduction**"
      ]
    },
    {
      "cell_type": "markdown",
      "metadata": {
        "id": "HTrXuZDFZe9Z"
      },
      "source": [
        "- **Categorical features** can only **take** on a **limited**, and usually **fixed**, number of **possible values**.\n",
        "\n",
        "- These features are typically stored as **text** values which represent various **traits** of the observations.\n",
        "  \n",
        "  - For example, **gender** is described as **Male** (**M**) or **Female** (**F**),\n",
        "  \n",
        "  - **Product Type** could be described as **electronics**, **apparels**, **food** etc.\n",
        "\n",
        "<br> \n",
        "\n",
        "- The type of **features** where the **categories** are only **labeled without any order** of **precedence** are called **nominal features**.\n",
        "\n",
        "- Features which have **some order** associated with them are called **ordinal features**.\n",
        "  \n",
        "  - For example, a feature like **economic status**, with three categories: **low**, **medium** and **high**, which have an **order** associated with them.\n",
        "\n",
        "- There are also **continuous features**. \n",
        "\n",
        "  - These are **numeric** variables that have an **infinite** number of **values** between any two values.\n",
        "  \n",
        "  - A continuous variable can be numeric or a **date/time**."
      ]
    },
    {
      "cell_type": "markdown",
      "metadata": {
        "id": "m2JiccD_asI6"
      },
      "source": [
        "- Problem with Categorical Data:\n",
        "\n",
        "  - Categorical features may have a very **large number** of **levels**, known as **high cardinality**, (for example, cities or URLs), where **most** of the **levels** appear in a relatively **small** number of **instances**.\n",
        "\n",
        "  - **Many** machine learning **models**, such as **regression** or **SVM**, are **algebraic**.\n",
        "  \n",
        "  - This means that their **input** must be **numerical**.\n",
        "  \n",
        "  -  To use these models, **categories** must be **transformed** into **numbers** first, before you can apply the learning algorithm on them."
      ]
    },
    {
      "cell_type": "markdown",
      "metadata": {
        "id": "86fuR0k1fkNm"
      },
      "source": [
        "- **Methods** for **Encoding** Categorical Data:\n",
        "\n",
        "  - **Replacing Values**\n",
        "\n",
        "  - **Label Encoding**\n",
        "\n",
        "  - **One-Hot Encoding**\n",
        "\n",
        "  - **Binary Encoding**\n",
        "\n",
        "  - **Backward Difference Encoding**\n",
        "\n",
        "  - **Miscellaneous Features**\n"
      ]
    },
    {
      "cell_type": "code",
      "metadata": {
        "id": "UMs7Uvi7CvgB"
      },
      "source": [
        "import numpy as np\n",
        "import pandas as pd\n",
        "\n",
        "import matplotlib.pyplot as plt\n",
        "%matplotlib inline\n",
        "\n",
        "import seaborn as sns"
      ],
      "execution_count": null,
      "outputs": []
    },
    {
      "cell_type": "code",
      "metadata": {
        "id": "mTcCJOW8w7cl",
        "outputId": "37ec3cb6-08ae-4bb3-817a-edfcdbceb93f",
        "colab": {
          "base_uri": "https://localhost:8080/",
          "height": 195
        }
      },
      "source": [
        "df_flights = pd.read_csv('https://raw.githubusercontent.com/insaid2018/Term-2/master/Data/flights.csv')\n",
        "df_flights.head()"
      ],
      "execution_count": null,
      "outputs": [
        {
          "output_type": "execute_result",
          "data": {
            "text/html": [
              "<div>\n",
              "<style scoped>\n",
              "    .dataframe tbody tr th:only-of-type {\n",
              "        vertical-align: middle;\n",
              "    }\n",
              "\n",
              "    .dataframe tbody tr th {\n",
              "        vertical-align: top;\n",
              "    }\n",
              "\n",
              "    .dataframe thead th {\n",
              "        text-align: right;\n",
              "    }\n",
              "</style>\n",
              "<table border=\"1\" class=\"dataframe\">\n",
              "  <thead>\n",
              "    <tr style=\"text-align: right;\">\n",
              "      <th></th>\n",
              "      <th>year</th>\n",
              "      <th>month</th>\n",
              "      <th>day</th>\n",
              "      <th>dep_time</th>\n",
              "      <th>dep_delay</th>\n",
              "      <th>arr_time</th>\n",
              "      <th>arr_delay</th>\n",
              "      <th>carrier</th>\n",
              "      <th>tailnum</th>\n",
              "      <th>flight</th>\n",
              "      <th>origin</th>\n",
              "      <th>dest</th>\n",
              "      <th>air_time</th>\n",
              "      <th>distance</th>\n",
              "      <th>hour</th>\n",
              "      <th>minute</th>\n",
              "    </tr>\n",
              "  </thead>\n",
              "  <tbody>\n",
              "    <tr>\n",
              "      <th>0</th>\n",
              "      <td>2014</td>\n",
              "      <td>10</td>\n",
              "      <td>10</td>\n",
              "      <td>2105.0</td>\n",
              "      <td>0.0</td>\n",
              "      <td>2219.0</td>\n",
              "      <td>-11.0</td>\n",
              "      <td>WN</td>\n",
              "      <td>N455WN</td>\n",
              "      <td>4816</td>\n",
              "      <td>PDX</td>\n",
              "      <td>SMF</td>\n",
              "      <td>60.0</td>\n",
              "      <td>479</td>\n",
              "      <td>21.0</td>\n",
              "      <td>5.0</td>\n",
              "    </tr>\n",
              "    <tr>\n",
              "      <th>1</th>\n",
              "      <td>2014</td>\n",
              "      <td>8</td>\n",
              "      <td>13</td>\n",
              "      <td>1944.0</td>\n",
              "      <td>-1.0</td>\n",
              "      <td>2110.0</td>\n",
              "      <td>-3.0</td>\n",
              "      <td>DL</td>\n",
              "      <td>N699DL</td>\n",
              "      <td>761</td>\n",
              "      <td>SEA</td>\n",
              "      <td>JNU</td>\n",
              "      <td>127.0</td>\n",
              "      <td>909</td>\n",
              "      <td>19.0</td>\n",
              "      <td>44.0</td>\n",
              "    </tr>\n",
              "    <tr>\n",
              "      <th>2</th>\n",
              "      <td>2014</td>\n",
              "      <td>2</td>\n",
              "      <td>13</td>\n",
              "      <td>1230.0</td>\n",
              "      <td>-5.0</td>\n",
              "      <td>1434.0</td>\n",
              "      <td>-23.0</td>\n",
              "      <td>AS</td>\n",
              "      <td>N442AS</td>\n",
              "      <td>610</td>\n",
              "      <td>SEA</td>\n",
              "      <td>LAS</td>\n",
              "      <td>109.0</td>\n",
              "      <td>867</td>\n",
              "      <td>12.0</td>\n",
              "      <td>30.0</td>\n",
              "    </tr>\n",
              "    <tr>\n",
              "      <th>3</th>\n",
              "      <td>2014</td>\n",
              "      <td>12</td>\n",
              "      <td>8</td>\n",
              "      <td>1058.0</td>\n",
              "      <td>-2.0</td>\n",
              "      <td>1644.0</td>\n",
              "      <td>-1.0</td>\n",
              "      <td>AA</td>\n",
              "      <td>N3CTAA</td>\n",
              "      <td>1146</td>\n",
              "      <td>SEA</td>\n",
              "      <td>DFW</td>\n",
              "      <td>192.0</td>\n",
              "      <td>1660</td>\n",
              "      <td>10.0</td>\n",
              "      <td>58.0</td>\n",
              "    </tr>\n",
              "    <tr>\n",
              "      <th>4</th>\n",
              "      <td>2014</td>\n",
              "      <td>2</td>\n",
              "      <td>4</td>\n",
              "      <td>1841.0</td>\n",
              "      <td>-4.0</td>\n",
              "      <td>2058.0</td>\n",
              "      <td>13.0</td>\n",
              "      <td>AS</td>\n",
              "      <td>N754AS</td>\n",
              "      <td>302</td>\n",
              "      <td>SEA</td>\n",
              "      <td>SFO</td>\n",
              "      <td>98.0</td>\n",
              "      <td>679</td>\n",
              "      <td>18.0</td>\n",
              "      <td>41.0</td>\n",
              "    </tr>\n",
              "  </tbody>\n",
              "</table>\n",
              "</div>"
            ],
            "text/plain": [
              "   year  month  day  dep_time  dep_delay  ...  dest  air_time distance  hour  minute\n",
              "0  2014     10   10    2105.0        0.0  ...   SMF      60.0      479  21.0     5.0\n",
              "1  2014      8   13    1944.0       -1.0  ...   JNU     127.0      909  19.0    44.0\n",
              "2  2014      2   13    1230.0       -5.0  ...   LAS     109.0      867  12.0    30.0\n",
              "3  2014     12    8    1058.0       -2.0  ...   DFW     192.0     1660  10.0    58.0\n",
              "4  2014      2    4    1841.0       -4.0  ...   SFO      98.0      679  18.0    41.0\n",
              "\n",
              "[5 rows x 16 columns]"
            ]
          },
          "metadata": {
            "tags": []
          },
          "execution_count": 70
        }
      ]
    },
    {
      "cell_type": "code",
      "metadata": {
        "id": "x5LDOvg7OdWh",
        "outputId": "2556f8c3-e2f3-4495-abff-f906e1e8a762",
        "colab": {
          "base_uri": "https://localhost:8080/",
          "height": 403
        }
      },
      "source": [
        "df_flights.info()"
      ],
      "execution_count": null,
      "outputs": [
        {
          "output_type": "stream",
          "text": [
            "<class 'pandas.core.frame.DataFrame'>\n",
            "RangeIndex: 16205 entries, 0 to 16204\n",
            "Data columns (total 16 columns):\n",
            " #   Column     Non-Null Count  Dtype  \n",
            "---  ------     --------------  -----  \n",
            " 0   year       16205 non-null  int64  \n",
            " 1   month      16205 non-null  int64  \n",
            " 2   day        16205 non-null  int64  \n",
            " 3   dep_time   16116 non-null  float64\n",
            " 4   dep_delay  16116 non-null  float64\n",
            " 5   arr_time   16106 non-null  float64\n",
            " 6   arr_delay  16075 non-null  float64\n",
            " 7   carrier    16205 non-null  object \n",
            " 8   tailnum    16181 non-null  object \n",
            " 9   flight     16205 non-null  int64  \n",
            " 10  origin     16205 non-null  object \n",
            " 11  dest       16205 non-null  object \n",
            " 12  air_time   16075 non-null  float64\n",
            " 13  distance   16205 non-null  int64  \n",
            " 14  hour       16116 non-null  float64\n",
            " 15  minute     16116 non-null  float64\n",
            "dtypes: float64(7), int64(5), object(4)\n",
            "memory usage: 2.0+ MB\n"
          ],
          "name": "stdout"
        }
      ]
    },
    {
      "cell_type": "markdown",
      "metadata": {
        "id": "PH4q_0aCOd6v"
      },
      "source": [
        "- The dataset contains **16205** rows, and **16** columns.\n",
        "\n",
        "- **12** columns are **numeric**, and **4** columns are **object** type."
      ]
    },
    {
      "cell_type": "markdown",
      "metadata": {
        "id": "xU_NvNu7dZmi"
      },
      "source": [
        "- We will only be **dealing** with **categorical features**, so it's better to **filter** them out.\n",
        "\n",
        "- We can create a **separate DataFrame** consisting of only these features by running the following command."
      ]
    },
    {
      "cell_type": "code",
      "metadata": {
        "id": "ORHjXBCrw8BA",
        "outputId": "e1734354-ecf3-4812-d9a7-bfbeafe467b2",
        "colab": {
          "base_uri": "https://localhost:8080/",
          "height": 195
        }
      },
      "source": [
        "cat_df_flights = df_flights.select_dtypes(include=['object']).copy()\n",
        "cat_df_flights.head()"
      ],
      "execution_count": null,
      "outputs": [
        {
          "output_type": "execute_result",
          "data": {
            "text/html": [
              "<div>\n",
              "<style scoped>\n",
              "    .dataframe tbody tr th:only-of-type {\n",
              "        vertical-align: middle;\n",
              "    }\n",
              "\n",
              "    .dataframe tbody tr th {\n",
              "        vertical-align: top;\n",
              "    }\n",
              "\n",
              "    .dataframe thead th {\n",
              "        text-align: right;\n",
              "    }\n",
              "</style>\n",
              "<table border=\"1\" class=\"dataframe\">\n",
              "  <thead>\n",
              "    <tr style=\"text-align: right;\">\n",
              "      <th></th>\n",
              "      <th>carrier</th>\n",
              "      <th>tailnum</th>\n",
              "      <th>origin</th>\n",
              "      <th>dest</th>\n",
              "    </tr>\n",
              "  </thead>\n",
              "  <tbody>\n",
              "    <tr>\n",
              "      <th>0</th>\n",
              "      <td>WN</td>\n",
              "      <td>N455WN</td>\n",
              "      <td>PDX</td>\n",
              "      <td>SMF</td>\n",
              "    </tr>\n",
              "    <tr>\n",
              "      <th>1</th>\n",
              "      <td>DL</td>\n",
              "      <td>N699DL</td>\n",
              "      <td>SEA</td>\n",
              "      <td>JNU</td>\n",
              "    </tr>\n",
              "    <tr>\n",
              "      <th>2</th>\n",
              "      <td>AS</td>\n",
              "      <td>N442AS</td>\n",
              "      <td>SEA</td>\n",
              "      <td>LAS</td>\n",
              "    </tr>\n",
              "    <tr>\n",
              "      <th>3</th>\n",
              "      <td>AA</td>\n",
              "      <td>N3CTAA</td>\n",
              "      <td>SEA</td>\n",
              "      <td>DFW</td>\n",
              "    </tr>\n",
              "    <tr>\n",
              "      <th>4</th>\n",
              "      <td>AS</td>\n",
              "      <td>N754AS</td>\n",
              "      <td>SEA</td>\n",
              "      <td>SFO</td>\n",
              "    </tr>\n",
              "  </tbody>\n",
              "</table>\n",
              "</div>"
            ],
            "text/plain": [
              "  carrier tailnum origin dest\n",
              "0      WN  N455WN    PDX  SMF\n",
              "1      DL  N699DL    SEA  JNU\n",
              "2      AS  N442AS    SEA  LAS\n",
              "3      AA  N3CTAA    SEA  DFW\n",
              "4      AS  N754AS    SEA  SFO"
            ]
          },
          "metadata": {
            "tags": []
          },
          "execution_count": 74
        }
      ]
    },
    {
      "cell_type": "markdown",
      "metadata": {
        "id": "n65zD0NTO0-0"
      },
      "source": [
        "- **Checking null values** in the dataset."
      ]
    },
    {
      "cell_type": "code",
      "metadata": {
        "id": "mut3Nr5RO1OO",
        "outputId": "bf5bb696-351c-409c-86ac-a343584dfa1b",
        "colab": {
          "base_uri": "https://localhost:8080/",
          "height": 101
        }
      },
      "source": [
        "print(cat_df_flights.isnull().sum())"
      ],
      "execution_count": null,
      "outputs": [
        {
          "output_type": "stream",
          "text": [
            "carrier     0\n",
            "tailnum    24\n",
            "origin      0\n",
            "dest        0\n",
            "dtype: int64\n"
          ],
          "name": "stdout"
        }
      ]
    },
    {
      "cell_type": "markdown",
      "metadata": {
        "id": "V4w1rdYzPEf4"
      },
      "source": [
        "- It seems that only the `tailnum` column has **null values**.\n",
        "\n",
        "- We will do a **mode imputation** for those null values."
      ]
    },
    {
      "cell_type": "code",
      "metadata": {
        "id": "my24Y5mSeDwj",
        "outputId": "03d84eac-7cc1-424c-bacc-73b783072881",
        "colab": {
          "base_uri": "https://localhost:8080/",
          "height": 218
        }
      },
      "source": [
        "cat_df_flights['tailnum'].value_counts()"
      ],
      "execution_count": null,
      "outputs": [
        {
          "output_type": "execute_result",
          "data": {
            "text/plain": [
              "N219AG    91\n",
              "N225AG    82\n",
              "N619AS    79\n",
              "N217AG    78\n",
              "N611AS    77\n",
              "          ..\n",
              "N180US     1\n",
              "N527JB     1\n",
              "N338NB     1\n",
              "N701BR     1\n",
              "N840AW     1\n",
              "Name: tailnum, Length: 2558, dtype: int64"
            ]
          },
          "metadata": {
            "tags": []
          },
          "execution_count": 76
        }
      ]
    },
    {
      "cell_type": "code",
      "metadata": {
        "id": "AotaSeq_PE1F"
      },
      "source": [
        "cat_df_flights = cat_df_flights.fillna(cat_df_flights['tailnum'].value_counts().index[0])"
      ],
      "execution_count": null,
      "outputs": []
    },
    {
      "cell_type": "markdown",
      "metadata": {
        "id": "LjoZfERrPH9N"
      },
      "source": [
        "- We **filled** the **null** values in the `tailnum` column using the **mode** value **N219AG**."
      ]
    },
    {
      "cell_type": "code",
      "metadata": {
        "id": "QAQpwa58PIVI",
        "outputId": "e5c29589-142f-4db9-8dbf-5ab7b9115efd",
        "colab": {
          "base_uri": "https://localhost:8080/",
          "height": 34
        }
      },
      "source": [
        "print(cat_df_flights.isnull().values.sum())"
      ],
      "execution_count": null,
      "outputs": [
        {
          "output_type": "stream",
          "text": [
            "0\n"
          ],
          "name": "stdout"
        }
      ]
    },
    {
      "cell_type": "markdown",
      "metadata": {
        "id": "KmPMeSUKPMPp"
      },
      "source": [
        "- There are **no null values** in the dataset.\n",
        "\n",
        "- Let's check the **frequency distribution** of **categories** within the `carrier` feature."
      ]
    },
    {
      "cell_type": "code",
      "metadata": {
        "id": "GiHbdhC2PMdp",
        "outputId": "5f9dec46-d386-434c-bf91-1d13f435dc3d",
        "colab": {
          "base_uri": "https://localhost:8080/",
          "height": 218
        }
      },
      "source": [
        "print(cat_df_flights['carrier'].value_counts())"
      ],
      "execution_count": null,
      "outputs": [
        {
          "output_type": "stream",
          "text": [
            "AS    6181\n",
            "WN    2362\n",
            "OO    1891\n",
            "DL    1695\n",
            "UA    1666\n",
            "AA     758\n",
            "US     601\n",
            "B6     336\n",
            "VX     331\n",
            "F9     275\n",
            "HA     109\n",
            "Name: carrier, dtype: int64\n"
          ],
          "name": "stdout"
        }
      ]
    },
    {
      "cell_type": "markdown",
      "metadata": {
        "id": "Puq_pPXQPOtp"
      },
      "source": [
        "- To know the **count** of **distinct categories** within the feature use this code."
      ]
    },
    {
      "cell_type": "code",
      "metadata": {
        "id": "YKZnMVqLPPFM",
        "outputId": "af3907e8-ba28-45ef-d634-bf7472cb7b37",
        "colab": {
          "base_uri": "https://localhost:8080/",
          "height": 34
        }
      },
      "source": [
        "print(cat_df_flights['carrier'].value_counts().count())"
      ],
      "execution_count": null,
      "outputs": [
        {
          "output_type": "stream",
          "text": [
            "11\n"
          ],
          "name": "stdout"
        }
      ]
    },
    {
      "cell_type": "markdown",
      "metadata": {
        "id": "1SA5RlhKPRgY"
      },
      "source": [
        "- **Plotting** the **Frequency Distribution** of **Carriers**."
      ]
    },
    {
      "cell_type": "code",
      "metadata": {
        "id": "RtiTjFi8Pavw"
      },
      "source": [
        "carrier_count = cat_df_flights['carrier'].value_counts()"
      ],
      "execution_count": null,
      "outputs": []
    },
    {
      "cell_type": "code",
      "metadata": {
        "id": "qEOAGmlgPRnr",
        "outputId": "36bc1b36-a553-4854-b149-1dd0ff5c29d0",
        "colab": {
          "base_uri": "https://localhost:8080/",
          "height": 318
        }
      },
      "source": [
        "sns.set(style=\"darkgrid\")\n",
        "sns.barplot(carrier_count.index, carrier_count.values, alpha=0.9)\n",
        "plt.title('Frequency Distribution of Carriers')\n",
        "plt.ylabel('Number of Occurrences', fontsize=12)\n",
        "plt.xlabel('Carrier', fontsize=12)"
      ],
      "execution_count": null,
      "outputs": [
        {
          "output_type": "execute_result",
          "data": {
            "text/plain": [
              "Text(0.5, 0, 'Carrier')"
            ]
          },
          "metadata": {
            "tags": []
          },
          "execution_count": 82
        },
        {
          "output_type": "display_data",
          "data": {
            "image/png": "[encoded data removed]",
            "text/plain": [
              "<Figure size 432x288 with 1 Axes>"
            ]
          },
          "metadata": {
            "tags": []
          }
        }
      ]
    },
    {
      "cell_type": "markdown",
      "metadata": {
        "id": "dV_dywc-Ppk-"
      },
      "source": [
        "- **AS** has the **most** number of **occurrences**, followed by **WN**.\n",
        "\n",
        "- **HA** is having the **least** number of **occurrences**."
      ]
    },
    {
      "cell_type": "markdown",
      "metadata": {
        "id": "74kGYIERPp10"
      },
      "source": [
        "<a id = Section2></a>\n",
        "### **2. Replacing Values**"
      ]
    },
    {
      "cell_type": "markdown",
      "metadata": {
        "id": "IioUNFc4Px3a"
      },
      "source": [
        "- The most **basic** encoding method is just **replacing** the **categories** with the **desired numbers**.\n",
        "\n",
        "- This can be achieved with the help of the `replace()` function in pandas.\n",
        "\n",
        "- The idea is that you have the **liberty** to **choose** whatever **numbers** you want to **assign** to the **categories** according to the business use case."
      ]
    },
    {
      "cell_type": "markdown",
      "metadata": {
        "id": "SO1OXe-ogY9n"
      },
      "source": [
        "- **Creating** a **dictionary** which **contains mapping numbers** for **each category** in the carrier column:"
      ]
    },
    {
      "cell_type": "code",
      "metadata": {
        "id": "neh5TN9kP5kc"
      },
      "source": [
        "replace_map = {'carrier': {'AA': 1, 'AS': 2, 'B6': 3, 'DL': 4, 'F9': 5, 'HA': 6, 'OO': 7 , 'UA': 8 , 'US': 9,'VX': 10,'WN': 11}}"
      ],
      "execution_count": null,
      "outputs": []
    },
    {
      "cell_type": "markdown",
      "metadata": {
        "id": "A-_gTjmNQIgv"
      },
      "source": [
        "- **Note:** **Defining** a **mapping** via a **hard coded dictionary** is **easy** when the **number** of **categories** is **low**, like in this case which is 11.\n",
        "\n",
        "- We can **achieve** the **same** mapping with the help of **dictionary comprehensions**.\n",
        "\n",
        "  - This will be **useful** when the **categories count** is **high** and we **don't want to type** out each mapping.\n",
        "  \n",
        "- We will store the category names in a **list** called `labels` and then **zip** it to a **seqeunce of numbers** and **iterate** over it."
      ]
    },
    {
      "cell_type": "code",
      "metadata": {
        "id": "421zy3ScP5xW",
        "outputId": "c291b37c-d98e-4515-cd18-a0db2e642d94",
        "colab": {
          "base_uri": "https://localhost:8080/",
          "height": 34
        }
      },
      "source": [
        "labels = cat_df_flights['carrier'].astype('category').cat.categories.tolist()\n",
        "replace_map_comp = {'carrier' : {k: v for k,v in zip(labels,list(range(1,len(labels)+1)))}}\n",
        "\n",
        "print(replace_map_comp)"
      ],
      "execution_count": null,
      "outputs": [
        {
          "output_type": "stream",
          "text": [
            "{'carrier': {'AA': 1, 'AS': 2, 'B6': 3, 'DL': 4, 'F9': 5, 'HA': 6, 'OO': 7, 'UA': 8, 'US': 9, 'VX': 10, 'WN': 11}}\n"
          ],
          "name": "stdout"
        }
      ]
    },
    {
      "cell_type": "markdown",
      "metadata": {
        "id": "N3jfUwmWQJLr"
      },
      "source": [
        "**Note:** Throughout the Encoding topic, we will be **making** a **copy** of the **dataset** via the **.copy()** method to practice each encoding technique to ensure that the **original DataFrame stays intact** and whatever changes we are doing **happen** only **in** the **copied** one."
      ]
    },
    {
      "cell_type": "code",
      "metadata": {
        "id": "MOOxMTbjhoRX"
      },
      "source": [
        "cat_df_flights_replace = cat_df_flights.copy()"
      ],
      "execution_count": null,
      "outputs": []
    },
    {
      "cell_type": "markdown",
      "metadata": {
        "id": "W5j-o4VkhsjY"
      },
      "source": [
        "- We will use the `replace()` function on the DataFrame by passing the **mapping dictionary** as **argument**."
      ]
    },
    {
      "cell_type": "code",
      "metadata": {
        "id": "nnbSqYOWP6DX",
        "outputId": "10ded6d7-e1a6-4f3b-89c1-45356aec29c9",
        "colab": {
          "base_uri": "https://localhost:8080/",
          "height": 118
        }
      },
      "source": [
        "cat_df_flights_replace.replace(replace_map_comp, inplace=True)\n",
        "print(cat_df_flights_replace.head())"
      ],
      "execution_count": null,
      "outputs": [
        {
          "output_type": "stream",
          "text": [
            "   carrier tailnum origin dest\n",
            "0       11  N455WN    PDX  SMF\n",
            "1        4  N699DL    SEA  JNU\n",
            "2        2  N442AS    SEA  LAS\n",
            "3        1  N3CTAA    SEA  DFW\n",
            "4        2  N754AS    SEA  SFO\n"
          ],
          "name": "stdout"
        }
      ]
    },
    {
      "cell_type": "markdown",
      "metadata": {
        "id": "X1Anqc3dQg70"
      },
      "source": [
        "- We have **encoded** the **categories** with the **mapped numbers** in our DataFrame.\n",
        "\n",
        "- We can also check the **dtype** of the newly encoded column, which is now converted to **integers**."
      ]
    },
    {
      "cell_type": "code",
      "metadata": {
        "id": "focDBYTxP6Se",
        "outputId": "16df711a-b270-402b-af86-bdf8cd02ce7e",
        "colab": {
          "base_uri": "https://localhost:8080/",
          "height": 34
        }
      },
      "source": [
        "print(cat_df_flights_replace['carrier'].dtypes)"
      ],
      "execution_count": null,
      "outputs": [
        {
          "output_type": "stream",
          "text": [
            "int64\n"
          ],
          "name": "stdout"
        }
      ]
    },
    {
      "cell_type": "markdown",
      "metadata": {
        "id": "AvP4uAmlQ0B9"
      },
      "source": [
        "<a id = Section3></a>\n",
        "### **3. Label Encoding**"
      ]
    },
    {
      "cell_type": "markdown",
      "metadata": {
        "id": "pR35PRk0S_nh"
      },
      "source": [
        "- Another approach is to **encode** categorical values with a technique called **\"label encoding\"**.\n",
        "\n",
        "- It allows us to **convert each value** in a **column** to a **number**.\n",
        "\n",
        "- Numerical **labels** are always **between 0** and **n_categories-1**."
      ]
    },
    {
      "cell_type": "markdown",
      "metadata": {
        "id": "uHTwKCVtT41m"
      },
      "source": [
        "#### **Using cat.codes**"
      ]
    },
    {
      "cell_type": "code",
      "metadata": {
        "id": "1_BOPwmIS_5f"
      },
      "source": [
        "cat_df_flights_lc = cat_df_flights.copy()"
      ],
      "execution_count": null,
      "outputs": []
    },
    {
      "cell_type": "markdown",
      "metadata": {
        "id": "XkRZkwBnTL6I"
      },
      "source": [
        "- In Python, it's a **good practice** to **typecast categorical features** to a **category dtype** because they make the **operations** on such columns **much faster than** the **object dtype**.\n",
        "\n",
        "- Also, the **size** of the **category dtype** columns is **much smaller** than the **object dtype** ones.\n",
        "\n",
        "- We can do the **typecasting** by using `.astype()` method on your columns."
      ]
    },
    {
      "cell_type": "code",
      "metadata": {
        "id": "mKy5qEidTKAL",
        "outputId": "decb924e-8563-4278-9920-a365df55dc8b",
        "colab": {
          "base_uri": "https://localhost:8080/",
          "height": 101
        }
      },
      "source": [
        "cat_df_flights_lc['carrier'] = cat_df_flights_lc['carrier'].astype('category')\n",
        "cat_df_flights_lc['origin'] = cat_df_flights_lc['origin'].astype('category')                                                              \n",
        "print(cat_df_flights_lc.dtypes)"
      ],
      "execution_count": null,
      "outputs": [
        {
          "output_type": "stream",
          "text": [
            "carrier    category\n",
            "tailnum      object\n",
            "origin     category\n",
            "dest         object\n",
            "dtype: object\n"
          ],
          "name": "stdout"
        }
      ]
    },
    {
      "cell_type": "markdown",
      "metadata": {
        "id": "Pd__QbmPkDK_"
      },
      "source": [
        "- We can validate the **faster operation** of the **category dtype** by **timing** the **execution time** of the **same operation** done on a DataFrame with columns as category dtype and object dtype by using the time library.\n",
        "\n",
        "- Let's say we want to **calculate** the **number of flights** for **each carrier** from each origin places, we can use the `.groupby()` and `.count()` methods on our DataFrame to do so."
      ]
    },
    {
      "cell_type": "code",
      "metadata": {
        "id": "3YmruUgNjpYn"
      },
      "source": [
        "import time"
      ],
      "execution_count": null,
      "outputs": []
    },
    {
      "cell_type": "code",
      "metadata": {
        "id": "_5cmWjhijjTv",
        "outputId": "5b391544-dd30-4199-ef04-4651d8db2448",
        "colab": {
          "base_uri": "https://localhost:8080/",
          "height": 34
        }
      },
      "source": [
        "%timeit cat_df_flights.groupby(['origin','carrier']).count() #DataFrame with object dtype columns"
      ],
      "execution_count": null,
      "outputs": [
        {
          "output_type": "stream",
          "text": [
            "100 loops, best of 3: 5.07 ms per loop\n"
          ],
          "name": "stdout"
        }
      ]
    },
    {
      "cell_type": "code",
      "metadata": {
        "id": "ASFXUMhBjzSc",
        "outputId": "38858ed8-3083-4977-e235-38af72a8a873",
        "colab": {
          "base_uri": "https://localhost:8080/",
          "height": 202
        }
      },
      "source": [
        "cat_df_flights.info()"
      ],
      "execution_count": null,
      "outputs": [
        {
          "output_type": "stream",
          "text": [
            "<class 'pandas.core.frame.DataFrame'>\n",
            "RangeIndex: 16205 entries, 0 to 16204\n",
            "Data columns (total 4 columns):\n",
            " #   Column   Non-Null Count  Dtype \n",
            "---  ------   --------------  ----- \n",
            " 0   carrier  16205 non-null  object\n",
            " 1   tailnum  16205 non-null  object\n",
            " 2   origin   16205 non-null  object\n",
            " 3   dest     16205 non-null  object\n",
            "dtypes: object(4)\n",
            "memory usage: 506.5+ KB\n"
          ],
          "name": "stdout"
        }
      ]
    },
    {
      "cell_type": "markdown",
      "metadata": {
        "id": "C4PI0IVZjv5B"
      },
      "source": [
        "- The **object** dtype column operation took **5.07 ms** per loop.\n",
        "\n",
        "- Also, the **size** of the Dataframe is **506.6 KB**"
      ]
    },
    {
      "cell_type": "code",
      "metadata": {
        "id": "lORhKjwNjjP9",
        "outputId": "28be1e0a-c6a1-4fb8-fa87-cd63c401bced",
        "colab": {
          "base_uri": "https://localhost:8080/",
          "height": 34
        }
      },
      "source": [
        "%timeit cat_df_flights_lc.groupby(['origin','carrier']).count() #DataFrame with category dtype columns"
      ],
      "execution_count": null,
      "outputs": [
        {
          "output_type": "stream",
          "text": [
            "100 loops, best of 3: 4.58 ms per loop\n"
          ],
          "name": "stdout"
        }
      ]
    },
    {
      "cell_type": "code",
      "metadata": {
        "id": "X2Pb589nji3_",
        "outputId": "975d61d6-f686-40b9-feae-c6b6b00ed1fb",
        "colab": {
          "base_uri": "https://localhost:8080/",
          "height": 202
        }
      },
      "source": [
        "cat_df_flights_lc.info()"
      ],
      "execution_count": null,
      "outputs": [
        {
          "output_type": "stream",
          "text": [
            "<class 'pandas.core.frame.DataFrame'>\n",
            "RangeIndex: 16205 entries, 0 to 16204\n",
            "Data columns (total 4 columns):\n",
            " #   Column   Non-Null Count  Dtype   \n",
            "---  ------   --------------  -----   \n",
            " 0   carrier  16205 non-null  category\n",
            " 1   tailnum  16205 non-null  object  \n",
            " 2   origin   16205 non-null  category\n",
            " 3   dest     16205 non-null  object  \n",
            "dtypes: category(2), object(2)\n",
            "memory usage: 285.5+ KB\n"
          ],
          "name": "stdout"
        }
      ]
    },
    {
      "cell_type": "markdown",
      "metadata": {
        "id": "KRN1WkPSjvhd"
      },
      "source": [
        "- The **category** dtype column operation took **4.58 ms** per loop.\n",
        "\n",
        "- Also, the **size** of the Dataframe is **285.5 KB**\n",
        "\n",
        "- The DataFrame with **category** dtype is much **faster**, and **smaller** in **size**."
      ]
    },
    {
      "cell_type": "markdown",
      "metadata": {
        "id": "-YSFXuo6TalE"
      },
      "source": [
        "- We can do **label encoding** via attributes `.cat.codes` on our DataFrame's column.\n",
        "\n",
        "- This can only be **applied** on columns having **category** *dtype*."
      ]
    },
    {
      "cell_type": "code",
      "metadata": {
        "id": "TebI0148TaA4"
      },
      "source": [
        "cat_df_flights_lc['carrier'] = cat_df_flights_lc['carrier'].cat.codes"
      ],
      "execution_count": null,
      "outputs": []
    },
    {
      "cell_type": "code",
      "metadata": {
        "id": "RCA5u2LMTevV",
        "outputId": "8605a95f-f57c-4a61-fc3d-026518549b74",
        "colab": {
          "base_uri": "https://localhost:8080/",
          "height": 195
        }
      },
      "source": [
        "# Alphabetically labeled from 0 to 10\n",
        "cat_df_flights_lc.head()"
      ],
      "execution_count": null,
      "outputs": [
        {
          "output_type": "execute_result",
          "data": {
            "text/html": [
              "<div>\n",
              "<style scoped>\n",
              "    .dataframe tbody tr th:only-of-type {\n",
              "        vertical-align: middle;\n",
              "    }\n",
              "\n",
              "    .dataframe tbody tr th {\n",
              "        vertical-align: top;\n",
              "    }\n",
              "\n",
              "    .dataframe thead th {\n",
              "        text-align: right;\n",
              "    }\n",
              "</style>\n",
              "<table border=\"1\" class=\"dataframe\">\n",
              "  <thead>\n",
              "    <tr style=\"text-align: right;\">\n",
              "      <th></th>\n",
              "      <th>carrier</th>\n",
              "      <th>tailnum</th>\n",
              "      <th>origin</th>\n",
              "      <th>dest</th>\n",
              "    </tr>\n",
              "  </thead>\n",
              "  <tbody>\n",
              "    <tr>\n",
              "      <th>0</th>\n",
              "      <td>10</td>\n",
              "      <td>N455WN</td>\n",
              "      <td>PDX</td>\n",
              "      <td>SMF</td>\n",
              "    </tr>\n",
              "    <tr>\n",
              "      <th>1</th>\n",
              "      <td>3</td>\n",
              "      <td>N699DL</td>\n",
              "      <td>SEA</td>\n",
              "      <td>JNU</td>\n",
              "    </tr>\n",
              "    <tr>\n",
              "      <th>2</th>\n",
              "      <td>1</td>\n",
              "      <td>N442AS</td>\n",
              "      <td>SEA</td>\n",
              "      <td>LAS</td>\n",
              "    </tr>\n",
              "    <tr>\n",
              "      <th>3</th>\n",
              "      <td>0</td>\n",
              "      <td>N3CTAA</td>\n",
              "      <td>SEA</td>\n",
              "      <td>DFW</td>\n",
              "    </tr>\n",
              "    <tr>\n",
              "      <th>4</th>\n",
              "      <td>1</td>\n",
              "      <td>N754AS</td>\n",
              "      <td>SEA</td>\n",
              "      <td>SFO</td>\n",
              "    </tr>\n",
              "  </tbody>\n",
              "</table>\n",
              "</div>"
            ],
            "text/plain": [
              "   carrier tailnum origin dest\n",
              "0       10  N455WN    PDX  SMF\n",
              "1        3  N699DL    SEA  JNU\n",
              "2        1  N442AS    SEA  LAS\n",
              "3        0  N3CTAA    SEA  DFW\n",
              "4        1  N754AS    SEA  SFO"
            ]
          },
          "metadata": {
            "tags": []
          },
          "execution_count": 100
        }
      ]
    },
    {
      "cell_type": "code",
      "metadata": {
        "id": "Lw_r8chSm1VB",
        "outputId": "63837ed5-930c-4cb1-a49c-c015f687c657",
        "colab": {
          "base_uri": "https://localhost:8080/",
          "height": 218
        }
      },
      "source": [
        "cat_df_flights_lc['carrier'].value_counts()"
      ],
      "execution_count": null,
      "outputs": [
        {
          "output_type": "execute_result",
          "data": {
            "text/plain": [
              "1     6181\n",
              "10    2362\n",
              "6     1891\n",
              "3     1695\n",
              "7     1666\n",
              "0      758\n",
              "8      601\n",
              "2      336\n",
              "9      331\n",
              "4      275\n",
              "5      109\n",
              "Name: carrier, dtype: int64"
            ]
          },
          "metadata": {
            "tags": []
          },
          "execution_count": 110
        }
      ]
    },
    {
      "cell_type": "markdown",
      "metadata": {
        "id": "DPw09jrWTgGu"
      },
      "source": [
        "- The **labels** are **alphabetically labeled** from **0 to 10**."
      ]
    },
    {
      "cell_type": "markdown",
      "metadata": {
        "id": "w3JMyyadT_Yw"
      },
      "source": [
        "#### **Using np.where**"
      ]
    },
    {
      "cell_type": "markdown",
      "metadata": {
        "id": "iut-diH3kmDt"
      },
      "source": [
        "- Sometimes, we might just want to **encode** a **bunch** of **categories** within a feature **to some numeric value** and **encode** all the **other categories** to some **other numeric value**.\n",
        "\n",
        "- We can do this by using numpy's **where()** function.\n",
        "\n",
        "- We will encode all the **US carrier flights** to value **1** and **other carriers** to value **0**.\n",
        "\n",
        "  - This will **create** a **new column** in your DataFrame with the encodings.\n",
        "  \n",
        "  - Later, if we want to **drop** the **original column**, you can do so by using the **drop()** function in pandas."
      ]
    },
    {
      "cell_type": "code",
      "metadata": {
        "id": "RAC8Vw7aTm67"
      },
      "source": [
        "cat_df_flights_specific = cat_df_flights.copy()"
      ],
      "execution_count": null,
      "outputs": []
    },
    {
      "cell_type": "markdown",
      "metadata": {
        "id": "E-Uml1pBTo1I"
      },
      "source": [
        "- If the **carrier** value **contains US**, **replace** it **with 1**.\n",
        "\n",
        "- **Otherwise**, **replace** the carrier value **with 0**.\n",
        "\n",
        "- And, **save** the **outputs** in `US_code` columns in the Dataframe."
      ]
    },
    {
      "cell_type": "code",
      "metadata": {
        "id": "FIMtVLzVTgby",
        "outputId": "f0722484-102d-4069-efeb-0fe7987d6943",
        "colab": {
          "base_uri": "https://localhost:8080/",
          "height": 195
        }
      },
      "source": [
        "cat_df_flights_specific['US_code'] = np.where(cat_df_flights_specific['carrier'].str.contains('US'), 1, 0)\n",
        "cat_df_flights_specific.head()"
      ],
      "execution_count": null,
      "outputs": [
        {
          "output_type": "execute_result",
          "data": {
            "text/html": [
              "<div>\n",
              "<style scoped>\n",
              "    .dataframe tbody tr th:only-of-type {\n",
              "        vertical-align: middle;\n",
              "    }\n",
              "\n",
              "    .dataframe tbody tr th {\n",
              "        vertical-align: top;\n",
              "    }\n",
              "\n",
              "    .dataframe thead th {\n",
              "        text-align: right;\n",
              "    }\n",
              "</style>\n",
              "<table border=\"1\" class=\"dataframe\">\n",
              "  <thead>\n",
              "    <tr style=\"text-align: right;\">\n",
              "      <th></th>\n",
              "      <th>carrier</th>\n",
              "      <th>tailnum</th>\n",
              "      <th>origin</th>\n",
              "      <th>dest</th>\n",
              "      <th>US_code</th>\n",
              "    </tr>\n",
              "  </thead>\n",
              "  <tbody>\n",
              "    <tr>\n",
              "      <th>0</th>\n",
              "      <td>WN</td>\n",
              "      <td>N455WN</td>\n",
              "      <td>PDX</td>\n",
              "      <td>SMF</td>\n",
              "      <td>0</td>\n",
              "    </tr>\n",
              "    <tr>\n",
              "      <th>1</th>\n",
              "      <td>DL</td>\n",
              "      <td>N699DL</td>\n",
              "      <td>SEA</td>\n",
              "      <td>JNU</td>\n",
              "      <td>0</td>\n",
              "    </tr>\n",
              "    <tr>\n",
              "      <th>2</th>\n",
              "      <td>AS</td>\n",
              "      <td>N442AS</td>\n",
              "      <td>SEA</td>\n",
              "      <td>LAS</td>\n",
              "      <td>0</td>\n",
              "    </tr>\n",
              "    <tr>\n",
              "      <th>3</th>\n",
              "      <td>AA</td>\n",
              "      <td>N3CTAA</td>\n",
              "      <td>SEA</td>\n",
              "      <td>DFW</td>\n",
              "      <td>0</td>\n",
              "    </tr>\n",
              "    <tr>\n",
              "      <th>4</th>\n",
              "      <td>AS</td>\n",
              "      <td>N754AS</td>\n",
              "      <td>SEA</td>\n",
              "      <td>SFO</td>\n",
              "      <td>0</td>\n",
              "    </tr>\n",
              "  </tbody>\n",
              "</table>\n",
              "</div>"
            ],
            "text/plain": [
              "  carrier tailnum origin dest  US_code\n",
              "0      WN  N455WN    PDX  SMF        0\n",
              "1      DL  N699DL    SEA  JNU        0\n",
              "2      AS  N442AS    SEA  LAS        0\n",
              "3      AA  N3CTAA    SEA  DFW        0\n",
              "4      AS  N754AS    SEA  SFO        0"
            ]
          },
          "metadata": {
            "tags": []
          },
          "execution_count": 102
        }
      ]
    },
    {
      "cell_type": "code",
      "metadata": {
        "id": "KFPwdM47l6tc",
        "outputId": "0ff11ce2-98e6-42ed-e002-4a21edada6d4",
        "colab": {
          "base_uri": "https://localhost:8080/",
          "height": 67
        }
      },
      "source": [
        "cat_df_flights_specific['US_code'].value_counts()"
      ],
      "execution_count": null,
      "outputs": [
        {
          "output_type": "execute_result",
          "data": {
            "text/plain": [
              "0    15604\n",
              "1      601\n",
              "Name: US_code, dtype: int64"
            ]
          },
          "metadata": {
            "tags": []
          },
          "execution_count": 103
        }
      ]
    },
    {
      "cell_type": "markdown",
      "metadata": {
        "id": "HnTfm4sGmFnS"
      },
      "source": [
        "- The column contains **two** labels **0** and **1**."
      ]
    },
    {
      "cell_type": "markdown",
      "metadata": {
        "id": "wyp9z6z1UDGJ"
      },
      "source": [
        "#### **Using LabelEncoder**"
      ]
    },
    {
      "cell_type": "code",
      "metadata": {
        "id": "O4_aywumTxOX"
      },
      "source": [
        "from sklearn.preprocessing import LabelEncoder"
      ],
      "execution_count": null,
      "outputs": []
    },
    {
      "cell_type": "code",
      "metadata": {
        "id": "EnBbcm8KTvfa"
      },
      "source": [
        "cat_df_flights_sklearn = cat_df_flights.copy()"
      ],
      "execution_count": null,
      "outputs": []
    },
    {
      "cell_type": "code",
      "metadata": {
        "id": "oeqEl5HHTtmW"
      },
      "source": [
        "lb_make = LabelEncoder()\n",
        "cat_df_flights_sklearn['carrier_code'] = lb_make.fit_transform(cat_df_flights['carrier'])"
      ],
      "execution_count": null,
      "outputs": []
    },
    {
      "cell_type": "code",
      "metadata": {
        "id": "omM2YKAdUKdh",
        "outputId": "fd5dca23-9275-45f7-b0e6-fb6f646666c3",
        "colab": {
          "base_uri": "https://localhost:8080/",
          "height": 195
        }
      },
      "source": [
        "# Results in a new column in the df\n",
        "cat_df_flights_sklearn.head()"
      ],
      "execution_count": null,
      "outputs": [
        {
          "output_type": "execute_result",
          "data": {
            "text/html": [
              "<div>\n",
              "<style scoped>\n",
              "    .dataframe tbody tr th:only-of-type {\n",
              "        vertical-align: middle;\n",
              "    }\n",
              "\n",
              "    .dataframe tbody tr th {\n",
              "        vertical-align: top;\n",
              "    }\n",
              "\n",
              "    .dataframe thead th {\n",
              "        text-align: right;\n",
              "    }\n",
              "</style>\n",
              "<table border=\"1\" class=\"dataframe\">\n",
              "  <thead>\n",
              "    <tr style=\"text-align: right;\">\n",
              "      <th></th>\n",
              "      <th>carrier</th>\n",
              "      <th>tailnum</th>\n",
              "      <th>origin</th>\n",
              "      <th>dest</th>\n",
              "      <th>carrier_code</th>\n",
              "    </tr>\n",
              "  </thead>\n",
              "  <tbody>\n",
              "    <tr>\n",
              "      <th>0</th>\n",
              "      <td>WN</td>\n",
              "      <td>N455WN</td>\n",
              "      <td>PDX</td>\n",
              "      <td>SMF</td>\n",
              "      <td>10</td>\n",
              "    </tr>\n",
              "    <tr>\n",
              "      <th>1</th>\n",
              "      <td>DL</td>\n",
              "      <td>N699DL</td>\n",
              "      <td>SEA</td>\n",
              "      <td>JNU</td>\n",
              "      <td>3</td>\n",
              "    </tr>\n",
              "    <tr>\n",
              "      <th>2</th>\n",
              "      <td>AS</td>\n",
              "      <td>N442AS</td>\n",
              "      <td>SEA</td>\n",
              "      <td>LAS</td>\n",
              "      <td>1</td>\n",
              "    </tr>\n",
              "    <tr>\n",
              "      <th>3</th>\n",
              "      <td>AA</td>\n",
              "      <td>N3CTAA</td>\n",
              "      <td>SEA</td>\n",
              "      <td>DFW</td>\n",
              "      <td>0</td>\n",
              "    </tr>\n",
              "    <tr>\n",
              "      <th>4</th>\n",
              "      <td>AS</td>\n",
              "      <td>N754AS</td>\n",
              "      <td>SEA</td>\n",
              "      <td>SFO</td>\n",
              "      <td>1</td>\n",
              "    </tr>\n",
              "  </tbody>\n",
              "</table>\n",
              "</div>"
            ],
            "text/plain": [
              "  carrier tailnum origin dest  carrier_code\n",
              "0      WN  N455WN    PDX  SMF            10\n",
              "1      DL  N699DL    SEA  JNU             3\n",
              "2      AS  N442AS    SEA  LAS             1\n",
              "3      AA  N3CTAA    SEA  DFW             0\n",
              "4      AS  N754AS    SEA  SFO             1"
            ]
          },
          "metadata": {
            "tags": []
          },
          "execution_count": 107
        }
      ]
    },
    {
      "cell_type": "code",
      "metadata": {
        "id": "WHwAy8l5ms87",
        "outputId": "7513a70e-6a67-43dd-91f4-5e22d3d71380",
        "colab": {
          "base_uri": "https://localhost:8080/",
          "height": 218
        }
      },
      "source": [
        "cat_df_flights_sklearn['carrier_code'].value_counts()"
      ],
      "execution_count": null,
      "outputs": [
        {
          "output_type": "execute_result",
          "data": {
            "text/plain": [
              "1     6181\n",
              "10    2362\n",
              "6     1891\n",
              "3     1695\n",
              "7     1666\n",
              "0      758\n",
              "8      601\n",
              "2      336\n",
              "9      331\n",
              "4      275\n",
              "5      109\n",
              "Name: carrier_code, dtype: int64"
            ]
          },
          "metadata": {
            "tags": []
          },
          "execution_count": 109
        }
      ]
    },
    {
      "cell_type": "markdown",
      "metadata": {
        "id": "J398L9ttTurv"
      },
      "source": [
        "- The categories are labeled from **0 to 10**."
      ]
    },
    {
      "cell_type": "markdown",
      "metadata": {
        "id": "h42pKOpCmQ8B"
      },
      "source": [
        "- **Label encoding** is pretty much **intuitive** and **straight-forward** and may give you a **good performance** from your learning algorithm.\n",
        "\n",
        "- But it has as **disadvantage** that the **numerical values** can be **misinterpreted** by the algorithm.\n",
        "\n",
        "  - **Should** the carrier **US** (encoded to **8**) be given **8x more weight than** the carrier **AS** (encoded to **1**) ?"
      ]
    },
    {
      "cell_type": "markdown",
      "metadata": {
        "id": "kxWYByyQUcq5"
      },
      "source": [
        "<a id = Section4></a>\n",
        "### **4. One-Hot Encoding**"
      ]
    },
    {
      "cell_type": "markdown",
      "metadata": {
        "id": "xwxvTjV2Ui7z"
      },
      "source": [
        "- The basic strategy is to **convert each category value** into a **new column** and **assign a 1 or 0** (True/False) **value** to the column.\n",
        "\n",
        "- This has the **benefit** of **not weighting** a **value improperly**."
      ]
    },
    {
      "cell_type": "markdown",
      "metadata": {
        "id": "48915Xb9WccR"
      },
      "source": [
        "#### **Using pd.get_dummies()**"
      ]
    },
    {
      "cell_type": "markdown",
      "metadata": {
        "id": "faKqAvqzqdxR"
      },
      "source": [
        "- There are many libraries out there that support one-hot encoding but the **simplest** one is using pandas' `.get_dummies()` method.\n",
        "\n",
        "- This function is **named** this way because it **creates dummy/indicator variables** (**1 or 0**).\n",
        "\n",
        "- There are **mainly three arguments** important here:\n",
        "  \n",
        "  - The **first** one is the **DataFrame** you want to encode on.\n",
        "  \n",
        "  - **Second** being the **columns** argument which lets you **specify** the **columns** you want to do **encoding** on.\n",
        "  \n",
        "  - And third, the **prefix** argument which lets you **specify** the **prefix** for the **new columns** that will be created after encoding."
      ]
    },
    {
      "cell_type": "code",
      "metadata": {
        "id": "s7npmnavrDn9"
      },
      "source": [
        "cat_df_flights_onehot = cat_df_flights.copy()"
      ],
      "execution_count": null,
      "outputs": []
    },
    {
      "cell_type": "code",
      "metadata": {
        "id": "Kd4oz3MZUh7D",
        "outputId": "7a724b47-4750-4bce-96ab-774f35485767",
        "colab": {
          "base_uri": "https://localhost:8080/",
          "height": 215
        }
      },
      "source": [
        "cat_df_flights_onehot = pd.get_dummies(cat_df_flights_onehot, columns=['carrier'], prefix=['carrier'])\n",
        "cat_df_flights_onehot.head()"
      ],
      "execution_count": null,
      "outputs": [
        {
          "output_type": "execute_result",
          "data": {
            "text/html": [
              "<div>\n",
              "<style scoped>\n",
              "    .dataframe tbody tr th:only-of-type {\n",
              "        vertical-align: middle;\n",
              "    }\n",
              "\n",
              "    .dataframe tbody tr th {\n",
              "        vertical-align: top;\n",
              "    }\n",
              "\n",
              "    .dataframe thead th {\n",
              "        text-align: right;\n",
              "    }\n",
              "</style>\n",
              "<table border=\"1\" class=\"dataframe\">\n",
              "  <thead>\n",
              "    <tr style=\"text-align: right;\">\n",
              "      <th></th>\n",
              "      <th>tailnum</th>\n",
              "      <th>origin</th>\n",
              "      <th>dest</th>\n",
              "      <th>carrier_AA</th>\n",
              "      <th>carrier_AS</th>\n",
              "      <th>carrier_B6</th>\n",
              "      <th>carrier_DL</th>\n",
              "      <th>carrier_F9</th>\n",
              "      <th>carrier_HA</th>\n",
              "      <th>carrier_OO</th>\n",
              "      <th>carrier_UA</th>\n",
              "      <th>carrier_US</th>\n",
              "      <th>carrier_VX</th>\n",
              "      <th>carrier_WN</th>\n",
              "    </tr>\n",
              "  </thead>\n",
              "  <tbody>\n",
              "    <tr>\n",
              "      <th>0</th>\n",
              "      <td>N455WN</td>\n",
              "      <td>PDX</td>\n",
              "      <td>SMF</td>\n",
              "      <td>0</td>\n",
              "      <td>0</td>\n",
              "      <td>0</td>\n",
              "      <td>0</td>\n",
              "      <td>0</td>\n",
              "      <td>0</td>\n",
              "      <td>0</td>\n",
              "      <td>0</td>\n",
              "      <td>0</td>\n",
              "      <td>0</td>\n",
              "      <td>1</td>\n",
              "    </tr>\n",
              "    <tr>\n",
              "      <th>1</th>\n",
              "      <td>N699DL</td>\n",
              "      <td>SEA</td>\n",
              "      <td>JNU</td>\n",
              "      <td>0</td>\n",
              "      <td>0</td>\n",
              "      <td>0</td>\n",
              "      <td>1</td>\n",
              "      <td>0</td>\n",
              "      <td>0</td>\n",
              "      <td>0</td>\n",
              "      <td>0</td>\n",
              "      <td>0</td>\n",
              "      <td>0</td>\n",
              "      <td>0</td>\n",
              "    </tr>\n",
              "    <tr>\n",
              "      <th>2</th>\n",
              "      <td>N442AS</td>\n",
              "      <td>SEA</td>\n",
              "      <td>LAS</td>\n",
              "      <td>0</td>\n",
              "      <td>1</td>\n",
              "      <td>0</td>\n",
              "      <td>0</td>\n",
              "      <td>0</td>\n",
              "      <td>0</td>\n",
              "      <td>0</td>\n",
              "      <td>0</td>\n",
              "      <td>0</td>\n",
              "      <td>0</td>\n",
              "      <td>0</td>\n",
              "    </tr>\n",
              "    <tr>\n",
              "      <th>3</th>\n",
              "      <td>N3CTAA</td>\n",
              "      <td>SEA</td>\n",
              "      <td>DFW</td>\n",
              "      <td>1</td>\n",
              "      <td>0</td>\n",
              "      <td>0</td>\n",
              "      <td>0</td>\n",
              "      <td>0</td>\n",
              "      <td>0</td>\n",
              "      <td>0</td>\n",
              "      <td>0</td>\n",
              "      <td>0</td>\n",
              "      <td>0</td>\n",
              "      <td>0</td>\n",
              "    </tr>\n",
              "    <tr>\n",
              "      <th>4</th>\n",
              "      <td>N754AS</td>\n",
              "      <td>SEA</td>\n",
              "      <td>SFO</td>\n",
              "      <td>0</td>\n",
              "      <td>1</td>\n",
              "      <td>0</td>\n",
              "      <td>0</td>\n",
              "      <td>0</td>\n",
              "      <td>0</td>\n",
              "      <td>0</td>\n",
              "      <td>0</td>\n",
              "      <td>0</td>\n",
              "      <td>0</td>\n",
              "      <td>0</td>\n",
              "    </tr>\n",
              "  </tbody>\n",
              "</table>\n",
              "</div>"
            ],
            "text/plain": [
              "  tailnum origin dest  ...  carrier_US  carrier_VX  carrier_WN\n",
              "0  N455WN    PDX  SMF  ...           0           0           1\n",
              "1  N699DL    SEA  JNU  ...           0           0           0\n",
              "2  N442AS    SEA  LAS  ...           0           0           0\n",
              "3  N3CTAA    SEA  DFW  ...           0           0           0\n",
              "4  N754AS    SEA  SFO  ...           0           0           0\n",
              "\n",
              "[5 rows x 14 columns]"
            ]
          },
          "metadata": {
            "tags": []
          },
          "execution_count": 115
        }
      ]
    },
    {
      "cell_type": "markdown",
      "metadata": {
        "id": "P6jFBYicWtFZ"
      },
      "source": [
        "- As you can see, the column `carrier_AS` gets value **1** at the **0th** and **4th** observation points as those points had the **AS category** labeled in the **original DataFrame**.\n",
        "\n",
        "- Likewise for other columns also."
      ]
    },
    {
      "cell_type": "markdown",
      "metadata": {
        "id": "GyJxaBqtWtwr"
      },
      "source": [
        "**Using LabelBinarizer or OneHotEncoder**"
      ]
    },
    {
      "cell_type": "markdown",
      "metadata": {
        "id": "lCEMHt6Urlj4"
      },
      "source": [
        "- Scikit-learn also supports **one hot encoding** via `LabelBinarizer` and `OneHotEncoder` in its **preprocessing** module."
      ]
    },
    {
      "cell_type": "code",
      "metadata": {
        "id": "qHR758CdXIAz"
      },
      "source": [
        "from sklearn.preprocessing import LabelBinarizer"
      ],
      "execution_count": null,
      "outputs": []
    },
    {
      "cell_type": "code",
      "metadata": {
        "id": "E7L7Pow_XH7l"
      },
      "source": [
        "cat_df_flights_onehot_sklearn = cat_df_flights.copy()"
      ],
      "execution_count": null,
      "outputs": []
    },
    {
      "cell_type": "markdown",
      "metadata": {
        "id": "kOp5LWAEXPBe"
      },
      "source": [
        "- **Creating** `LabelBinarizer` object and **transforming** the `carrier` column."
      ]
    },
    {
      "cell_type": "code",
      "metadata": {
        "id": "GYLIKUgfXH2n"
      },
      "source": [
        "lb = LabelBinarizer()\n",
        "lb_results = lb.fit_transform(cat_df_flights_onehot_sklearn['carrier'])"
      ],
      "execution_count": null,
      "outputs": []
    },
    {
      "cell_type": "code",
      "metadata": {
        "id": "dZc4yj8ZUiHj",
        "outputId": "df1eb88a-33ea-48f3-b762-085965892053",
        "colab": {
          "base_uri": "https://localhost:8080/",
          "height": 195
        }
      },
      "source": [
        "lb_results_df = pd.DataFrame(lb_results, columns=lb.classes_)\n",
        "lb_results_df.head()"
      ],
      "execution_count": null,
      "outputs": [
        {
          "output_type": "execute_result",
          "data": {
            "text/html": [
              "<div>\n",
              "<style scoped>\n",
              "    .dataframe tbody tr th:only-of-type {\n",
              "        vertical-align: middle;\n",
              "    }\n",
              "\n",
              "    .dataframe tbody tr th {\n",
              "        vertical-align: top;\n",
              "    }\n",
              "\n",
              "    .dataframe thead th {\n",
              "        text-align: right;\n",
              "    }\n",
              "</style>\n",
              "<table border=\"1\" class=\"dataframe\">\n",
              "  <thead>\n",
              "    <tr style=\"text-align: right;\">\n",
              "      <th></th>\n",
              "      <th>AA</th>\n",
              "      <th>AS</th>\n",
              "      <th>B6</th>\n",
              "      <th>DL</th>\n",
              "      <th>F9</th>\n",
              "      <th>HA</th>\n",
              "      <th>OO</th>\n",
              "      <th>UA</th>\n",
              "      <th>US</th>\n",
              "      <th>VX</th>\n",
              "      <th>WN</th>\n",
              "    </tr>\n",
              "  </thead>\n",
              "  <tbody>\n",
              "    <tr>\n",
              "      <th>0</th>\n",
              "      <td>0</td>\n",
              "      <td>0</td>\n",
              "      <td>0</td>\n",
              "      <td>0</td>\n",
              "      <td>0</td>\n",
              "      <td>0</td>\n",
              "      <td>0</td>\n",
              "      <td>0</td>\n",
              "      <td>0</td>\n",
              "      <td>0</td>\n",
              "      <td>1</td>\n",
              "    </tr>\n",
              "    <tr>\n",
              "      <th>1</th>\n",
              "      <td>0</td>\n",
              "      <td>0</td>\n",
              "      <td>0</td>\n",
              "      <td>1</td>\n",
              "      <td>0</td>\n",
              "      <td>0</td>\n",
              "      <td>0</td>\n",
              "      <td>0</td>\n",
              "      <td>0</td>\n",
              "      <td>0</td>\n",
              "      <td>0</td>\n",
              "    </tr>\n",
              "    <tr>\n",
              "      <th>2</th>\n",
              "      <td>0</td>\n",
              "      <td>1</td>\n",
              "      <td>0</td>\n",
              "      <td>0</td>\n",
              "      <td>0</td>\n",
              "      <td>0</td>\n",
              "      <td>0</td>\n",
              "      <td>0</td>\n",
              "      <td>0</td>\n",
              "      <td>0</td>\n",
              "      <td>0</td>\n",
              "    </tr>\n",
              "    <tr>\n",
              "      <th>3</th>\n",
              "      <td>1</td>\n",
              "      <td>0</td>\n",
              "      <td>0</td>\n",
              "      <td>0</td>\n",
              "      <td>0</td>\n",
              "      <td>0</td>\n",
              "      <td>0</td>\n",
              "      <td>0</td>\n",
              "      <td>0</td>\n",
              "      <td>0</td>\n",
              "      <td>0</td>\n",
              "    </tr>\n",
              "    <tr>\n",
              "      <th>4</th>\n",
              "      <td>0</td>\n",
              "      <td>1</td>\n",
              "      <td>0</td>\n",
              "      <td>0</td>\n",
              "      <td>0</td>\n",
              "      <td>0</td>\n",
              "      <td>0</td>\n",
              "      <td>0</td>\n",
              "      <td>0</td>\n",
              "      <td>0</td>\n",
              "      <td>0</td>\n",
              "    </tr>\n",
              "  </tbody>\n",
              "</table>\n",
              "</div>"
            ],
            "text/plain": [
              "   AA  AS  B6  DL  F9  HA  OO  UA  US  VX  WN\n",
              "0   0   0   0   0   0   0   0   0   0   0   1\n",
              "1   0   0   0   1   0   0   0   0   0   0   0\n",
              "2   0   1   0   0   0   0   0   0   0   0   0\n",
              "3   1   0   0   0   0   0   0   0   0   0   0\n",
              "4   0   1   0   0   0   0   0   0   0   0   0"
            ]
          },
          "metadata": {
            "tags": []
          },
          "execution_count": 120
        }
      ]
    },
    {
      "cell_type": "markdown",
      "metadata": {
        "id": "OjgKgRZcUhzb"
      },
      "source": [
        "- Note that this **lb_results_df** resulted in a new DataFrame with only the one hot encodings for the feature carrier.\n",
        "\n",
        "- This needs to be **concatenated** back with the original DataFrame, which can be done via pandas' `.concat()` method.\n",
        "\n",
        "  - The **axis** argument is set to **1** as you want to **merge** on **columns**.\n",
        "\n",
        "- **Concatenating** the **one-hot encoded values** with the **original** dataframe."
      ]
    },
    {
      "cell_type": "code",
      "metadata": {
        "id": "nqKrv5qJXTKJ",
        "outputId": "545bb045-3049-407b-870a-dcc428f7135b",
        "colab": {
          "base_uri": "https://localhost:8080/",
          "height": 195
        }
      },
      "source": [
        "result_df = pd.concat([cat_df_flights_onehot_sklearn, lb_results_df], axis=1)\n",
        "result_df.head()"
      ],
      "execution_count": null,
      "outputs": [
        {
          "output_type": "execute_result",
          "data": {
            "text/html": [
              "<div>\n",
              "<style scoped>\n",
              "    .dataframe tbody tr th:only-of-type {\n",
              "        vertical-align: middle;\n",
              "    }\n",
              "\n",
              "    .dataframe tbody tr th {\n",
              "        vertical-align: top;\n",
              "    }\n",
              "\n",
              "    .dataframe thead th {\n",
              "        text-align: right;\n",
              "    }\n",
              "</style>\n",
              "<table border=\"1\" class=\"dataframe\">\n",
              "  <thead>\n",
              "    <tr style=\"text-align: right;\">\n",
              "      <th></th>\n",
              "      <th>carrier</th>\n",
              "      <th>tailnum</th>\n",
              "      <th>origin</th>\n",
              "      <th>dest</th>\n",
              "      <th>AA</th>\n",
              "      <th>AS</th>\n",
              "      <th>B6</th>\n",
              "      <th>DL</th>\n",
              "      <th>F9</th>\n",
              "      <th>HA</th>\n",
              "      <th>OO</th>\n",
              "      <th>UA</th>\n",
              "      <th>US</th>\n",
              "      <th>VX</th>\n",
              "      <th>WN</th>\n",
              "    </tr>\n",
              "  </thead>\n",
              "  <tbody>\n",
              "    <tr>\n",
              "      <th>0</th>\n",
              "      <td>WN</td>\n",
              "      <td>N455WN</td>\n",
              "      <td>PDX</td>\n",
              "      <td>SMF</td>\n",
              "      <td>0</td>\n",
              "      <td>0</td>\n",
              "      <td>0</td>\n",
              "      <td>0</td>\n",
              "      <td>0</td>\n",
              "      <td>0</td>\n",
              "      <td>0</td>\n",
              "      <td>0</td>\n",
              "      <td>0</td>\n",
              "      <td>0</td>\n",
              "      <td>1</td>\n",
              "    </tr>\n",
              "    <tr>\n",
              "      <th>1</th>\n",
              "      <td>DL</td>\n",
              "      <td>N699DL</td>\n",
              "      <td>SEA</td>\n",
              "      <td>JNU</td>\n",
              "      <td>0</td>\n",
              "      <td>0</td>\n",
              "      <td>0</td>\n",
              "      <td>1</td>\n",
              "      <td>0</td>\n",
              "      <td>0</td>\n",
              "      <td>0</td>\n",
              "      <td>0</td>\n",
              "      <td>0</td>\n",
              "      <td>0</td>\n",
              "      <td>0</td>\n",
              "    </tr>\n",
              "    <tr>\n",
              "      <th>2</th>\n",
              "      <td>AS</td>\n",
              "      <td>N442AS</td>\n",
              "      <td>SEA</td>\n",
              "      <td>LAS</td>\n",
              "      <td>0</td>\n",
              "      <td>1</td>\n",
              "      <td>0</td>\n",
              "      <td>0</td>\n",
              "      <td>0</td>\n",
              "      <td>0</td>\n",
              "      <td>0</td>\n",
              "      <td>0</td>\n",
              "      <td>0</td>\n",
              "      <td>0</td>\n",
              "      <td>0</td>\n",
              "    </tr>\n",
              "    <tr>\n",
              "      <th>3</th>\n",
              "      <td>AA</td>\n",
              "      <td>N3CTAA</td>\n",
              "      <td>SEA</td>\n",
              "      <td>DFW</td>\n",
              "      <td>1</td>\n",
              "      <td>0</td>\n",
              "      <td>0</td>\n",
              "      <td>0</td>\n",
              "      <td>0</td>\n",
              "      <td>0</td>\n",
              "      <td>0</td>\n",
              "      <td>0</td>\n",
              "      <td>0</td>\n",
              "      <td>0</td>\n",
              "      <td>0</td>\n",
              "    </tr>\n",
              "    <tr>\n",
              "      <th>4</th>\n",
              "      <td>AS</td>\n",
              "      <td>N754AS</td>\n",
              "      <td>SEA</td>\n",
              "      <td>SFO</td>\n",
              "      <td>0</td>\n",
              "      <td>1</td>\n",
              "      <td>0</td>\n",
              "      <td>0</td>\n",
              "      <td>0</td>\n",
              "      <td>0</td>\n",
              "      <td>0</td>\n",
              "      <td>0</td>\n",
              "      <td>0</td>\n",
              "      <td>0</td>\n",
              "      <td>0</td>\n",
              "    </tr>\n",
              "  </tbody>\n",
              "</table>\n",
              "</div>"
            ],
            "text/plain": [
              "  carrier tailnum origin dest  AA  AS  B6  DL  F9  HA  OO  UA  US  VX  WN\n",
              "0      WN  N455WN    PDX  SMF   0   0   0   0   0   0   0   0   0   0   1\n",
              "1      DL  N699DL    SEA  JNU   0   0   0   1   0   0   0   0   0   0   0\n",
              "2      AS  N442AS    SEA  LAS   0   1   0   0   0   0   0   0   0   0   0\n",
              "3      AA  N3CTAA    SEA  DFW   1   0   0   0   0   0   0   0   0   0   0\n",
              "4      AS  N754AS    SEA  SFO   0   1   0   0   0   0   0   0   0   0   0"
            ]
          },
          "metadata": {
            "tags": []
          },
          "execution_count": 121
        }
      ]
    },
    {
      "cell_type": "markdown",
      "metadata": {
        "id": "nxZiDO-6samN"
      },
      "source": [
        "- While one-hot encoding **solves** the **problem of unequal weights** given to **categories** within a feature.\n",
        "\n",
        "- It is **not very useful** when there are **many categories**, as that will result in **formation** of as **many new columns**, which can result in the **curse of dimensionality**."
      ]
    },
    {
      "cell_type": "markdown",
      "metadata": {
        "id": "Jh6u-o-NUjpd"
      },
      "source": [
        "<a id = Section5></a>\n",
        "### **5. Binary Encoding**"
      ]
    },
    {
      "cell_type": "markdown",
      "metadata": {
        "id": "TlaZuYf8U1KZ"
      },
      "source": [
        "- In this technique, **first** the **categories** are **encoded** as **ordinal**, then those **integers** are **converted** into **binary** code, then the **digits** from that **binary** string are **split** into separate columns.\n",
        "\n",
        "- This **encodes** the data in **fewer dimensions** than one-hot.\n",
        "\n",
        "- You can do binary encoding via a number of ways but the **simplest** one is using the **category_encoders** library."
      ]
    },
    {
      "cell_type": "markdown",
      "metadata": {
        "id": "laJVB2bQXdqc"
      },
      "source": [
        "**Installing category_encoders library**"
      ]
    },
    {
      "cell_type": "code",
      "metadata": {
        "id": "puNbZPOlXYRZ",
        "outputId": "2b3f8b28-d19c-42aa-8797-d2ee024fe93c",
        "colab": {
          "base_uri": "https://localhost:8080/",
          "height": 289
        }
      },
      "source": [
        "!pip install category_encoders"
      ],
      "execution_count": null,
      "outputs": [
        {
          "output_type": "stream",
          "text": [
            "Collecting category_encoders\n",
            "\u001b[?25l  Downloading https://files.pythonhosted.org/packages/44/57/fcef41c248701ee62e8325026b90c432adea35555cbc870aff9cfba23727/category_encoders-2.2.2-py2.py3-none-any.whl (80kB)\n",
            "\r\u001b[K     |████                            | 10kB 16.0MB/s eta 0:00:01\r\u001b[K     |████████▏                       | 20kB 1.7MB/s eta 0:00:01\r\u001b[K     |████████████▏                   | 30kB 2.2MB/s eta 0:00:01\r\u001b[K     |████████████████▎               | 40kB 2.4MB/s eta 0:00:01\r\u001b[K     |████████████████████▎           | 51kB 2.0MB/s eta 0:00:01\r\u001b[K     |████████████████████████▍       | 61kB 2.2MB/s eta 0:00:01\r\u001b[K     |████████████████████████████▍   | 71kB 2.4MB/s eta 0:00:01\r\u001b[K     |████████████████████████████████| 81kB 2.2MB/s \n",
            "\u001b[?25hRequirement already satisfied: pandas>=0.21.1 in /usr/local/lib/python3.6/dist-packages (from category_encoders) (1.0.4)\n",
            "Requirement already satisfied: patsy>=0.5.1 in /usr/local/lib/python3.6/dist-packages (from category_encoders) (0.5.1)\n",
            "Requirement already satisfied: scikit-learn>=0.20.0 in /usr/local/lib/python3.6/dist-packages (from category_encoders) (0.22.2.post1)\n",
            "Requirement already satisfied: statsmodels>=0.9.0 in /usr/local/lib/python3.6/dist-packages (from category_encoders) (0.10.2)\n",
            "Requirement already satisfied: numpy>=1.14.0 in /usr/local/lib/python3.6/dist-packages (from category_encoders) (1.18.4)\n",
            "Requirement already satisfied: scipy>=1.0.0 in /usr/local/lib/python3.6/dist-packages (from category_encoders) (1.4.1)\n",
            "Requirement already satisfied: python-dateutil>=2.6.1 in /usr/local/lib/python3.6/dist-packages (from pandas>=0.21.1->category_encoders) (2.8.1)\n",
            "Requirement already satisfied: pytz>=2017.2 in /usr/local/lib/python3.6/dist-packages (from pandas>=0.21.1->category_encoders) (2018.9)\n",
            "Requirement already satisfied: six in /usr/local/lib/python3.6/dist-packages (from patsy>=0.5.1->category_encoders) (1.12.0)\n",
            "Requirement already satisfied: joblib>=0.11 in /usr/local/lib/python3.6/dist-packages (from scikit-learn>=0.20.0->category_encoders) (0.15.1)\n",
            "Installing collected packages: category-encoders\n",
            "Successfully installed category-encoders-2.2.2\n"
          ],
          "name": "stdout"
        }
      ]
    },
    {
      "cell_type": "markdown",
      "metadata": {
        "id": "6cywybPMXeQO"
      },
      "source": [
        "**Note:** You might need to restart the kernel after installing the library in order to use it."
      ]
    },
    {
      "cell_type": "code",
      "metadata": {
        "id": "u_u9uF36XZcH"
      },
      "source": [
        "import category_encoders as ce"
      ],
      "execution_count": null,
      "outputs": []
    },
    {
      "cell_type": "code",
      "metadata": {
        "id": "D5lxXrZoXcgS"
      },
      "source": [
        "cat_df_flights_ce = cat_df_flights.copy()"
      ],
      "execution_count": null,
      "outputs": []
    },
    {
      "cell_type": "markdown",
      "metadata": {
        "id": "rSKib0P1XpO8"
      },
      "source": [
        "- Using `BinaryEncoder` of **category_encoders** library to perform **binary encoding** on the `carrier` column."
      ]
    },
    {
      "cell_type": "code",
      "metadata": {
        "id": "w5wNMuUxU1Ka"
      },
      "source": [
        "encoder = ce.BinaryEncoder(cols=['carrier'])\n",
        "df_binary = encoder.fit_transform(cat_df_flights_ce)"
      ],
      "execution_count": null,
      "outputs": []
    },
    {
      "cell_type": "code",
      "metadata": {
        "id": "qO4iVYmHU1Ke",
        "outputId": "c5adb935-4664-4814-c245-1b2a4d802b2d",
        "colab": {
          "base_uri": "https://localhost:8080/",
          "height": 195
        }
      },
      "source": [
        "df_binary.head()"
      ],
      "execution_count": null,
      "outputs": [
        {
          "output_type": "execute_result",
          "data": {
            "text/html": [
              "<div>\n",
              "<style scoped>\n",
              "    .dataframe tbody tr th:only-of-type {\n",
              "        vertical-align: middle;\n",
              "    }\n",
              "\n",
              "    .dataframe tbody tr th {\n",
              "        vertical-align: top;\n",
              "    }\n",
              "\n",
              "    .dataframe thead th {\n",
              "        text-align: right;\n",
              "    }\n",
              "</style>\n",
              "<table border=\"1\" class=\"dataframe\">\n",
              "  <thead>\n",
              "    <tr style=\"text-align: right;\">\n",
              "      <th></th>\n",
              "      <th>carrier_0</th>\n",
              "      <th>carrier_1</th>\n",
              "      <th>carrier_2</th>\n",
              "      <th>carrier_3</th>\n",
              "      <th>carrier_4</th>\n",
              "      <th>tailnum</th>\n",
              "      <th>origin</th>\n",
              "      <th>dest</th>\n",
              "    </tr>\n",
              "  </thead>\n",
              "  <tbody>\n",
              "    <tr>\n",
              "      <th>0</th>\n",
              "      <td>0</td>\n",
              "      <td>0</td>\n",
              "      <td>0</td>\n",
              "      <td>0</td>\n",
              "      <td>1</td>\n",
              "      <td>N455WN</td>\n",
              "      <td>PDX</td>\n",
              "      <td>SMF</td>\n",
              "    </tr>\n",
              "    <tr>\n",
              "      <th>1</th>\n",
              "      <td>0</td>\n",
              "      <td>0</td>\n",
              "      <td>0</td>\n",
              "      <td>1</td>\n",
              "      <td>0</td>\n",
              "      <td>N699DL</td>\n",
              "      <td>SEA</td>\n",
              "      <td>JNU</td>\n",
              "    </tr>\n",
              "    <tr>\n",
              "      <th>2</th>\n",
              "      <td>0</td>\n",
              "      <td>0</td>\n",
              "      <td>0</td>\n",
              "      <td>1</td>\n",
              "      <td>1</td>\n",
              "      <td>N442AS</td>\n",
              "      <td>SEA</td>\n",
              "      <td>LAS</td>\n",
              "    </tr>\n",
              "    <tr>\n",
              "      <th>3</th>\n",
              "      <td>0</td>\n",
              "      <td>0</td>\n",
              "      <td>1</td>\n",
              "      <td>0</td>\n",
              "      <td>0</td>\n",
              "      <td>N3CTAA</td>\n",
              "      <td>SEA</td>\n",
              "      <td>DFW</td>\n",
              "    </tr>\n",
              "    <tr>\n",
              "      <th>4</th>\n",
              "      <td>0</td>\n",
              "      <td>0</td>\n",
              "      <td>0</td>\n",
              "      <td>1</td>\n",
              "      <td>1</td>\n",
              "      <td>N754AS</td>\n",
              "      <td>SEA</td>\n",
              "      <td>SFO</td>\n",
              "    </tr>\n",
              "  </tbody>\n",
              "</table>\n",
              "</div>"
            ],
            "text/plain": [
              "   carrier_0  carrier_1  carrier_2  carrier_3  carrier_4 tailnum origin dest\n",
              "0          0          0          0          0          1  N455WN    PDX  SMF\n",
              "1          0          0          0          1          0  N699DL    SEA  JNU\n",
              "2          0          0          0          1          1  N442AS    SEA  LAS\n",
              "3          0          0          1          0          0  N3CTAA    SEA  DFW\n",
              "4          0          0          0          1          1  N754AS    SEA  SFO"
            ]
          },
          "metadata": {
            "tags": []
          },
          "execution_count": 126
        }
      ]
    },
    {
      "cell_type": "markdown",
      "metadata": {
        "id": "b_UlyBSQU1Kh"
      },
      "source": [
        "- The **four new columns** are **created in place of** the `carrier` column with **binary encoding** for **each category** in the feature."
      ]
    },
    {
      "cell_type": "markdown",
      "metadata": {
        "id": "A4IOkzsiUprJ"
      },
      "source": [
        "<a id = Section6></a>\n",
        "### **6. Backward Difference Encoding**"
      ]
    },
    {
      "cell_type": "markdown",
      "metadata": {
        "id": "SUXHqdM8U1sf"
      },
      "source": [
        "- This technique falls under the **contrast coding system** for categorical features.\n",
        "\n",
        "- A **feature** of **K categories**, or levels, usually **enters** a **regression** as a **sequence** of **K-1 dummy variables**.\n",
        "\n",
        "- In backward difference coding, the **mean** of the **dependent variable** for a **level** is **compared** with the **mean** of the **dependent variable** for the **prior level**.\n",
        "\n",
        "- This type of coding may be **useful** for a **nominal** or an **ordinal** variable."
      ]
    },
    {
      "cell_type": "markdown",
      "metadata": {
        "id": "wXozE2WBZlEF"
      },
      "source": [
        "**Installing category_encoders library**"
      ]
    },
    {
      "cell_type": "code",
      "metadata": {
        "id": "7hf7IGA6ZlEG"
      },
      "source": [
        "# !pip install category_encoders"
      ],
      "execution_count": null,
      "outputs": []
    },
    {
      "cell_type": "code",
      "metadata": {
        "id": "uXKSaWPxZZnE"
      },
      "source": [
        "import category_encoders as ce"
      ],
      "execution_count": null,
      "outputs": []
    },
    {
      "cell_type": "code",
      "metadata": {
        "id": "BSGhC4rNZZnA"
      },
      "source": [
        "cat_df_flights_ce = cat_df_flights.copy()"
      ],
      "execution_count": null,
      "outputs": []
    },
    {
      "cell_type": "markdown",
      "metadata": {
        "id": "-3fvW8tJZaw7"
      },
      "source": [
        "- Using `BackwardDifferenceEncoder` of **category_encoders** library to perform **backward difference encoding** on the `carrier` column."
      ]
    },
    {
      "cell_type": "code",
      "metadata": {
        "id": "8cfil7PSU1sg"
      },
      "source": [
        "encoder = ce.BackwardDifferenceEncoder(cols=['carrier'])\n",
        "df_bd = encoder.fit_transform(cat_df_flights_ce)"
      ],
      "execution_count": null,
      "outputs": []
    },
    {
      "cell_type": "code",
      "metadata": {
        "id": "csch01YtU1sj",
        "outputId": "36916758-c40f-4644-9872-bf6d62d7a599",
        "colab": {
          "base_uri": "https://localhost:8080/",
          "height": 215
        }
      },
      "source": [
        "df_bd.head()"
      ],
      "execution_count": null,
      "outputs": [
        {
          "output_type": "execute_result",
          "data": {
            "text/html": [
              "<div>\n",
              "<style scoped>\n",
              "    .dataframe tbody tr th:only-of-type {\n",
              "        vertical-align: middle;\n",
              "    }\n",
              "\n",
              "    .dataframe tbody tr th {\n",
              "        vertical-align: top;\n",
              "    }\n",
              "\n",
              "    .dataframe thead th {\n",
              "        text-align: right;\n",
              "    }\n",
              "</style>\n",
              "<table border=\"1\" class=\"dataframe\">\n",
              "  <thead>\n",
              "    <tr style=\"text-align: right;\">\n",
              "      <th></th>\n",
              "      <th>intercept</th>\n",
              "      <th>carrier_0</th>\n",
              "      <th>carrier_1</th>\n",
              "      <th>carrier_2</th>\n",
              "      <th>carrier_3</th>\n",
              "      <th>carrier_4</th>\n",
              "      <th>carrier_5</th>\n",
              "      <th>carrier_6</th>\n",
              "      <th>carrier_7</th>\n",
              "      <th>carrier_8</th>\n",
              "      <th>carrier_9</th>\n",
              "      <th>tailnum</th>\n",
              "      <th>origin</th>\n",
              "      <th>dest</th>\n",
              "    </tr>\n",
              "  </thead>\n",
              "  <tbody>\n",
              "    <tr>\n",
              "      <th>0</th>\n",
              "      <td>1</td>\n",
              "      <td>-0.909091</td>\n",
              "      <td>-0.818182</td>\n",
              "      <td>-0.727273</td>\n",
              "      <td>-0.636364</td>\n",
              "      <td>-0.545455</td>\n",
              "      <td>-0.454545</td>\n",
              "      <td>-0.363636</td>\n",
              "      <td>-0.272727</td>\n",
              "      <td>-0.181818</td>\n",
              "      <td>-0.090909</td>\n",
              "      <td>N455WN</td>\n",
              "      <td>PDX</td>\n",
              "      <td>SMF</td>\n",
              "    </tr>\n",
              "    <tr>\n",
              "      <th>1</th>\n",
              "      <td>1</td>\n",
              "      <td>0.090909</td>\n",
              "      <td>-0.818182</td>\n",
              "      <td>-0.727273</td>\n",
              "      <td>-0.636364</td>\n",
              "      <td>-0.545455</td>\n",
              "      <td>-0.454545</td>\n",
              "      <td>-0.363636</td>\n",
              "      <td>-0.272727</td>\n",
              "      <td>-0.181818</td>\n",
              "      <td>-0.090909</td>\n",
              "      <td>N699DL</td>\n",
              "      <td>SEA</td>\n",
              "      <td>JNU</td>\n",
              "    </tr>\n",
              "    <tr>\n",
              "      <th>2</th>\n",
              "      <td>1</td>\n",
              "      <td>0.090909</td>\n",
              "      <td>0.181818</td>\n",
              "      <td>-0.727273</td>\n",
              "      <td>-0.636364</td>\n",
              "      <td>-0.545455</td>\n",
              "      <td>-0.454545</td>\n",
              "      <td>-0.363636</td>\n",
              "      <td>-0.272727</td>\n",
              "      <td>-0.181818</td>\n",
              "      <td>-0.090909</td>\n",
              "      <td>N442AS</td>\n",
              "      <td>SEA</td>\n",
              "      <td>LAS</td>\n",
              "    </tr>\n",
              "    <tr>\n",
              "      <th>3</th>\n",
              "      <td>1</td>\n",
              "      <td>0.090909</td>\n",
              "      <td>0.181818</td>\n",
              "      <td>0.272727</td>\n",
              "      <td>-0.636364</td>\n",
              "      <td>-0.545455</td>\n",
              "      <td>-0.454545</td>\n",
              "      <td>-0.363636</td>\n",
              "      <td>-0.272727</td>\n",
              "      <td>-0.181818</td>\n",
              "      <td>-0.090909</td>\n",
              "      <td>N3CTAA</td>\n",
              "      <td>SEA</td>\n",
              "      <td>DFW</td>\n",
              "    </tr>\n",
              "    <tr>\n",
              "      <th>4</th>\n",
              "      <td>1</td>\n",
              "      <td>0.090909</td>\n",
              "      <td>0.181818</td>\n",
              "      <td>-0.727273</td>\n",
              "      <td>-0.636364</td>\n",
              "      <td>-0.545455</td>\n",
              "      <td>-0.454545</td>\n",
              "      <td>-0.363636</td>\n",
              "      <td>-0.272727</td>\n",
              "      <td>-0.181818</td>\n",
              "      <td>-0.090909</td>\n",
              "      <td>N754AS</td>\n",
              "      <td>SEA</td>\n",
              "      <td>SFO</td>\n",
              "    </tr>\n",
              "  </tbody>\n",
              "</table>\n",
              "</div>"
            ],
            "text/plain": [
              "   intercept  carrier_0  carrier_1  carrier_2  ...  carrier_9  tailnum  origin  dest\n",
              "0          1  -0.909091  -0.818182  -0.727273  ...  -0.090909   N455WN     PDX   SMF\n",
              "1          1   0.090909  -0.818182  -0.727273  ...  -0.090909   N699DL     SEA   JNU\n",
              "2          1   0.090909   0.181818  -0.727273  ...  -0.090909   N442AS     SEA   LAS\n",
              "3          1   0.090909   0.181818   0.272727  ...  -0.090909   N3CTAA     SEA   DFW\n",
              "4          1   0.090909   0.181818  -0.727273  ...  -0.090909   N754AS     SEA   SFO\n",
              "\n",
              "[5 rows x 14 columns]"
            ]
          },
          "metadata": {
            "tags": []
          },
          "execution_count": 130
        }
      ]
    },
    {
      "cell_type": "markdown",
      "metadata": {
        "id": "xjcbgE16U1sm"
      },
      "source": [
        "- The **interesting** thing here is that you can see that the **results** are **not** the **standard 1’s and 0’s** you saw in the dummy encoding examples but rather **regressed continuous values**."
      ]
    },
    {
      "cell_type": "markdown",
      "metadata": {
        "id": "cmbz2BItUrhG"
      },
      "source": [
        "<a id = Section7></a>\n",
        "### **7. Miscellaneous Features**"
      ]
    },
    {
      "cell_type": "markdown",
      "metadata": {
        "id": "utKsSxwoU2Iu"
      },
      "source": [
        "- Sometimes you may encounter **categorical feature** columns which **specify** the **ranges of values** for observation points.\n",
        "\n",
        "  - For example, the **age** column might be described in the form of **categories** like **0-20**, **20-40** and so on.\n",
        "\n",
        "- While there can be a lot of ways to **deal** with such features, the **most common** ones are either:\n",
        "  \n",
        "  - **Split** these **ranges** into **two separate columns** or\n",
        "  \n",
        "  - **Replace** them with some **measure** like the **mean** of that **range**."
      ]
    },
    {
      "cell_type": "markdown",
      "metadata": {
        "id": "vLVj2yvYYtBj"
      },
      "source": [
        "- We will first create a **dummy DataFrame** which has just one feature **age** with **ranges** specified using the pandas DataFrame function.\n",
        "\n",
        "- Then we will **split** the column on the **delimeter -** into **two columns** `start` and `end` using `split()` with a `lambda()` function."
      ]
    },
    {
      "cell_type": "code",
      "metadata": {
        "id": "lJwxy2xhZCdL",
        "outputId": "5f6a6e07-de74-4f4a-e142-667f348f98fc",
        "colab": {
          "base_uri": "https://localhost:8080/",
          "height": 166
        }
      },
      "source": [
        "dummy_df_age = pd.DataFrame({'age': ['0-20', '20-40', '40-60','60-80']})\n",
        "dummy_df_age.head()"
      ],
      "execution_count": null,
      "outputs": [
        {
          "output_type": "execute_result",
          "data": {
            "text/html": [
              "<div>\n",
              "<style scoped>\n",
              "    .dataframe tbody tr th:only-of-type {\n",
              "        vertical-align: middle;\n",
              "    }\n",
              "\n",
              "    .dataframe tbody tr th {\n",
              "        vertical-align: top;\n",
              "    }\n",
              "\n",
              "    .dataframe thead th {\n",
              "        text-align: right;\n",
              "    }\n",
              "</style>\n",
              "<table border=\"1\" class=\"dataframe\">\n",
              "  <thead>\n",
              "    <tr style=\"text-align: right;\">\n",
              "      <th></th>\n",
              "      <th>age</th>\n",
              "    </tr>\n",
              "  </thead>\n",
              "  <tbody>\n",
              "    <tr>\n",
              "      <th>0</th>\n",
              "      <td>0-20</td>\n",
              "    </tr>\n",
              "    <tr>\n",
              "      <th>1</th>\n",
              "      <td>20-40</td>\n",
              "    </tr>\n",
              "    <tr>\n",
              "      <th>2</th>\n",
              "      <td>40-60</td>\n",
              "    </tr>\n",
              "    <tr>\n",
              "      <th>3</th>\n",
              "      <td>60-80</td>\n",
              "    </tr>\n",
              "  </tbody>\n",
              "</table>\n",
              "</div>"
            ],
            "text/plain": [
              "     age\n",
              "0   0-20\n",
              "1  20-40\n",
              "2  40-60\n",
              "3  60-80"
            ]
          },
          "metadata": {
            "tags": []
          },
          "execution_count": 131
        }
      ]
    },
    {
      "cell_type": "code",
      "metadata": {
        "id": "CqkeCh3tU2Iv",
        "outputId": "5f8e5e53-a4fa-44d9-d0bd-1cc6ea1ee783",
        "colab": {
          "base_uri": "https://localhost:8080/",
          "height": 166
        }
      },
      "source": [
        "dummy_df_age['start'], dummy_df_age['end'] = zip(*dummy_df_age['age'].map(lambda x: x.split('-')))\n",
        "dummy_df_age.head()"
      ],
      "execution_count": null,
      "outputs": [
        {
          "output_type": "execute_result",
          "data": {
            "text/html": [
              "<div>\n",
              "<style scoped>\n",
              "    .dataframe tbody tr th:only-of-type {\n",
              "        vertical-align: middle;\n",
              "    }\n",
              "\n",
              "    .dataframe tbody tr th {\n",
              "        vertical-align: top;\n",
              "    }\n",
              "\n",
              "    .dataframe thead th {\n",
              "        text-align: right;\n",
              "    }\n",
              "</style>\n",
              "<table border=\"1\" class=\"dataframe\">\n",
              "  <thead>\n",
              "    <tr style=\"text-align: right;\">\n",
              "      <th></th>\n",
              "      <th>age</th>\n",
              "      <th>start</th>\n",
              "      <th>end</th>\n",
              "    </tr>\n",
              "  </thead>\n",
              "  <tbody>\n",
              "    <tr>\n",
              "      <th>0</th>\n",
              "      <td>0-20</td>\n",
              "      <td>0</td>\n",
              "      <td>20</td>\n",
              "    </tr>\n",
              "    <tr>\n",
              "      <th>1</th>\n",
              "      <td>20-40</td>\n",
              "      <td>20</td>\n",
              "      <td>40</td>\n",
              "    </tr>\n",
              "    <tr>\n",
              "      <th>2</th>\n",
              "      <td>40-60</td>\n",
              "      <td>40</td>\n",
              "      <td>60</td>\n",
              "    </tr>\n",
              "    <tr>\n",
              "      <th>3</th>\n",
              "      <td>60-80</td>\n",
              "      <td>60</td>\n",
              "      <td>80</td>\n",
              "    </tr>\n",
              "  </tbody>\n",
              "</table>\n",
              "</div>"
            ],
            "text/plain": [
              "     age start end\n",
              "0   0-20     0  20\n",
              "1  20-40    20  40\n",
              "2  40-60    40  60\n",
              "3  60-80    60  80"
            ]
          },
          "metadata": {
            "tags": []
          },
          "execution_count": 132
        }
      ]
    },
    {
      "cell_type": "markdown",
      "metadata": {
        "id": "Ltjgb8p_YxAt"
      },
      "source": [
        "- The `age` column is **splitted** into** two separate columns** `start` and `end`, containing the **respective age range values**."
      ]
    },
    {
      "cell_type": "markdown",
      "metadata": {
        "id": "Af228hc1ZIfY"
      },
      "source": [
        "- To **replace** the **range** with its **mean**, we will write a `split_mean()` function which basically **takes** one **range** at a time, **splits it**, then **calculates** the **mean** and **returns it**.\n",
        "\n",
        "- To **apply** a certain **function** to **all** the **entities** of a column we will use the `.apply()` method."
      ]
    },
    {
      "cell_type": "code",
      "metadata": {
        "id": "xTDgwfj0YxYv",
        "outputId": "995ffd8a-0592-4ca6-9cf0-96a5c2e9b991",
        "colab": {
          "base_uri": "https://localhost:8080/",
          "height": 166
        }
      },
      "source": [
        "dummy_df_age = pd.DataFrame({'age': ['0-20', '20-40', '40-60','60-80']})\n",
        "dummy_df_age.head()"
      ],
      "execution_count": null,
      "outputs": [
        {
          "output_type": "execute_result",
          "data": {
            "text/html": [
              "<div>\n",
              "<style scoped>\n",
              "    .dataframe tbody tr th:only-of-type {\n",
              "        vertical-align: middle;\n",
              "    }\n",
              "\n",
              "    .dataframe tbody tr th {\n",
              "        vertical-align: top;\n",
              "    }\n",
              "\n",
              "    .dataframe thead th {\n",
              "        text-align: right;\n",
              "    }\n",
              "</style>\n",
              "<table border=\"1\" class=\"dataframe\">\n",
              "  <thead>\n",
              "    <tr style=\"text-align: right;\">\n",
              "      <th></th>\n",
              "      <th>age</th>\n",
              "    </tr>\n",
              "  </thead>\n",
              "  <tbody>\n",
              "    <tr>\n",
              "      <th>0</th>\n",
              "      <td>0-20</td>\n",
              "    </tr>\n",
              "    <tr>\n",
              "      <th>1</th>\n",
              "      <td>20-40</td>\n",
              "    </tr>\n",
              "    <tr>\n",
              "      <th>2</th>\n",
              "      <td>40-60</td>\n",
              "    </tr>\n",
              "    <tr>\n",
              "      <th>3</th>\n",
              "      <td>60-80</td>\n",
              "    </tr>\n",
              "  </tbody>\n",
              "</table>\n",
              "</div>"
            ],
            "text/plain": [
              "     age\n",
              "0   0-20\n",
              "1  20-40\n",
              "2  40-60\n",
              "3  60-80"
            ]
          },
          "metadata": {
            "tags": []
          },
          "execution_count": 133
        }
      ]
    },
    {
      "cell_type": "markdown",
      "metadata": {
        "id": "77Mew0_-ZJGx"
      },
      "source": [
        "- **Defining** the `split_mean` function. "
      ]
    },
    {
      "cell_type": "code",
      "metadata": {
        "id": "EG8tJH2nZFov"
      },
      "source": [
        "def split_mean(x):\n",
        "    split_list = x.split('-')\n",
        "    mean = (float(split_list[0])+float(split_list[1]))/2\n",
        "    return mean"
      ],
      "execution_count": null,
      "outputs": []
    },
    {
      "cell_type": "markdown",
      "metadata": {
        "id": "bltr5SBdZJsW"
      },
      "source": [
        "- Using the `split_mean` function to **calculate** the **mean** of the **age range** and save it in `age_mean` column."
      ]
    },
    {
      "cell_type": "code",
      "metadata": {
        "id": "TjFpRKBhU2Iz",
        "outputId": "a54add33-eacd-4f46-c95f-86f957fad682",
        "colab": {
          "base_uri": "https://localhost:8080/",
          "height": 166
        }
      },
      "source": [
        "dummy_df_age['age_mean'] = dummy_df_age['age'].apply(lambda x: split_mean(x))\n",
        "dummy_df_age.head()"
      ],
      "execution_count": null,
      "outputs": [
        {
          "output_type": "execute_result",
          "data": {
            "text/html": [
              "<div>\n",
              "<style scoped>\n",
              "    .dataframe tbody tr th:only-of-type {\n",
              "        vertical-align: middle;\n",
              "    }\n",
              "\n",
              "    .dataframe tbody tr th {\n",
              "        vertical-align: top;\n",
              "    }\n",
              "\n",
              "    .dataframe thead th {\n",
              "        text-align: right;\n",
              "    }\n",
              "</style>\n",
              "<table border=\"1\" class=\"dataframe\">\n",
              "  <thead>\n",
              "    <tr style=\"text-align: right;\">\n",
              "      <th></th>\n",
              "      <th>age</th>\n",
              "      <th>age_mean</th>\n",
              "    </tr>\n",
              "  </thead>\n",
              "  <tbody>\n",
              "    <tr>\n",
              "      <th>0</th>\n",
              "      <td>0-20</td>\n",
              "      <td>10.0</td>\n",
              "    </tr>\n",
              "    <tr>\n",
              "      <th>1</th>\n",
              "      <td>20-40</td>\n",
              "      <td>30.0</td>\n",
              "    </tr>\n",
              "    <tr>\n",
              "      <th>2</th>\n",
              "      <td>40-60</td>\n",
              "      <td>50.0</td>\n",
              "    </tr>\n",
              "    <tr>\n",
              "      <th>3</th>\n",
              "      <td>60-80</td>\n",
              "      <td>70.0</td>\n",
              "    </tr>\n",
              "  </tbody>\n",
              "</table>\n",
              "</div>"
            ],
            "text/plain": [
              "     age  age_mean\n",
              "0   0-20      10.0\n",
              "1  20-40      30.0\n",
              "2  40-60      50.0\n",
              "3  60-80      70.0"
            ]
          },
          "metadata": {
            "tags": []
          },
          "execution_count": 135
        }
      ]
    },
    {
      "cell_type": "markdown",
      "metadata": {
        "id": "wiRrQBWBU2I2"
      },
      "source": [
        "- The `age_mean` column contains the **mean** of the **respective age range values**."
      ]
    }
  ]
}