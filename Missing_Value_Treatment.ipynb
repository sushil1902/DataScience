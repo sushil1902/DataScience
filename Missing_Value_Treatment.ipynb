{
  "nbformat": 4,
  "nbformat_minor": 0,
  "metadata": {
    "colab": {
      "name": "Missing Value Treatment.ipynb",
      "provenance": [],
      "collapsed_sections": [],
      "toc_visible": true
    },
    "kernelspec": {
      "name": "python3",
      "display_name": "Python 3"
    }
  },
  "cells": [
    {
      "cell_type": "markdown",
      "metadata": {
        "id": "V7i7Mb3WKWtI"
      },
      "source": [
        "\n",
        "\n",
        "<h1><center><strong>Missing Value Treatment</strong></center></h1>"
      ]
    },
    {
      "cell_type": "markdown",
      "metadata": {
        "id": "LKqoTLYsbj63"
      },
      "source": [
        "# **Table of Contents**\n",
        "\n",
        "1. [Diabetes Dataset](#Section1)<br><br>\n",
        "2. [Marking Missing Values](#Section2)<br><br>\n",
        "3. [Remove Rows With Missing Values](#Section3)<br><br>\n",
        "4. [Fill Missing Values with a Test Stastic](#Section4)<br><br>\n",
        "5. [Predict Missing Values With a Machine Learning Algorithm](#Section5)<br><br>\n",
        "6. [Conclusion](#Section6)"
      ]
    },
    {
      "cell_type": "markdown",
      "metadata": {
        "id": "sVWudZS3keni"
      },
      "source": [
        "<a id = Section1></a>\n",
        "### **1. Diabetes Dataset**"
      ]
    },
    {
      "cell_type": "markdown",
      "metadata": {
        "id": "8isdQQ29k6KX"
      },
      "source": [
        "- The Diabetes Dataset involves **predicting** the **onset of diabetes** within 5 years in given medical details.\n",
        "\n",
        "- It is a **binary** (**2-class**) classification problem.\n",
        "\n",
        "- The number of observations for each class is not balanced.\n",
        "\n",
        "- There are **768 observations** with **8 input** variables and **1 output** variable."
      ]
    },
    {
      "cell_type": "markdown",
      "metadata": {
        "id": "JRO7qJWGk6XN"
      },
      "source": [
        "- The variable names are as follows:\n",
        "\n",
        "    **0**. Number of times pregnant.\n",
        "\n",
        "    **1**. Plasma glucose concentration a 2 hours in an oral glucose tolerance test.\n",
        "\n",
        "    **2**. Diastolic blood pressure (mm Hg).\n",
        "\n",
        "    **3**. Triceps skinfold thickness (mm).\n",
        "\n",
        "    **4**. 2-Hour serum insulin (mu U/ml).\n",
        "\n",
        "    **5**. Body mass index (weight in kg/(height in m)^2).\n",
        "\n",
        "    **6**. Diabetes pedigree function.\n",
        "\n",
        "    **7**. Age (years).\n",
        "\n",
        "    **8**. Class variable (0 or 1)."
      ]
    },
    {
      "cell_type": "markdown",
      "metadata": {
        "id": "sKk1P1XElhdB"
      },
      "source": [
        "- This dataset is known to have **missing values**.\n",
        "\n",
        "- Specifically, there are missing observations for some columns that are **marked** as a **zero** value.\n",
        "\n",
        "- We can corroborate this by the definition of those columns and the domain knowledge that a **zero value** is **invalid** for those measures, e.g. a zero for body mass index or blood pressure is invalid."
      ]
    },
    {
      "cell_type": "markdown",
      "metadata": {
        "id": "LqtrM_PasYGj"
      },
      "source": [
        "#### **Importing the Dataset**"
      ]
    },
    {
      "cell_type": "code",
      "metadata": {
        "id": "3xWyzKuBvWvB"
      },
      "source": [
        "import numpy as np\n",
        "import pandas as pd"
      ],
      "execution_count": null,
      "outputs": []
    },
    {
      "cell_type": "code",
      "metadata": {
        "id": "bhqkbtikqFUV",
        "colab": {
          "base_uri": "https://localhost:8080/",
          "height": 195
        },
        "outputId": "f9f26d0c-73ca-44fc-f1e6-002873351c25"
      },
      "source": [
        "missing_df = pd.read_csv('https://raw.githubusercontent.com/insaid2018/Term-2/master/Data/pima-indians-diabetes.csv', header=None)\n",
        "missing_df.head()"
      ],
      "execution_count": null,
      "outputs": [
        {
          "output_type": "execute_result",
          "data": {
            "text/html": [
              "<div>\n",
              "<style scoped>\n",
              "    .dataframe tbody tr th:only-of-type {\n",
              "        vertical-align: middle;\n",
              "    }\n",
              "\n",
              "    .dataframe tbody tr th {\n",
              "        vertical-align: top;\n",
              "    }\n",
              "\n",
              "    .dataframe thead th {\n",
              "        text-align: right;\n",
              "    }\n",
              "</style>\n",
              "<table border=\"1\" class=\"dataframe\">\n",
              "  <thead>\n",
              "    <tr style=\"text-align: right;\">\n",
              "      <th></th>\n",
              "      <th>0</th>\n",
              "      <th>1</th>\n",
              "      <th>2</th>\n",
              "      <th>3</th>\n",
              "      <th>4</th>\n",
              "      <th>5</th>\n",
              "      <th>6</th>\n",
              "      <th>7</th>\n",
              "      <th>8</th>\n",
              "    </tr>\n",
              "  </thead>\n",
              "  <tbody>\n",
              "    <tr>\n",
              "      <th>0</th>\n",
              "      <td>6</td>\n",
              "      <td>148</td>\n",
              "      <td>72</td>\n",
              "      <td>35</td>\n",
              "      <td>0</td>\n",
              "      <td>33.6</td>\n",
              "      <td>0.627</td>\n",
              "      <td>50</td>\n",
              "      <td>1</td>\n",
              "    </tr>\n",
              "    <tr>\n",
              "      <th>1</th>\n",
              "      <td>1</td>\n",
              "      <td>85</td>\n",
              "      <td>66</td>\n",
              "      <td>29</td>\n",
              "      <td>0</td>\n",
              "      <td>26.6</td>\n",
              "      <td>0.351</td>\n",
              "      <td>31</td>\n",
              "      <td>0</td>\n",
              "    </tr>\n",
              "    <tr>\n",
              "      <th>2</th>\n",
              "      <td>8</td>\n",
              "      <td>183</td>\n",
              "      <td>64</td>\n",
              "      <td>0</td>\n",
              "      <td>0</td>\n",
              "      <td>23.3</td>\n",
              "      <td>0.672</td>\n",
              "      <td>32</td>\n",
              "      <td>1</td>\n",
              "    </tr>\n",
              "    <tr>\n",
              "      <th>3</th>\n",
              "      <td>1</td>\n",
              "      <td>89</td>\n",
              "      <td>66</td>\n",
              "      <td>23</td>\n",
              "      <td>94</td>\n",
              "      <td>28.1</td>\n",
              "      <td>0.167</td>\n",
              "      <td>21</td>\n",
              "      <td>0</td>\n",
              "    </tr>\n",
              "    <tr>\n",
              "      <th>4</th>\n",
              "      <td>0</td>\n",
              "      <td>137</td>\n",
              "      <td>40</td>\n",
              "      <td>35</td>\n",
              "      <td>168</td>\n",
              "      <td>43.1</td>\n",
              "      <td>2.288</td>\n",
              "      <td>33</td>\n",
              "      <td>1</td>\n",
              "    </tr>\n",
              "  </tbody>\n",
              "</table>\n",
              "</div>"
            ],
            "text/plain": [
              "   0    1   2   3    4     5      6   7  8\n",
              "0  6  148  72  35    0  33.6  0.627  50  1\n",
              "1  1   85  66  29    0  26.6  0.351  31  0\n",
              "2  8  183  64   0    0  23.3  0.672  32  1\n",
              "3  1   89  66  23   94  28.1  0.167  21  0\n",
              "4  0  137  40  35  168  43.1  2.288  33  1"
            ]
          },
          "metadata": {
            "tags": []
          },
          "execution_count": 18
        }
      ]
    },
    {
      "cell_type": "code",
      "metadata": {
        "id": "4ODBLZA7l14t",
        "colab": {
          "base_uri": "https://localhost:8080/",
          "height": 286
        },
        "outputId": "18b01776-2f9f-45f5-b799-9aac74ca5660"
      },
      "source": [
        "missing_df.info()"
      ],
      "execution_count": null,
      "outputs": [
        {
          "output_type": "stream",
          "text": [
            "<class 'pandas.core.frame.DataFrame'>\n",
            "RangeIndex: 768 entries, 0 to 767\n",
            "Data columns (total 9 columns):\n",
            " #   Column  Non-Null Count  Dtype  \n",
            "---  ------  --------------  -----  \n",
            " 0   0       768 non-null    int64  \n",
            " 1   1       768 non-null    int64  \n",
            " 2   2       768 non-null    int64  \n",
            " 3   3       768 non-null    int64  \n",
            " 4   4       768 non-null    int64  \n",
            " 5   5       768 non-null    float64\n",
            " 6   6       768 non-null    float64\n",
            " 7   7       768 non-null    int64  \n",
            " 8   8       768 non-null    int64  \n",
            "dtypes: float64(2), int64(7)\n",
            "memory usage: 54.1 KB\n"
          ],
          "name": "stdout"
        }
      ]
    },
    {
      "cell_type": "markdown",
      "metadata": {
        "id": "Ta1d2ArhxB_J"
      },
      "source": [
        "<a id = Section2></a>\n",
        "### **2. Marking Missing Values**"
      ]
    },
    {
      "cell_type": "code",
      "metadata": {
        "id": "Ze6Cqkzslueu",
        "colab": {
          "base_uri": "https://localhost:8080/",
          "height": 284
        },
        "outputId": "1949a157-cdcd-4ff7-b9eb-4fdf7cbf6acb"
      },
      "source": [
        "missing_df.describe()"
      ],
      "execution_count": null,
      "outputs": [
        {
          "output_type": "execute_result",
          "data": {
            "text/html": [
              "<div>\n",
              "<style scoped>\n",
              "    .dataframe tbody tr th:only-of-type {\n",
              "        vertical-align: middle;\n",
              "    }\n",
              "\n",
              "    .dataframe tbody tr th {\n",
              "        vertical-align: top;\n",
              "    }\n",
              "\n",
              "    .dataframe thead th {\n",
              "        text-align: right;\n",
              "    }\n",
              "</style>\n",
              "<table border=\"1\" class=\"dataframe\">\n",
              "  <thead>\n",
              "    <tr style=\"text-align: right;\">\n",
              "      <th></th>\n",
              "      <th>0</th>\n",
              "      <th>1</th>\n",
              "      <th>2</th>\n",
              "      <th>3</th>\n",
              "      <th>4</th>\n",
              "      <th>5</th>\n",
              "      <th>6</th>\n",
              "      <th>7</th>\n",
              "      <th>8</th>\n",
              "    </tr>\n",
              "  </thead>\n",
              "  <tbody>\n",
              "    <tr>\n",
              "      <th>count</th>\n",
              "      <td>768.000000</td>\n",
              "      <td>768.000000</td>\n",
              "      <td>768.000000</td>\n",
              "      <td>768.000000</td>\n",
              "      <td>768.000000</td>\n",
              "      <td>768.000000</td>\n",
              "      <td>768.000000</td>\n",
              "      <td>768.000000</td>\n",
              "      <td>768.000000</td>\n",
              "    </tr>\n",
              "    <tr>\n",
              "      <th>mean</th>\n",
              "      <td>3.845052</td>\n",
              "      <td>120.894531</td>\n",
              "      <td>69.105469</td>\n",
              "      <td>20.536458</td>\n",
              "      <td>79.799479</td>\n",
              "      <td>31.992578</td>\n",
              "      <td>0.471876</td>\n",
              "      <td>33.240885</td>\n",
              "      <td>0.348958</td>\n",
              "    </tr>\n",
              "    <tr>\n",
              "      <th>std</th>\n",
              "      <td>3.369578</td>\n",
              "      <td>31.972618</td>\n",
              "      <td>19.355807</td>\n",
              "      <td>15.952218</td>\n",
              "      <td>115.244002</td>\n",
              "      <td>7.884160</td>\n",
              "      <td>0.331329</td>\n",
              "      <td>11.760232</td>\n",
              "      <td>0.476951</td>\n",
              "    </tr>\n",
              "    <tr>\n",
              "      <th>min</th>\n",
              "      <td>0.000000</td>\n",
              "      <td>0.000000</td>\n",
              "      <td>0.000000</td>\n",
              "      <td>0.000000</td>\n",
              "      <td>0.000000</td>\n",
              "      <td>0.000000</td>\n",
              "      <td>0.078000</td>\n",
              "      <td>21.000000</td>\n",
              "      <td>0.000000</td>\n",
              "    </tr>\n",
              "    <tr>\n",
              "      <th>25%</th>\n",
              "      <td>1.000000</td>\n",
              "      <td>99.000000</td>\n",
              "      <td>62.000000</td>\n",
              "      <td>0.000000</td>\n",
              "      <td>0.000000</td>\n",
              "      <td>27.300000</td>\n",
              "      <td>0.243750</td>\n",
              "      <td>24.000000</td>\n",
              "      <td>0.000000</td>\n",
              "    </tr>\n",
              "    <tr>\n",
              "      <th>50%</th>\n",
              "      <td>3.000000</td>\n",
              "      <td>117.000000</td>\n",
              "      <td>72.000000</td>\n",
              "      <td>23.000000</td>\n",
              "      <td>30.500000</td>\n",
              "      <td>32.000000</td>\n",
              "      <td>0.372500</td>\n",
              "      <td>29.000000</td>\n",
              "      <td>0.000000</td>\n",
              "    </tr>\n",
              "    <tr>\n",
              "      <th>75%</th>\n",
              "      <td>6.000000</td>\n",
              "      <td>140.250000</td>\n",
              "      <td>80.000000</td>\n",
              "      <td>32.000000</td>\n",
              "      <td>127.250000</td>\n",
              "      <td>36.600000</td>\n",
              "      <td>0.626250</td>\n",
              "      <td>41.000000</td>\n",
              "      <td>1.000000</td>\n",
              "    </tr>\n",
              "    <tr>\n",
              "      <th>max</th>\n",
              "      <td>17.000000</td>\n",
              "      <td>199.000000</td>\n",
              "      <td>122.000000</td>\n",
              "      <td>99.000000</td>\n",
              "      <td>846.000000</td>\n",
              "      <td>67.100000</td>\n",
              "      <td>2.420000</td>\n",
              "      <td>81.000000</td>\n",
              "      <td>1.000000</td>\n",
              "    </tr>\n",
              "  </tbody>\n",
              "</table>\n",
              "</div>"
            ],
            "text/plain": [
              "                0           1           2  ...           6           7           8\n",
              "count  768.000000  768.000000  768.000000  ...  768.000000  768.000000  768.000000\n",
              "mean     3.845052  120.894531   69.105469  ...    0.471876   33.240885    0.348958\n",
              "std      3.369578   31.972618   19.355807  ...    0.331329   11.760232    0.476951\n",
              "min      0.000000    0.000000    0.000000  ...    0.078000   21.000000    0.000000\n",
              "25%      1.000000   99.000000   62.000000  ...    0.243750   24.000000    0.000000\n",
              "50%      3.000000  117.000000   72.000000  ...    0.372500   29.000000    0.000000\n",
              "75%      6.000000  140.250000   80.000000  ...    0.626250   41.000000    1.000000\n",
              "max     17.000000  199.000000  122.000000  ...    2.420000   81.000000    1.000000\n",
              "\n",
              "[8 rows x 9 columns]"
            ]
          },
          "metadata": {
            "tags": []
          },
          "execution_count": 20
        }
      ]
    },
    {
      "cell_type": "markdown",
      "metadata": {
        "id": "Ycvy1Wt0mLnm"
      },
      "source": [
        "- We can see that there are columns that have a **minimum** value of **zero** (**0**).\n",
        "\n",
        "- On some columns, a value of **zero** does not make sense and **indicates** an **invalid** or **missing** value."
      ]
    },
    {
      "cell_type": "markdown",
      "metadata": {
        "id": "SBT7hMrJmRPW"
      },
      "source": [
        "- Specifically, the following columns have an **invalid zero minimum** value:\n",
        "\n",
        "    **1**. Plasma glucose concentration\n",
        "\n",
        "    **2**. Diastolic blood pressure\n",
        "    \n",
        "    **3**. Triceps skinfold thickness\n",
        "    \n",
        "    **4**. 2-Hour serum insulin\n",
        "    \n",
        "    **5**. Body mass index\n",
        "\n",
        "- Let’s confirm this my looking at the raw data, the example prints the first 20 rows of data."
      ]
    },
    {
      "cell_type": "code",
      "metadata": {
        "id": "o0vXVF1Ts0z8",
        "colab": {
          "base_uri": "https://localhost:8080/",
          "height": 639
        },
        "outputId": "8f4411f3-96e6-4e5a-a25a-885b4e8a14de"
      },
      "source": [
        "missing_df.head(20)"
      ],
      "execution_count": null,
      "outputs": [
        {
          "output_type": "execute_result",
          "data": {
            "text/html": [
              "<div>\n",
              "<style scoped>\n",
              "    .dataframe tbody tr th:only-of-type {\n",
              "        vertical-align: middle;\n",
              "    }\n",
              "\n",
              "    .dataframe tbody tr th {\n",
              "        vertical-align: top;\n",
              "    }\n",
              "\n",
              "    .dataframe thead th {\n",
              "        text-align: right;\n",
              "    }\n",
              "</style>\n",
              "<table border=\"1\" class=\"dataframe\">\n",
              "  <thead>\n",
              "    <tr style=\"text-align: right;\">\n",
              "      <th></th>\n",
              "      <th>0</th>\n",
              "      <th>1</th>\n",
              "      <th>2</th>\n",
              "      <th>3</th>\n",
              "      <th>4</th>\n",
              "      <th>5</th>\n",
              "      <th>6</th>\n",
              "      <th>7</th>\n",
              "      <th>8</th>\n",
              "    </tr>\n",
              "  </thead>\n",
              "  <tbody>\n",
              "    <tr>\n",
              "      <th>0</th>\n",
              "      <td>6</td>\n",
              "      <td>148</td>\n",
              "      <td>72</td>\n",
              "      <td>35</td>\n",
              "      <td>0</td>\n",
              "      <td>33.6</td>\n",
              "      <td>0.627</td>\n",
              "      <td>50</td>\n",
              "      <td>1</td>\n",
              "    </tr>\n",
              "    <tr>\n",
              "      <th>1</th>\n",
              "      <td>1</td>\n",
              "      <td>85</td>\n",
              "      <td>66</td>\n",
              "      <td>29</td>\n",
              "      <td>0</td>\n",
              "      <td>26.6</td>\n",
              "      <td>0.351</td>\n",
              "      <td>31</td>\n",
              "      <td>0</td>\n",
              "    </tr>\n",
              "    <tr>\n",
              "      <th>2</th>\n",
              "      <td>8</td>\n",
              "      <td>183</td>\n",
              "      <td>64</td>\n",
              "      <td>0</td>\n",
              "      <td>0</td>\n",
              "      <td>23.3</td>\n",
              "      <td>0.672</td>\n",
              "      <td>32</td>\n",
              "      <td>1</td>\n",
              "    </tr>\n",
              "    <tr>\n",
              "      <th>3</th>\n",
              "      <td>1</td>\n",
              "      <td>89</td>\n",
              "      <td>66</td>\n",
              "      <td>23</td>\n",
              "      <td>94</td>\n",
              "      <td>28.1</td>\n",
              "      <td>0.167</td>\n",
              "      <td>21</td>\n",
              "      <td>0</td>\n",
              "    </tr>\n",
              "    <tr>\n",
              "      <th>4</th>\n",
              "      <td>0</td>\n",
              "      <td>137</td>\n",
              "      <td>40</td>\n",
              "      <td>35</td>\n",
              "      <td>168</td>\n",
              "      <td>43.1</td>\n",
              "      <td>2.288</td>\n",
              "      <td>33</td>\n",
              "      <td>1</td>\n",
              "    </tr>\n",
              "    <tr>\n",
              "      <th>5</th>\n",
              "      <td>5</td>\n",
              "      <td>116</td>\n",
              "      <td>74</td>\n",
              "      <td>0</td>\n",
              "      <td>0</td>\n",
              "      <td>25.6</td>\n",
              "      <td>0.201</td>\n",
              "      <td>30</td>\n",
              "      <td>0</td>\n",
              "    </tr>\n",
              "    <tr>\n",
              "      <th>6</th>\n",
              "      <td>3</td>\n",
              "      <td>78</td>\n",
              "      <td>50</td>\n",
              "      <td>32</td>\n",
              "      <td>88</td>\n",
              "      <td>31.0</td>\n",
              "      <td>0.248</td>\n",
              "      <td>26</td>\n",
              "      <td>1</td>\n",
              "    </tr>\n",
              "    <tr>\n",
              "      <th>7</th>\n",
              "      <td>10</td>\n",
              "      <td>115</td>\n",
              "      <td>0</td>\n",
              "      <td>0</td>\n",
              "      <td>0</td>\n",
              "      <td>35.3</td>\n",
              "      <td>0.134</td>\n",
              "      <td>29</td>\n",
              "      <td>0</td>\n",
              "    </tr>\n",
              "    <tr>\n",
              "      <th>8</th>\n",
              "      <td>2</td>\n",
              "      <td>197</td>\n",
              "      <td>70</td>\n",
              "      <td>45</td>\n",
              "      <td>543</td>\n",
              "      <td>30.5</td>\n",
              "      <td>0.158</td>\n",
              "      <td>53</td>\n",
              "      <td>1</td>\n",
              "    </tr>\n",
              "    <tr>\n",
              "      <th>9</th>\n",
              "      <td>8</td>\n",
              "      <td>125</td>\n",
              "      <td>96</td>\n",
              "      <td>0</td>\n",
              "      <td>0</td>\n",
              "      <td>0.0</td>\n",
              "      <td>0.232</td>\n",
              "      <td>54</td>\n",
              "      <td>1</td>\n",
              "    </tr>\n",
              "    <tr>\n",
              "      <th>10</th>\n",
              "      <td>4</td>\n",
              "      <td>110</td>\n",
              "      <td>92</td>\n",
              "      <td>0</td>\n",
              "      <td>0</td>\n",
              "      <td>37.6</td>\n",
              "      <td>0.191</td>\n",
              "      <td>30</td>\n",
              "      <td>0</td>\n",
              "    </tr>\n",
              "    <tr>\n",
              "      <th>11</th>\n",
              "      <td>10</td>\n",
              "      <td>168</td>\n",
              "      <td>74</td>\n",
              "      <td>0</td>\n",
              "      <td>0</td>\n",
              "      <td>38.0</td>\n",
              "      <td>0.537</td>\n",
              "      <td>34</td>\n",
              "      <td>1</td>\n",
              "    </tr>\n",
              "    <tr>\n",
              "      <th>12</th>\n",
              "      <td>10</td>\n",
              "      <td>139</td>\n",
              "      <td>80</td>\n",
              "      <td>0</td>\n",
              "      <td>0</td>\n",
              "      <td>27.1</td>\n",
              "      <td>1.441</td>\n",
              "      <td>57</td>\n",
              "      <td>0</td>\n",
              "    </tr>\n",
              "    <tr>\n",
              "      <th>13</th>\n",
              "      <td>1</td>\n",
              "      <td>189</td>\n",
              "      <td>60</td>\n",
              "      <td>23</td>\n",
              "      <td>846</td>\n",
              "      <td>30.1</td>\n",
              "      <td>0.398</td>\n",
              "      <td>59</td>\n",
              "      <td>1</td>\n",
              "    </tr>\n",
              "    <tr>\n",
              "      <th>14</th>\n",
              "      <td>5</td>\n",
              "      <td>166</td>\n",
              "      <td>72</td>\n",
              "      <td>19</td>\n",
              "      <td>175</td>\n",
              "      <td>25.8</td>\n",
              "      <td>0.587</td>\n",
              "      <td>51</td>\n",
              "      <td>1</td>\n",
              "    </tr>\n",
              "    <tr>\n",
              "      <th>15</th>\n",
              "      <td>7</td>\n",
              "      <td>100</td>\n",
              "      <td>0</td>\n",
              "      <td>0</td>\n",
              "      <td>0</td>\n",
              "      <td>30.0</td>\n",
              "      <td>0.484</td>\n",
              "      <td>32</td>\n",
              "      <td>1</td>\n",
              "    </tr>\n",
              "    <tr>\n",
              "      <th>16</th>\n",
              "      <td>0</td>\n",
              "      <td>118</td>\n",
              "      <td>84</td>\n",
              "      <td>47</td>\n",
              "      <td>230</td>\n",
              "      <td>45.8</td>\n",
              "      <td>0.551</td>\n",
              "      <td>31</td>\n",
              "      <td>1</td>\n",
              "    </tr>\n",
              "    <tr>\n",
              "      <th>17</th>\n",
              "      <td>7</td>\n",
              "      <td>107</td>\n",
              "      <td>74</td>\n",
              "      <td>0</td>\n",
              "      <td>0</td>\n",
              "      <td>29.6</td>\n",
              "      <td>0.254</td>\n",
              "      <td>31</td>\n",
              "      <td>1</td>\n",
              "    </tr>\n",
              "    <tr>\n",
              "      <th>18</th>\n",
              "      <td>1</td>\n",
              "      <td>103</td>\n",
              "      <td>30</td>\n",
              "      <td>38</td>\n",
              "      <td>83</td>\n",
              "      <td>43.3</td>\n",
              "      <td>0.183</td>\n",
              "      <td>33</td>\n",
              "      <td>0</td>\n",
              "    </tr>\n",
              "    <tr>\n",
              "      <th>19</th>\n",
              "      <td>1</td>\n",
              "      <td>115</td>\n",
              "      <td>70</td>\n",
              "      <td>30</td>\n",
              "      <td>96</td>\n",
              "      <td>34.6</td>\n",
              "      <td>0.529</td>\n",
              "      <td>32</td>\n",
              "      <td>1</td>\n",
              "    </tr>\n",
              "  </tbody>\n",
              "</table>\n",
              "</div>"
            ],
            "text/plain": [
              "     0    1   2   3    4     5      6   7  8\n",
              "0    6  148  72  35    0  33.6  0.627  50  1\n",
              "1    1   85  66  29    0  26.6  0.351  31  0\n",
              "2    8  183  64   0    0  23.3  0.672  32  1\n",
              "3    1   89  66  23   94  28.1  0.167  21  0\n",
              "4    0  137  40  35  168  43.1  2.288  33  1\n",
              "5    5  116  74   0    0  25.6  0.201  30  0\n",
              "6    3   78  50  32   88  31.0  0.248  26  1\n",
              "7   10  115   0   0    0  35.3  0.134  29  0\n",
              "8    2  197  70  45  543  30.5  0.158  53  1\n",
              "9    8  125  96   0    0   0.0  0.232  54  1\n",
              "10   4  110  92   0    0  37.6  0.191  30  0\n",
              "11  10  168  74   0    0  38.0  0.537  34  1\n",
              "12  10  139  80   0    0  27.1  1.441  57  0\n",
              "13   1  189  60  23  846  30.1  0.398  59  1\n",
              "14   5  166  72  19  175  25.8  0.587  51  1\n",
              "15   7  100   0   0    0  30.0  0.484  32  1\n",
              "16   0  118  84  47  230  45.8  0.551  31  1\n",
              "17   7  107  74   0    0  29.6  0.254  31  1\n",
              "18   1  103  30  38   83  43.3  0.183  33  0\n",
              "19   1  115  70  30   96  34.6  0.529  32  1"
            ]
          },
          "metadata": {
            "tags": []
          },
          "execution_count": 21
        }
      ]
    },
    {
      "cell_type": "markdown",
      "metadata": {
        "id": "rwSzcCpVs-am"
      },
      "source": [
        "- We can get a **count** of the **number** of **missing** values on each of these columns.\n",
        "\n",
        "- We can do this my marking all of the values in the subset of the DataFrame we are interested in that have zero values as True.\n",
        "\n",
        "- We can then count the number of true values in each column."
      ]
    },
    {
      "cell_type": "code",
      "metadata": {
        "id": "Z7lEgGkUtLan"
      },
      "source": [
        "# Count the number of missing values for each column\n",
        "num_missing = (missing_df[[1,2,3,4,5]] == 0).sum()"
      ],
      "execution_count": null,
      "outputs": []
    },
    {
      "cell_type": "code",
      "metadata": {
        "id": "SFe056fmyc4D",
        "colab": {
          "base_uri": "https://localhost:8080/",
          "height": 118
        },
        "outputId": "28a46e9a-17c7-4056-f692-aa3026a21839"
      },
      "source": [
        "# Report the results\n",
        "print(num_missing)"
      ],
      "execution_count": null,
      "outputs": [
        {
          "output_type": "stream",
          "text": [
            "1      5\n",
            "2     35\n",
            "3    227\n",
            "4    374\n",
            "5     11\n",
            "dtype: int64\n"
          ],
          "name": "stdout"
        }
      ]
    },
    {
      "cell_type": "markdown",
      "metadata": {
        "id": "02Xq0DvStSSf"
      },
      "source": [
        "- We can see that columns **1**, **2** and **5** have just a **few zero values**, whereas columns **3** and **4** show a lot more, nearly **half** of the **rows**.\n",
        "\n",
        "- This highlights that **different “missing value” strategies** may be **needed** for different columns, e.g. to ensure that there are still a sufficient number of records left to train a predictive model."
      ]
    },
    {
      "cell_type": "markdown",
      "metadata": {
        "id": "knqjQSWCNrEe"
      },
      "source": [
        "# New Section"
      ]
    },
    {
      "cell_type": "markdown",
      "metadata": {
        "id": "A5ecb3V2taLm"
      },
      "source": [
        "- In Python, specifically Pandas, NumPy and Scikit-Learn, we mark **missing values** as **NaN**.\n",
        "\n",
        "- Values with a NaN value are **ignored** from operations like **sum**, **count**, etc.\n",
        "\n",
        "- We can **mark** values as **NaN** easily with the Pandas DataFrame by using the `replace()` function on a subset of the columns we are interested in.\n",
        "\n",
        "- After we have marked the missing values, we can use the `isnull()` function to **mark** all of the **NaN** values in the dataset as **True** and get a **count** of the missing values for each column."
      ]
    },
    {
      "cell_type": "code",
      "metadata": {
        "id": "GwbzbrpGvTNN"
      },
      "source": [
        "# Replace '0' values with 'nan'\n",
        "missing_df[[1,2,3,4,5]] = missing_df[[1,2,3,4,5]].replace(0, np.nan)"
      ],
      "execution_count": null,
      "outputs": []
    },
    {
      "cell_type": "code",
      "metadata": {
        "id": "r5AWBYF4vieB",
        "colab": {
          "base_uri": "https://localhost:8080/",
          "height": 185
        },
        "outputId": "dd630bcc-16e2-488e-ba27-b8dcfbaf928c"
      },
      "source": [
        "# Count the number of nan values in each column\n",
        "print(missing_df.isnull().sum())"
      ],
      "execution_count": null,
      "outputs": [
        {
          "output_type": "stream",
          "text": [
            "0      0\n",
            "1      5\n",
            "2     35\n",
            "3    227\n",
            "4    374\n",
            "5     11\n",
            "6      0\n",
            "7      0\n",
            "8      0\n",
            "dtype: int64\n"
          ],
          "name": "stdout"
        }
      ]
    },
    {
      "cell_type": "markdown",
      "metadata": {
        "id": "ziKl-NGd1oDM"
      },
      "source": [
        "- Running the above code prints the **number of missing values** in **each column**.\n",
        "\n",
        "- We can see that the columns 1:5 have the same number of missing values as zero values identified above.\n",
        "\n",
        "- This is a sign that we have marked the identified missing values correctly."
      ]
    },
    {
      "cell_type": "code",
      "metadata": {
        "id": "RMlwZHXqv4eZ",
        "colab": {
          "base_uri": "https://localhost:8080/",
          "height": 639
        },
        "outputId": "5f8e37a8-7a72-4a20-b3f5-68fd8a86d8e9"
      },
      "source": [
        "missing_df.head(20)"
      ],
      "execution_count": null,
      "outputs": [
        {
          "output_type": "execute_result",
          "data": {
            "text/html": [
              "<div>\n",
              "<style scoped>\n",
              "    .dataframe tbody tr th:only-of-type {\n",
              "        vertical-align: middle;\n",
              "    }\n",
              "\n",
              "    .dataframe tbody tr th {\n",
              "        vertical-align: top;\n",
              "    }\n",
              "\n",
              "    .dataframe thead th {\n",
              "        text-align: right;\n",
              "    }\n",
              "</style>\n",
              "<table border=\"1\" class=\"dataframe\">\n",
              "  <thead>\n",
              "    <tr style=\"text-align: right;\">\n",
              "      <th></th>\n",
              "      <th>0</th>\n",
              "      <th>1</th>\n",
              "      <th>2</th>\n",
              "      <th>3</th>\n",
              "      <th>4</th>\n",
              "      <th>5</th>\n",
              "      <th>6</th>\n",
              "      <th>7</th>\n",
              "      <th>8</th>\n",
              "    </tr>\n",
              "  </thead>\n",
              "  <tbody>\n",
              "    <tr>\n",
              "      <th>0</th>\n",
              "      <td>6</td>\n",
              "      <td>148.0</td>\n",
              "      <td>72.0</td>\n",
              "      <td>35.0</td>\n",
              "      <td>NaN</td>\n",
              "      <td>33.6</td>\n",
              "      <td>0.627</td>\n",
              "      <td>50</td>\n",
              "      <td>1</td>\n",
              "    </tr>\n",
              "    <tr>\n",
              "      <th>1</th>\n",
              "      <td>1</td>\n",
              "      <td>85.0</td>\n",
              "      <td>66.0</td>\n",
              "      <td>29.0</td>\n",
              "      <td>NaN</td>\n",
              "      <td>26.6</td>\n",
              "      <td>0.351</td>\n",
              "      <td>31</td>\n",
              "      <td>0</td>\n",
              "    </tr>\n",
              "    <tr>\n",
              "      <th>2</th>\n",
              "      <td>8</td>\n",
              "      <td>183.0</td>\n",
              "      <td>64.0</td>\n",
              "      <td>NaN</td>\n",
              "      <td>NaN</td>\n",
              "      <td>23.3</td>\n",
              "      <td>0.672</td>\n",
              "      <td>32</td>\n",
              "      <td>1</td>\n",
              "    </tr>\n",
              "    <tr>\n",
              "      <th>3</th>\n",
              "      <td>1</td>\n",
              "      <td>89.0</td>\n",
              "      <td>66.0</td>\n",
              "      <td>23.0</td>\n",
              "      <td>94.0</td>\n",
              "      <td>28.1</td>\n",
              "      <td>0.167</td>\n",
              "      <td>21</td>\n",
              "      <td>0</td>\n",
              "    </tr>\n",
              "    <tr>\n",
              "      <th>4</th>\n",
              "      <td>0</td>\n",
              "      <td>137.0</td>\n",
              "      <td>40.0</td>\n",
              "      <td>35.0</td>\n",
              "      <td>168.0</td>\n",
              "      <td>43.1</td>\n",
              "      <td>2.288</td>\n",
              "      <td>33</td>\n",
              "      <td>1</td>\n",
              "    </tr>\n",
              "    <tr>\n",
              "      <th>5</th>\n",
              "      <td>5</td>\n",
              "      <td>116.0</td>\n",
              "      <td>74.0</td>\n",
              "      <td>NaN</td>\n",
              "      <td>NaN</td>\n",
              "      <td>25.6</td>\n",
              "      <td>0.201</td>\n",
              "      <td>30</td>\n",
              "      <td>0</td>\n",
              "    </tr>\n",
              "    <tr>\n",
              "      <th>6</th>\n",
              "      <td>3</td>\n",
              "      <td>78.0</td>\n",
              "      <td>50.0</td>\n",
              "      <td>32.0</td>\n",
              "      <td>88.0</td>\n",
              "      <td>31.0</td>\n",
              "      <td>0.248</td>\n",
              "      <td>26</td>\n",
              "      <td>1</td>\n",
              "    </tr>\n",
              "    <tr>\n",
              "      <th>7</th>\n",
              "      <td>10</td>\n",
              "      <td>115.0</td>\n",
              "      <td>NaN</td>\n",
              "      <td>NaN</td>\n",
              "      <td>NaN</td>\n",
              "      <td>35.3</td>\n",
              "      <td>0.134</td>\n",
              "      <td>29</td>\n",
              "      <td>0</td>\n",
              "    </tr>\n",
              "    <tr>\n",
              "      <th>8</th>\n",
              "      <td>2</td>\n",
              "      <td>197.0</td>\n",
              "      <td>70.0</td>\n",
              "      <td>45.0</td>\n",
              "      <td>543.0</td>\n",
              "      <td>30.5</td>\n",
              "      <td>0.158</td>\n",
              "      <td>53</td>\n",
              "      <td>1</td>\n",
              "    </tr>\n",
              "    <tr>\n",
              "      <th>9</th>\n",
              "      <td>8</td>\n",
              "      <td>125.0</td>\n",
              "      <td>96.0</td>\n",
              "      <td>NaN</td>\n",
              "      <td>NaN</td>\n",
              "      <td>NaN</td>\n",
              "      <td>0.232</td>\n",
              "      <td>54</td>\n",
              "      <td>1</td>\n",
              "    </tr>\n",
              "    <tr>\n",
              "      <th>10</th>\n",
              "      <td>4</td>\n",
              "      <td>110.0</td>\n",
              "      <td>92.0</td>\n",
              "      <td>NaN</td>\n",
              "      <td>NaN</td>\n",
              "      <td>37.6</td>\n",
              "      <td>0.191</td>\n",
              "      <td>30</td>\n",
              "      <td>0</td>\n",
              "    </tr>\n",
              "    <tr>\n",
              "      <th>11</th>\n",
              "      <td>10</td>\n",
              "      <td>168.0</td>\n",
              "      <td>74.0</td>\n",
              "      <td>NaN</td>\n",
              "      <td>NaN</td>\n",
              "      <td>38.0</td>\n",
              "      <td>0.537</td>\n",
              "      <td>34</td>\n",
              "      <td>1</td>\n",
              "    </tr>\n",
              "    <tr>\n",
              "      <th>12</th>\n",
              "      <td>10</td>\n",
              "      <td>139.0</td>\n",
              "      <td>80.0</td>\n",
              "      <td>NaN</td>\n",
              "      <td>NaN</td>\n",
              "      <td>27.1</td>\n",
              "      <td>1.441</td>\n",
              "      <td>57</td>\n",
              "      <td>0</td>\n",
              "    </tr>\n",
              "    <tr>\n",
              "      <th>13</th>\n",
              "      <td>1</td>\n",
              "      <td>189.0</td>\n",
              "      <td>60.0</td>\n",
              "      <td>23.0</td>\n",
              "      <td>846.0</td>\n",
              "      <td>30.1</td>\n",
              "      <td>0.398</td>\n",
              "      <td>59</td>\n",
              "      <td>1</td>\n",
              "    </tr>\n",
              "    <tr>\n",
              "      <th>14</th>\n",
              "      <td>5</td>\n",
              "      <td>166.0</td>\n",
              "      <td>72.0</td>\n",
              "      <td>19.0</td>\n",
              "      <td>175.0</td>\n",
              "      <td>25.8</td>\n",
              "      <td>0.587</td>\n",
              "      <td>51</td>\n",
              "      <td>1</td>\n",
              "    </tr>\n",
              "    <tr>\n",
              "      <th>15</th>\n",
              "      <td>7</td>\n",
              "      <td>100.0</td>\n",
              "      <td>NaN</td>\n",
              "      <td>NaN</td>\n",
              "      <td>NaN</td>\n",
              "      <td>30.0</td>\n",
              "      <td>0.484</td>\n",
              "      <td>32</td>\n",
              "      <td>1</td>\n",
              "    </tr>\n",
              "    <tr>\n",
              "      <th>16</th>\n",
              "      <td>0</td>\n",
              "      <td>118.0</td>\n",
              "      <td>84.0</td>\n",
              "      <td>47.0</td>\n",
              "      <td>230.0</td>\n",
              "      <td>45.8</td>\n",
              "      <td>0.551</td>\n",
              "      <td>31</td>\n",
              "      <td>1</td>\n",
              "    </tr>\n",
              "    <tr>\n",
              "      <th>17</th>\n",
              "      <td>7</td>\n",
              "      <td>107.0</td>\n",
              "      <td>74.0</td>\n",
              "      <td>NaN</td>\n",
              "      <td>NaN</td>\n",
              "      <td>29.6</td>\n",
              "      <td>0.254</td>\n",
              "      <td>31</td>\n",
              "      <td>1</td>\n",
              "    </tr>\n",
              "    <tr>\n",
              "      <th>18</th>\n",
              "      <td>1</td>\n",
              "      <td>103.0</td>\n",
              "      <td>30.0</td>\n",
              "      <td>38.0</td>\n",
              "      <td>83.0</td>\n",
              "      <td>43.3</td>\n",
              "      <td>0.183</td>\n",
              "      <td>33</td>\n",
              "      <td>0</td>\n",
              "    </tr>\n",
              "    <tr>\n",
              "      <th>19</th>\n",
              "      <td>1</td>\n",
              "      <td>115.0</td>\n",
              "      <td>70.0</td>\n",
              "      <td>30.0</td>\n",
              "      <td>96.0</td>\n",
              "      <td>34.6</td>\n",
              "      <td>0.529</td>\n",
              "      <td>32</td>\n",
              "      <td>1</td>\n",
              "    </tr>\n",
              "  </tbody>\n",
              "</table>\n",
              "</div>"
            ],
            "text/plain": [
              "     0      1     2     3      4     5      6   7  8\n",
              "0    6  148.0  72.0  35.0    NaN  33.6  0.627  50  1\n",
              "1    1   85.0  66.0  29.0    NaN  26.6  0.351  31  0\n",
              "2    8  183.0  64.0   NaN    NaN  23.3  0.672  32  1\n",
              "3    1   89.0  66.0  23.0   94.0  28.1  0.167  21  0\n",
              "4    0  137.0  40.0  35.0  168.0  43.1  2.288  33  1\n",
              "5    5  116.0  74.0   NaN    NaN  25.6  0.201  30  0\n",
              "6    3   78.0  50.0  32.0   88.0  31.0  0.248  26  1\n",
              "7   10  115.0   NaN   NaN    NaN  35.3  0.134  29  0\n",
              "8    2  197.0  70.0  45.0  543.0  30.5  0.158  53  1\n",
              "9    8  125.0  96.0   NaN    NaN   NaN  0.232  54  1\n",
              "10   4  110.0  92.0   NaN    NaN  37.6  0.191  30  0\n",
              "11  10  168.0  74.0   NaN    NaN  38.0  0.537  34  1\n",
              "12  10  139.0  80.0   NaN    NaN  27.1  1.441  57  0\n",
              "13   1  189.0  60.0  23.0  846.0  30.1  0.398  59  1\n",
              "14   5  166.0  72.0  19.0  175.0  25.8  0.587  51  1\n",
              "15   7  100.0   NaN   NaN    NaN  30.0  0.484  32  1\n",
              "16   0  118.0  84.0  47.0  230.0  45.8  0.551  31  1\n",
              "17   7  107.0  74.0   NaN    NaN  29.6  0.254  31  1\n",
              "18   1  103.0  30.0  38.0   83.0  43.3  0.183  33  0\n",
              "19   1  115.0  70.0  30.0   96.0  34.6  0.529  32  1"
            ]
          },
          "metadata": {
            "tags": []
          },
          "execution_count": 26
        }
      ]
    },
    {
      "cell_type": "markdown",
      "metadata": {
        "id": "h-VhTY3C1okl"
      },
      "source": [
        "- It is clear from the raw data that marking the missing values had the intended effect."
      ]
    },
    {
      "cell_type": "markdown",
      "metadata": {
        "id": "ui4NEIDvw5wv"
      },
      "source": [
        "#### **Missing Values Causes Problems**"
      ]
    },
    {
      "cell_type": "markdown",
      "metadata": {
        "id": "vysAOkBXxQpx"
      },
      "source": [
        "- Having missing values in a dataset can **cause errors** with some machine learning algorithms.\n",
        "\n",
        "- Most predictive modeling techniques **cannot handle** any **missing values**.\n",
        "\n",
        "- Therefore, this problem must be **addressed prior** to **modeling**.\n",
        "\n",
        "- Now, we can look at methods to handle the missing values."
      ]
    },
    {
      "cell_type": "markdown",
      "metadata": {
        "id": "szRthKqLx6Za"
      },
      "source": [
        "<a id = Section3></a>\n",
        "### **3. Remove Rows With Missing Values**"
      ]
    },
    {
      "cell_type": "markdown",
      "metadata": {
        "id": "vBcRvqPpx9MZ"
      },
      "source": [
        "- The simplest strategy for handling missing data is to **remove records** that **contain** a **missing value**.\n",
        "\n",
        "- We can do this by creating a new Pandas DataFrame with the rows containing missing values removed.\n",
        "\n",
        "- Pandas provides the `dropna()` function that can be used to **drop either columns or rows** with missing data.\n",
        "\n",
        "- We can use dropna() to remove all rows with missing data, as follows:"
      ]
    },
    {
      "cell_type": "code",
      "metadata": {
        "id": "COtgqoOh1VbR",
        "colab": {
          "base_uri": "https://localhost:8080/",
          "height": 185
        },
        "outputId": "02808f8f-8167-4bac-cd4c-475b3aee30c1"
      },
      "source": [
        "# Count the number of nan values in each column\n",
        "print(missing_df.isnull().sum())"
      ],
      "execution_count": null,
      "outputs": [
        {
          "output_type": "stream",
          "text": [
            "0      0\n",
            "1      5\n",
            "2     35\n",
            "3    227\n",
            "4    374\n",
            "5     11\n",
            "6      0\n",
            "7      0\n",
            "8      0\n",
            "dtype: int64\n"
          ],
          "name": "stdout"
        }
      ]
    },
    {
      "cell_type": "code",
      "metadata": {
        "id": "GzgxS8E8xYbY"
      },
      "source": [
        "# Drop rows with missing values\n",
        "reduced_df = missing_df.dropna()"
      ],
      "execution_count": null,
      "outputs": []
    },
    {
      "cell_type": "code",
      "metadata": {
        "id": "xef9qYYKyX_K",
        "colab": {
          "base_uri": "https://localhost:8080/",
          "height": 50
        },
        "outputId": "c8b23bd5-f4c0-4c9c-e946-1fa4785e208c"
      },
      "source": [
        "# Summarize the shape of the data with missing rows removed\n",
        "print(missing_df.shape)\n",
        "print(reduced_df.shape)"
      ],
      "execution_count": null,
      "outputs": [
        {
          "output_type": "stream",
          "text": [
            "(768, 9)\n",
            "(392, 9)\n"
          ],
          "name": "stdout"
        }
      ]
    },
    {
      "cell_type": "markdown",
      "metadata": {
        "id": "si7QS8AyzTZw"
      },
      "source": [
        "- After running this code, we can see that the number of rows has been aggressively cut from **768** in the original dataset to **392** with all rows containing a NaN removed.\n",
        "\n",
        "- But **removing rows** with missing values can be **too limiting** on some predictive modeling problems, and an alternative is to impute missing values."
      ]
    },
    {
      "cell_type": "markdown",
      "metadata": {
        "id": "hJloykNLv1qe"
      },
      "source": [
        "#### **Training a ML model with the Reduced Dataframe**"
      ]
    },
    {
      "cell_type": "code",
      "metadata": {
        "id": "MTBz-o9b5_Z0"
      },
      "source": [
        "from sklearn.linear_model import LogisticRegression\n",
        "from sklearn.model_selection import cross_val_score"
      ],
      "execution_count": null,
      "outputs": []
    },
    {
      "cell_type": "code",
      "metadata": {
        "id": "Gz0s4N8-3Oxc"
      },
      "source": [
        "clf = LogisticRegression(random_state=0)"
      ],
      "execution_count": null,
      "outputs": []
    },
    {
      "cell_type": "code",
      "metadata": {
        "id": "hCaqFALx3uaE"
      },
      "source": [
        "# Evaluate the model\n",
        "scores = cross_val_score(clf, reduced_df.iloc[:, :-1], reduced_df.iloc[:, -1], cv=5, scoring='accuracy', n_jobs=-1)"
      ],
      "execution_count": null,
      "outputs": []
    },
    {
      "cell_type": "code",
      "metadata": {
        "id": "lmkTy-QI4CjN",
        "colab": {
          "base_uri": "https://localhost:8080/",
          "height": 34
        },
        "outputId": "392cccef-3926-4926-ff2a-f7c99bec1d91"
      },
      "source": [
        "# Report the mean performance\n",
        "print('Accuracy: %.3f' % scores.mean())"
      ],
      "execution_count": null,
      "outputs": [
        {
          "output_type": "stream",
          "text": [
            "Accuracy: 0.771\n"
          ],
          "name": "stdout"
        }
      ]
    },
    {
      "cell_type": "markdown",
      "metadata": {
        "id": "ss0gowozyvFx"
      },
      "source": [
        "- We get an **accuracy** of **77.1%** after **removing all** the **rows** containing **missing** values."
      ]
    },
    {
      "cell_type": "markdown",
      "metadata": {
        "id": "wGOsLLrGzWGJ"
      },
      "source": [
        "<a id = Section4></a>\n",
        "### **4. Fill Missing Values with a Test Statistic**"
      ]
    },
    {
      "cell_type": "markdown",
      "metadata": {
        "id": "dYRuxipOzbxi"
      },
      "source": [
        "- **Imputing** refers to using a model to **replace missing values**.\n",
        "\n",
        "- There are many options we could consider when replacing a missing value, for example:\n",
        "\n",
        "  - A **constant value** that has meaning within the domain, such as 0, distinct from all other values.\n",
        "\n",
        "  - A value from another randomly selected record.\n",
        "\n",
        "  - A **mean**, **median** or **mode** value for the column.\n",
        "\n",
        "  - A value estimated by another predictive model."
      ]
    },
    {
      "cell_type": "markdown",
      "metadata": {
        "id": "_HkUA9UZ8uLN"
      },
      "source": [
        "#### **Using fillna()**:"
      ]
    },
    {
      "cell_type": "markdown",
      "metadata": {
        "id": "ulI6syXN0631"
      },
      "source": [
        "- Any **imputing** performed on the **training** dataset will have to be **performed** on **new data** in the future when predictions are needed from the finalized model. \n",
        "\n",
        "- This needs to be taken into consideration when choosing how to impute the missing values.\n",
        "\n",
        "- For example, if you choose to impute with mean column values, these mean column values will need to be stored to file for later use on new data that has missing values.\n",
        "\n",
        "- Pandas provides the `fillna()` function for **replacing missing values** with a specific value.\n",
        "\n",
        "- For example, we can use `fillna()` to **replace missing values** with the **mean** value for each column, as follows:"
      ]
    },
    {
      "cell_type": "code",
      "metadata": {
        "id": "0cgoz40b1YiS",
        "colab": {
          "base_uri": "https://localhost:8080/",
          "height": 185
        },
        "outputId": "b55735e2-1681-40f0-8f22-880198d2145b"
      },
      "source": [
        "# Count the number of nan values in each column\n",
        "print(missing_df.isnull().sum())"
      ],
      "execution_count": null,
      "outputs": [
        {
          "output_type": "stream",
          "text": [
            "0      0\n",
            "1      5\n",
            "2     35\n",
            "3    227\n",
            "4    374\n",
            "5     11\n",
            "6      0\n",
            "7      0\n",
            "8      0\n",
            "dtype: int64\n"
          ],
          "name": "stdout"
        }
      ]
    },
    {
      "cell_type": "markdown",
      "metadata": {
        "id": "vFjNPmWO500A"
      },
      "source": [
        "- You can **provide** the **value** you want to use to **fill** the missing values in the `fillna` function.\n",
        "\n",
        "- Use `missing_df.median()` for feature **median** values, `missing_df.mode().iloc[0, :]` for feature **mode** values.\n",
        "\n",
        "- Or, you can provide a **constant string** or **numeric** value to be used for filling the missing values."
      ]
    },
    {
      "cell_type": "code",
      "metadata": {
        "id": "_pDhmALyzbRa"
      },
      "source": [
        "# Fill missing values with mean column values\n",
        "mean_filled_df = missing_df.fillna(missing_df.mean())"
      ],
      "execution_count": null,
      "outputs": []
    },
    {
      "cell_type": "code",
      "metadata": {
        "id": "eO2zBKW7zcLR",
        "colab": {
          "base_uri": "https://localhost:8080/",
          "height": 185
        },
        "outputId": "da77c679-f8ed-457e-8a0a-f5a41b584c59"
      },
      "source": [
        "# Count the number of NaN values in each column\n",
        "print(mean_filled_df.isnull().sum())"
      ],
      "execution_count": null,
      "outputs": [
        {
          "output_type": "stream",
          "text": [
            "0    0\n",
            "1    0\n",
            "2    0\n",
            "3    0\n",
            "4    0\n",
            "5    0\n",
            "6    0\n",
            "7    0\n",
            "8    0\n",
            "dtype: int64\n"
          ],
          "name": "stdout"
        }
      ]
    },
    {
      "cell_type": "markdown",
      "metadata": {
        "id": "ts_1JoFozcai"
      },
      "source": [
        "- Running this code provides a count of the number of missing values in each column, showing **zero missing values**."
      ]
    },
    {
      "cell_type": "markdown",
      "metadata": {
        "id": "JvpkjcTdzphw"
      },
      "source": [
        "#### **Training a ML model with the Mean-Filled Dataframe**"
      ]
    },
    {
      "cell_type": "code",
      "metadata": {
        "id": "-oVD1jsFzphw"
      },
      "source": [
        "from sklearn.linear_model import LogisticRegression\n",
        "from sklearn.model_selection import cross_val_score"
      ],
      "execution_count": null,
      "outputs": []
    },
    {
      "cell_type": "code",
      "metadata": {
        "id": "l5hnSzttzph0"
      },
      "source": [
        "clf = LogisticRegression(random_state=0)"
      ],
      "execution_count": null,
      "outputs": []
    },
    {
      "cell_type": "code",
      "metadata": {
        "id": "M9XVUSBlzph2"
      },
      "source": [
        "# Evaluate the model\n",
        "scores = cross_val_score(clf, mean_filled_df.iloc[:, :-1], mean_filled_df.iloc[:, -1], cv=5, scoring='accuracy', n_jobs=-1)"
      ],
      "execution_count": null,
      "outputs": []
    },
    {
      "cell_type": "code",
      "metadata": {
        "id": "uGZfuMbMzph4",
        "colab": {
          "base_uri": "https://localhost:8080/",
          "height": 34
        },
        "outputId": "1a26e0db-a3f6-41ee-ecd1-fbb1dae0590a"
      },
      "source": [
        "# Report the mean performance\n",
        "print('Accuracy: %.3f' % scores.mean())"
      ],
      "execution_count": null,
      "outputs": [
        {
          "output_type": "stream",
          "text": [
            "Accuracy: 0.763\n"
          ],
          "name": "stdout"
        }
      ]
    },
    {
      "cell_type": "markdown",
      "metadata": {
        "id": "B-uedJhTzph6"
      },
      "source": [
        "- We get an **accuracy** of **76.3%** after **filing** the **missing** values with **mean** of each column using `fillna()`."
      ]
    },
    {
      "cell_type": "markdown",
      "metadata": {
        "id": "t08SwYd-8ydr"
      },
      "source": [
        "#### **Using SimpleImputer**:"
      ]
    },
    {
      "cell_type": "markdown",
      "metadata": {
        "id": "-epzEywh1xdq"
      },
      "source": [
        "- The scikit-learn library provides the **SimpleImputer** pre-processing class that can be used to **replace missing values**.\n",
        "\n",
        "- It is a flexible class that allows you to **specify** the **value** to **replace** (it can be something other than NaN) and the **technique** used to replace it (such as mean, median, or mode).\n",
        "\n",
        "- The **SimpleImputer** class operates directly on the **NumPy array** instead of the DataFrame.\n",
        "\n",
        "- The example below uses the SimpleImputer class to **replace missing values** with the **mean** of each column then prints the number of NaN values in the transformed matrix."
      ]
    },
    {
      "cell_type": "code",
      "metadata": {
        "id": "zSKB9JCM35Yz"
      },
      "source": [
        "from sklearn.impute import SimpleImputer"
      ],
      "execution_count": null,
      "outputs": []
    },
    {
      "cell_type": "code",
      "metadata": {
        "id": "fuPIzmDW2rfT"
      },
      "source": [
        "# Retrieve the numpy array\n",
        "values = missing_df.values"
      ],
      "execution_count": null,
      "outputs": []
    },
    {
      "cell_type": "code",
      "metadata": {
        "id": "jZBTi1cryfb_",
        "colab": {
          "base_uri": "https://localhost:8080/",
          "height": 134
        },
        "outputId": "8e62d5cf-8f30-4988-e2ae-9173ece3faca"
      },
      "source": [
        "values"
      ],
      "execution_count": null,
      "outputs": [
        {
          "output_type": "execute_result",
          "data": {
            "text/plain": [
              "array([[  6.   , 148.   ,  72.   , ...,   0.627,  50.   ,   1.   ],\n",
              "       [  1.   ,  85.   ,  66.   , ...,   0.351,  31.   ,   0.   ],\n",
              "       [  8.   , 183.   ,  64.   , ...,   0.672,  32.   ,   1.   ],\n",
              "       ...,\n",
              "       [  5.   , 121.   ,  72.   , ...,   0.245,  30.   ,   0.   ],\n",
              "       [  1.   , 126.   ,  60.   , ...,   0.349,  47.   ,   1.   ],\n",
              "       [  1.   ,  93.   ,  70.   , ...,   0.315,  23.   ,   0.   ]])"
            ]
          },
          "metadata": {
            "tags": []
          },
          "execution_count": 63
        }
      ]
    },
    {
      "cell_type": "code",
      "metadata": {
        "id": "U3KMog3syxWW",
        "colab": {
          "base_uri": "https://localhost:8080/",
          "height": 34
        },
        "outputId": "1c1f391a-a215-4ac4-ac79-15f3e2da989c"
      },
      "source": [
        "# Count the number of NaN values in each column\n",
        "print('Missing: %d' % np.isnan(values).sum())"
      ],
      "execution_count": null,
      "outputs": [
        {
          "output_type": "stream",
          "text": [
            "Missing: 652\n"
          ],
          "name": "stdout"
        }
      ]
    },
    {
      "cell_type": "markdown",
      "metadata": {
        "id": "bLMcwxpk5fIE"
      },
      "source": [
        "- You can **change** the `strategy` from **mean** to **median**, **most_frequent**, or **constant**, as per your requirements."
      ]
    },
    {
      "cell_type": "code",
      "metadata": {
        "id": "CopLkFou3fcx"
      },
      "source": [
        "# Define the imputer\n",
        "imputer = SimpleImputer(missing_values=np.nan, strategy='mean')"
      ],
      "execution_count": null,
      "outputs": []
    },
    {
      "cell_type": "code",
      "metadata": {
        "id": "vqGy_STv3cFZ"
      },
      "source": [
        "# Transform the dataset\n",
        "transformed_values = imputer.fit_transform(values)"
      ],
      "execution_count": null,
      "outputs": []
    },
    {
      "cell_type": "code",
      "metadata": {
        "id": "rpMw4LiY3cH9",
        "colab": {
          "base_uri": "https://localhost:8080/",
          "height": 34
        },
        "outputId": "1fcead5b-d7ac-45ae-ebe9-e7b7541b658a"
      },
      "source": [
        "# Count the number of NaN values in each column\n",
        "print('Missing: %d' % np.isnan(transformed_values).sum())"
      ],
      "execution_count": null,
      "outputs": [
        {
          "output_type": "stream",
          "text": [
            "Missing: 0\n"
          ],
          "name": "stdout"
        }
      ]
    },
    {
      "cell_type": "markdown",
      "metadata": {
        "id": "anu6mIY84BCS"
      },
      "source": [
        "- Running this code shows that **all NaN** values were **imputed** successfully."
      ]
    },
    {
      "cell_type": "markdown",
      "metadata": {
        "id": "XZQS4UUE0GPp"
      },
      "source": [
        "#### **Training a ML model with the Mean-Imputed Array**"
      ]
    },
    {
      "cell_type": "code",
      "metadata": {
        "id": "sLz25RY00GPr"
      },
      "source": [
        "from sklearn.linear_model import LogisticRegression\n",
        "from sklearn.model_selection import cross_val_score"
      ],
      "execution_count": null,
      "outputs": []
    },
    {
      "cell_type": "code",
      "metadata": {
        "id": "BwLP7GVB0GPx"
      },
      "source": [
        "clf = LogisticRegression(random_state=0)"
      ],
      "execution_count": null,
      "outputs": []
    },
    {
      "cell_type": "code",
      "metadata": {
        "id": "T10hMla30GP6"
      },
      "source": [
        "# Evaluate the model\n",
        "scores = cross_val_score(clf, transformed_values[:, :-1], transformed_values[:, -1], cv=5, scoring='accuracy', n_jobs=-1)"
      ],
      "execution_count": null,
      "outputs": []
    },
    {
      "cell_type": "code",
      "metadata": {
        "id": "q8t0mp1L0GQA",
        "colab": {
          "base_uri": "https://localhost:8080/",
          "height": 34
        },
        "outputId": "67f05d27-a2da-42ea-9923-80273e0956c5"
      },
      "source": [
        "# Report the mean performance\n",
        "print('Accuracy: %.3f' % scores.mean())"
      ],
      "execution_count": null,
      "outputs": [
        {
          "output_type": "stream",
          "text": [
            "Accuracy: 0.766\n"
          ],
          "name": "stdout"
        }
      ]
    },
    {
      "cell_type": "markdown",
      "metadata": {
        "id": "Nn0F0K490GQG"
      },
      "source": [
        "- We get an **accuracy** of **76.6%** after **filing** the **missing** values with **mean** of each column using **SimpleImputer**."
      ]
    },
    {
      "cell_type": "markdown",
      "metadata": {
        "id": "3uQPZ9CZ1ov-"
      },
      "source": [
        "<a id = Section5></a>\n",
        "### **5. Predict Missing Values With a Machine Learning Algorithm**"
      ]
    },
    {
      "cell_type": "markdown",
      "metadata": {
        "id": "KVBxeiwn4kHv"
      },
      "source": [
        "**Process**:\n",
        "\n",
        "1. **Call** the **variable** where you have **missing values** as **y**.\n",
        "\n",
        "2. **Split data** into sets **with missing values** and **without missing values**.\n",
        "\n",
        "  - **Name** the **missing set X_text** and the one **without missing values X_train**.\n",
        "  \n",
        "  - **Take y** (variable or feature where there is missing values) off the **second set**, naming it **y_train**.\n",
        "\n",
        "3. **Use** one of **classification methods** to **predict y_pred**.\n",
        "\n",
        "4. **Add** it to **X_test** as your **y_test** column.\n",
        "\n",
        "5. Then **combine sets** together."
      ]
    },
    {
      "cell_type": "markdown",
      "metadata": {
        "id": "xCOESwZm7Kji"
      },
      "source": [
        "#### **Using Scikit-Learn's IterativeImputer**:"
      ]
    },
    {
      "cell_type": "markdown",
      "metadata": {
        "id": "Ks_uNEsG4l0y"
      },
      "source": [
        "- The scikit-learn library provides the **IterativeImputer** class, which models each feature with missing values as a function of other features, and uses that estimate for imputation.\n",
        "\n",
        "- It does so in an iterated round-robin fashion: at each step, a **feature** column is **designated** as **output y** and the **other feature columns** are treated as **inputs X**.\n",
        "\n",
        "- A **regressor** is **fit** on **(X, y)** for **known y**.\n",
        "\n",
        "- Then, the **regressor** is used to **predict** the **missing** values of **y**.\n",
        "\n",
        "- This is done for **each feature** in an iterative fashion, and then is repeated for max_iter imputation rounds.\n",
        "\n",
        "- The results of the final imputation round are returned."
      ]
    },
    {
      "cell_type": "markdown",
      "metadata": {
        "id": "eOFk1BFZ5IF6"
      },
      "source": [
        "**Note: This estimator is still experimental for now: default parameters or details of behaviour might change without any deprecation cycle.**\n",
        "\n",
        "[IterativeImputer Documentation](https://scikit-learn.org/stable/modules/generated/sklearn.impute.IterativeImputer.html#sklearn.impute.IterativeImputer)"
      ]
    },
    {
      "cell_type": "code",
      "metadata": {
        "id": "ZWi9NazJ4ksk"
      },
      "source": [
        "from sklearn.experimental import enable_iterative_imputer\n",
        "from sklearn.impute import IterativeImputer"
      ],
      "execution_count": null,
      "outputs": []
    },
    {
      "cell_type": "code",
      "metadata": {
        "id": "UVJ0PaK1yblM"
      },
      "source": [
        "# Retrieve the numpy array\n",
        "values = missing_df.values"
      ],
      "execution_count": null,
      "outputs": []
    },
    {
      "cell_type": "code",
      "metadata": {
        "id": "sEZADYaZynyf",
        "colab": {
          "base_uri": "https://localhost:8080/",
          "height": 134
        },
        "outputId": "a928490e-dd95-4646-9133-ce01ca9bd24c"
      },
      "source": [
        "values"
      ],
      "execution_count": null,
      "outputs": [
        {
          "output_type": "execute_result",
          "data": {
            "text/plain": [
              "array([[  6.   , 148.   ,  72.   , ...,   0.627,  50.   ,   1.   ],\n",
              "       [  1.   ,  85.   ,  66.   , ...,   0.351,  31.   ,   0.   ],\n",
              "       [  8.   , 183.   ,  64.   , ...,   0.672,  32.   ,   1.   ],\n",
              "       ...,\n",
              "       [  5.   , 121.   ,  72.   , ...,   0.245,  30.   ,   0.   ],\n",
              "       [  1.   , 126.   ,  60.   , ...,   0.349,  47.   ,   1.   ],\n",
              "       [  1.   ,  93.   ,  70.   , ...,   0.315,  23.   ,   0.   ]])"
            ]
          },
          "metadata": {
            "tags": []
          },
          "execution_count": 72
        }
      ]
    },
    {
      "cell_type": "code",
      "metadata": {
        "id": "SKUQp0UIysZr",
        "colab": {
          "base_uri": "https://localhost:8080/",
          "height": 34
        },
        "outputId": "2c52cf4d-0069-47da-aab4-dc53e63d293a"
      },
      "source": [
        "# Count the number of NaN values in each column\n",
        "print('Missing: %d' % np.isnan(values).sum())"
      ],
      "execution_count": null,
      "outputs": [
        {
          "output_type": "stream",
          "text": [
            "Missing: 652\n"
          ],
          "name": "stdout"
        }
      ]
    },
    {
      "cell_type": "code",
      "metadata": {
        "id": "h1WgFUOH6Dyl"
      },
      "source": [
        "# Define the imputer\n",
        "iterative_imp = IterativeImputer(max_iter=10, random_state=0)"
      ],
      "execution_count": null,
      "outputs": []
    },
    {
      "cell_type": "code",
      "metadata": {
        "id": "iKaVoeGC6Dyx"
      },
      "source": [
        "# Transform the dataset\n",
        "transformed_values = iterative_imp.fit_transform(values)"
      ],
      "execution_count": null,
      "outputs": []
    },
    {
      "cell_type": "code",
      "metadata": {
        "id": "JDLQlEQC6Dy5",
        "colab": {
          "base_uri": "https://localhost:8080/",
          "height": 34
        },
        "outputId": "9e633358-0efa-454b-9c90-c1bf98446bfd"
      },
      "source": [
        "# Count the number of NaN values in each column\n",
        "print('Missing: %d' % np.isnan(transformed_values).sum())"
      ],
      "execution_count": null,
      "outputs": [
        {
          "output_type": "stream",
          "text": [
            "Missing: 0\n"
          ],
          "name": "stdout"
        }
      ]
    },
    {
      "cell_type": "markdown",
      "metadata": {
        "id": "-ATXSlwm6y0O"
      },
      "source": [
        "- Running this code shows that **all NaN** values were **imputed** successfully."
      ]
    },
    {
      "cell_type": "markdown",
      "metadata": {
        "id": "FLkB5Z-s0IDv"
      },
      "source": [
        "#### **Training a ML model with the Iteratively-Imputed Array**"
      ]
    },
    {
      "cell_type": "code",
      "metadata": {
        "id": "g-hmnGGH0IDw"
      },
      "source": [
        "from sklearn.linear_model import LogisticRegression\n",
        "from sklearn.model_selection import cross_val_score"
      ],
      "execution_count": null,
      "outputs": []
    },
    {
      "cell_type": "code",
      "metadata": {
        "id": "vrb-inYO0IDz"
      },
      "source": [
        "clf = LogisticRegression(random_state=0)"
      ],
      "execution_count": null,
      "outputs": []
    },
    {
      "cell_type": "code",
      "metadata": {
        "id": "9RpQBoFF0ID3"
      },
      "source": [
        "# Evaluate the model\n",
        "scores = cross_val_score(clf, transformed_values[:, :-1], transformed_values[:, -1], cv=5, scoring='accuracy', n_jobs=-1)"
      ],
      "execution_count": null,
      "outputs": []
    },
    {
      "cell_type": "code",
      "metadata": {
        "id": "nwwuy6pa0ID6",
        "colab": {
          "base_uri": "https://localhost:8080/",
          "height": 34
        },
        "outputId": "4da5baab-f851-47f4-8313-ba6b1f1ffaad"
      },
      "source": [
        "# Report the mean performance\n",
        "print('Accuracy: %.3f' % scores.mean())"
      ],
      "execution_count": null,
      "outputs": [
        {
          "output_type": "stream",
          "text": [
            "Accuracy: 0.758\n"
          ],
          "name": "stdout"
        }
      ]
    },
    {
      "cell_type": "markdown",
      "metadata": {
        "id": "Ygd2FSyO0ID-"
      },
      "source": [
        "- We get an **accuracy** of **75.8%** after **filing** the **missing** values using **IterativeImputer**."
      ]
    },
    {
      "cell_type": "markdown",
      "metadata": {
        "id": "23TKt7GL6zID"
      },
      "source": [
        "#### **Nearest Neighbors Imputation**"
      ]
    },
    {
      "cell_type": "markdown",
      "metadata": {
        "id": "GGUM_lPt7Niz"
      },
      "source": [
        "- The **KNNImputer** class provides imputation for filling in missing values using the k-Nearest Neighbors approach.\n",
        "\n",
        "- By default, a euclidean distance metric that supports missing values, **nan_euclidean_distances**, is used to find the nearest neighbors.\n",
        "\n",
        "- Each missing feature is imputed using values from **n_neighbors** nearest neighbors that have a value for the feature.\n",
        "\n",
        "- The feature of the neighbors are **averaged uniformly** or **weighted by distance** to each neighbor.\n",
        "\n",
        "- If a sample has more than one feature missing, then the neighbors for that sample can be different depending on the particular feature being imputed.\n",
        "\n",
        "- If a feature is always missing in training, it is removed during transform."
      ]
    },
    {
      "cell_type": "code",
      "metadata": {
        "id": "z80I5AGd70y8"
      },
      "source": [
        "from sklearn.impute import KNNImputer"
      ],
      "execution_count": null,
      "outputs": []
    },
    {
      "cell_type": "code",
      "metadata": {
        "id": "UYNl1CHxzApW"
      },
      "source": [
        "# Retrieve the numpy array\n",
        "values = missing_df.values"
      ],
      "execution_count": null,
      "outputs": []
    },
    {
      "cell_type": "code",
      "metadata": {
        "id": "1MZSdRfHzAph",
        "colab": {
          "base_uri": "https://localhost:8080/",
          "height": 134
        },
        "outputId": "9bf43704-31d2-47be-b7a8-0f6f29a30243"
      },
      "source": [
        "values"
      ],
      "execution_count": null,
      "outputs": [
        {
          "output_type": "execute_result",
          "data": {
            "text/plain": [
              "array([[  6.   , 148.   ,  72.   , ...,   0.627,  50.   ,   1.   ],\n",
              "       [  1.   ,  85.   ,  66.   , ...,   0.351,  31.   ,   0.   ],\n",
              "       [  8.   , 183.   ,  64.   , ...,   0.672,  32.   ,   1.   ],\n",
              "       ...,\n",
              "       [  5.   , 121.   ,  72.   , ...,   0.245,  30.   ,   0.   ],\n",
              "       [  1.   , 126.   ,  60.   , ...,   0.349,  47.   ,   1.   ],\n",
              "       [  1.   ,  93.   ,  70.   , ...,   0.315,  23.   ,   0.   ]])"
            ]
          },
          "metadata": {
            "tags": []
          },
          "execution_count": 82
        }
      ]
    },
    {
      "cell_type": "code",
      "metadata": {
        "id": "-ZKnTsC2zApn",
        "colab": {
          "base_uri": "https://localhost:8080/",
          "height": 34
        },
        "outputId": "64364260-80a1-4d61-d793-d080cd2666b4"
      },
      "source": [
        "# Count the number of NaN values in each column\n",
        "print('Missing: %d' % np.isnan(values).sum())"
      ],
      "execution_count": null,
      "outputs": [
        {
          "output_type": "stream",
          "text": [
            "Missing: 652\n"
          ],
          "name": "stdout"
        }
      ]
    },
    {
      "cell_type": "code",
      "metadata": {
        "id": "e-nXraQT7z4h"
      },
      "source": [
        "# Define the imputer\n",
        "knn_imputer = KNNImputer(n_neighbors=3, weights=\"uniform\")"
      ],
      "execution_count": null,
      "outputs": []
    },
    {
      "cell_type": "code",
      "metadata": {
        "id": "6eqUn03k7z4n"
      },
      "source": [
        "# Transform the dataset\n",
        "transformed_values = knn_imputer.fit_transform(values)"
      ],
      "execution_count": null,
      "outputs": []
    },
    {
      "cell_type": "code",
      "metadata": {
        "id": "pZE0AUFh7z4q",
        "colab": {
          "base_uri": "https://localhost:8080/",
          "height": 34
        },
        "outputId": "da67f33c-83ec-4ad3-d5cd-29dc8811139c"
      },
      "source": [
        "# Count the number of NaN values in each column\n",
        "print('Missing: %d' % np.isnan(transformed_values).sum())"
      ],
      "execution_count": null,
      "outputs": [
        {
          "output_type": "stream",
          "text": [
            "Missing: 0\n"
          ],
          "name": "stdout"
        }
      ]
    },
    {
      "cell_type": "markdown",
      "metadata": {
        "id": "kLriHRX87z4u"
      },
      "source": [
        "- Running this code shows that all NaN values were imputed successfully."
      ]
    },
    {
      "cell_type": "markdown",
      "metadata": {
        "id": "LgU5JBn60JE8"
      },
      "source": [
        "#### **Training a ML model with the KNN-Imputed Array**"
      ]
    },
    {
      "cell_type": "code",
      "metadata": {
        "id": "iAKDIn-c0JE9"
      },
      "source": [
        "from sklearn.linear_model import LogisticRegression\n",
        "from sklearn.model_selection import cross_val_score"
      ],
      "execution_count": null,
      "outputs": []
    },
    {
      "cell_type": "code",
      "metadata": {
        "id": "L9f2fA9L0JE_"
      },
      "source": [
        "clf = LogisticRegression(random_state=0)"
      ],
      "execution_count": null,
      "outputs": []
    },
    {
      "cell_type": "code",
      "metadata": {
        "id": "r947F3mJ0JFB"
      },
      "source": [
        "# Evaluate the model\n",
        "scores = cross_val_score(clf, transformed_values[:, :-1], transformed_values[:, -1], cv=5, scoring='accuracy', n_jobs=-1)"
      ],
      "execution_count": null,
      "outputs": []
    },
    {
      "cell_type": "code",
      "metadata": {
        "id": "Qt2KU3GD0JFD",
        "colab": {
          "base_uri": "https://localhost:8080/",
          "height": 34
        },
        "outputId": "1ceddaf8-75e6-492c-cb59-99be85ceaf3c"
      },
      "source": [
        "# Report the mean performance\n",
        "print('Accuracy: %.3f' % scores.mean())"
      ],
      "execution_count": null,
      "outputs": [
        {
          "output_type": "stream",
          "text": [
            "Accuracy: 0.770\n"
          ],
          "name": "stdout"
        }
      ]
    },
    {
      "cell_type": "markdown",
      "metadata": {
        "id": "aLmdy0LQ0JFH"
      },
      "source": [
        "- We get an **accuracy** of **77%** after **filing** the **missing** values using **KNNImputer**."
      ]
    },
    {
      "cell_type": "markdown",
      "metadata": {
        "id": "bEAcpOf_F4F8"
      },
      "source": [
        "<a id = Section6></a>\n",
        "### **6. Conclusion**"
      ]
    },
    {
      "cell_type": "markdown",
      "metadata": {
        "id": "AjHL_AIOHNht"
      },
      "source": [
        "- We discussed **different methods** of **removing missing values** from the dataset.\n",
        "\n",
        "- If the **dataset** is very **large**, and the **number** of **rows** containing **missing values** is **proportionally small**, we can **drop** the **rows** containing missing values.\n",
        "\n",
        "- Most of the times, **filling** the **missing values** with a test statistic like mean, median or mode of the feature is the **best** way to remove missing values.\n",
        "\n",
        "- Also, we can **use ML models** like **KNN** to fill missing values in the data as well.\n",
        "\n",
        "- But, since **each dataset** is **different**, these methods need to be **tested iteratively** on each dataset and the **model performance** should be **compared** to find the best way of removing missing values from a dataset.\n",
        "\n",
        "- In this case, **removing** the **rows** containing missing values turned out to be **better** than the other imputation methods we used.\n",
        "\n",
        "  - But, we can also try to **fill** the missing values **using median** and **mode** of the features, as **mean** is **susceptible** to **outliers**.\n",
        "\n",
        "  - Also, KNNImputer proved to be much better than IterativeImputer in this case, but it might change for a different dataset.\n",
        "\n",
        "  - So, we should always **experiment** with **different** missing value treatment **methods** before finalizing one."
      ]
    }
  ]
}