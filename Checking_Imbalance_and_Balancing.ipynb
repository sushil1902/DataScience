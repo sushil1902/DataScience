{
  "nbformat": 4,
  "nbformat_minor": 0,
  "metadata": {
    "colab": {
      "name": "Checking Imbalance and Balancing.ipynb",
      "provenance": [],
      "collapsed_sections": [],
      "toc_visible": true
    },
    "kernelspec": {
      "name": "python3",
      "display_name": "Python 3"
    }
  },
  "cells": [
    {
      "cell_type": "markdown",
      "metadata": {
        "id": "V7i7Mb3WKWtI"
      },
      "source": [
        "\n",
        "\n",
        "<h1><center><strong>Checking Imbalance and Balancing</strong></center></h1>"
      ]
    },
    {
      "cell_type": "markdown",
      "metadata": {
        "id": "LKqoTLYsbj63"
      },
      "source": [
        "# **Table of Contents**\n",
        "\n",
        "1. [Checking for Assumptions (Imbalance)](#Section1)<br><br>\n",
        "2. [Treating Assumption Violation (Balancing)](#Section2)<br><br>\n",
        "  \n",
        "  2.1 [Resampling](#Section201)<br><br> \n",
        "    \n",
        "    - 2.1.1 [Random Oversampling](#Section20101)<br><br> \n",
        "    \n",
        "    - 2.1.2 [Random Undersampling](#Section20102)<br><br>\n",
        "    \n",
        "    - 2.1.3 [Combining Oversampling and Undersampling](#Section20103)<br><br>\n",
        "\n",
        "  2.2 [Generating Synthetic Samples using SMOTE](#Section202)<br><br>\n",
        "\n",
        "    - 2.2.1 [Oversampling using SMOTE](#Section20201)<br><br>\n",
        "\n",
        "    - 2.2.2 [SMOTE for Classification](#Section20202)<br><br>\n",
        "\n",
        "  2.3 [Cluster Centroid Undersampling](#Section203)<br><br>\n"
      ]
    },
    {
      "cell_type": "markdown",
      "metadata": {
        "id": "nR7yOnAxsFVC"
      },
      "source": [
        "<a id = Section1></a>\n",
        "## **1. Checking for Assumptions (Imbalance)**"
      ]
    },
    {
      "cell_type": "markdown",
      "metadata": {
        "id": "L0zX6D0jKoFr"
      },
      "source": [
        "- **Imbalanced classes** are a common problem in machine learning classification where there are a **disproportionate ratio** of **observations** in **each class**.\n",
        "\n",
        "- Class imbalance can be found in many different areas including medical diagnosis, spam filtering, and fraud detection.\n",
        "\n",
        "- **Causes** of Class Imbalance:\n",
        "  \n",
        "  - **Biased Sampling**\n",
        "\n",
        "  - **Measurement Errors**\n",
        "\n",
        "- Most machine learning algorithms **work best** when the **number of samples** in **each class** are about **equal**.\n",
        "\n",
        "- This is because most algorithms are designed to **maximize accuracy** and **reduce error**.\n",
        "\n",
        "- Also, while working in an **imbalanced domain accuracy** is **not** an **appropriate measure** to evaluate model performance.\n"
      ]
    },
    {
      "cell_type": "markdown",
      "metadata": {
        "id": "p-Z6Pq-aMcEy"
      },
      "source": [
        "#### **Creating a Dummy Dataset**"
      ]
    },
    {
      "cell_type": "markdown",
      "metadata": {
        "id": "USv5U254yVlT"
      },
      "source": [
        "- First, we can use the `make_classification` **scikit-learn** function to create a synthetic binary classification dataset with **10,000 examples** and a **1:100 class distribution**."
      ]
    },
    {
      "cell_type": "code",
      "metadata": {
        "id": "1hgLVky3y0oA"
      },
      "source": [
        "from collections import Counter\n",
        "import numpy as np\n",
        "import matplotlib.pyplot as plt"
      ],
      "execution_count": null,
      "outputs": []
    },
    {
      "cell_type": "code",
      "metadata": {
        "id": "WNWw5RVFzHDV"
      },
      "source": [
        "from sklearn.datasets import make_classification"
      ],
      "execution_count": null,
      "outputs": []
    },
    {
      "cell_type": "code",
      "metadata": {
        "id": "BK3GU5PTy5MH"
      },
      "source": [
        "# Define dataset\n",
        "X, y = make_classification(n_samples=10000, n_features=2, n_redundant=0, n_clusters_per_class=1, weights=[0.99], flip_y=0, random_state=1)"
      ],
      "execution_count": null,
      "outputs": []
    },
    {
      "cell_type": "markdown",
      "metadata": {
        "id": "Bogh5rvwyXZg"
      },
      "source": [
        "- We can use the **Counter** object to summarize the **number of examples** in **each class** to confirm the dataset was created correctly."
      ]
    },
    {
      "cell_type": "code",
      "metadata": {
        "id": "e7gqVViAyP6a",
        "outputId": "7ed1267d-9374-4a03-c540-e9ea15d65ccc",
        "colab": {
          "base_uri": "https://localhost:8080/",
          "height": 34
        }
      },
      "source": [
        "# Summarize class distribution\n",
        "counter = Counter(y)\n",
        "print(counter)"
      ],
      "execution_count": null,
      "outputs": [
        {
          "output_type": "stream",
          "text": [
            "Counter({0: 9900, 1: 100})\n"
          ],
          "name": "stdout"
        }
      ]
    },
    {
      "cell_type": "markdown",
      "metadata": {
        "id": "SzNu1hWnyooG"
      },
      "source": [
        "- Finally, we can create a **scatter plot** of the dataset and **color** the examples for **each class** a **different color** to clearly see the spatial nature of the **class imbalance**."
      ]
    },
    {
      "cell_type": "code",
      "metadata": {
        "id": "MgcVP5dIyphm",
        "outputId": "05b7c9f7-4148-40a5-befa-fb1e140a50e3",
        "colab": {
          "base_uri": "https://localhost:8080/",
          "height": 265
        }
      },
      "source": [
        "# Scatter plot of examples by class label\n",
        "for label, _ in counter.items():\n",
        "\trow_ix = np.where(y == label)[0]\n",
        "\tplt.scatter(X[row_ix, 0], X[row_ix, 1], label=str(label))\n",
        "plt.legend()\n",
        "plt.show()"
      ],
      "execution_count": null,
      "outputs": [
        {
          "output_type": "display_data",
          "data": {
            "image/png": "[encoded data removed]",
            "text/plain": [
              "<Figure size 432x288 with 1 Axes>"
            ]
          },
          "metadata": {
            "tags": [],
            "needs_background": "light"
          }
        }
      ]
    },
    {
      "cell_type": "markdown",
      "metadata": {
        "id": "i_IDZCDazN82"
      },
      "source": [
        "**Observations:**\n",
        "\n",
        "- Running the code first summarizes the class distribution, confirms the **1:100 ratio**, in this case with about **9,900 examples** in the **majority** class and **100** in the **minority** class.\n",
        "\n",
        "- A **scatter plot** of the dataset is created showing the **large mass** of points that belong to the **minority** class (**blue**) and a **small number** of points spread out for the **minority** class (**orange**).\n",
        "\n",
        "- We can see some measure of **overlap** between the **two classes**."
      ]
    },
    {
      "cell_type": "markdown",
      "metadata": {
        "id": "s6fEaXgQSgCT"
      },
      "source": [
        "#### **Evaluating a ML model on Imbalanced Dataset**"
      ]
    },
    {
      "cell_type": "markdown",
      "metadata": {
        "id": "FayRgkhmbGcH"
      },
      "source": [
        "- Only adding a **Decision Tree** to the pipeline."
      ]
    },
    {
      "cell_type": "code",
      "metadata": {
        "id": "YCHJx7Q3RuBA"
      },
      "source": [
        "# Define pipeline\n",
        "steps = [('model', DecisionTreeClassifier())]\n",
        "pipeline = Pipeline(steps=steps)"
      ],
      "execution_count": null,
      "outputs": []
    },
    {
      "cell_type": "markdown",
      "metadata": {
        "id": "SeHqBHH1bLZB"
      },
      "source": [
        "- Performing **10-fold** cross-validation on the dataset, setting **accuracy** as the performance metric."
      ]
    },
    {
      "cell_type": "code",
      "metadata": {
        "id": "wsXgzmpzRuBH",
        "outputId": "bd5bfb84-9078-4301-e47a-6e185df4cfee",
        "colab": {
          "base_uri": "https://localhost:8080/",
          "height": 34
        }
      },
      "source": [
        "# Evaluate pipeline\n",
        "cv = RepeatedStratifiedKFold(n_splits=10, n_repeats=3, random_state=1)\n",
        "scores = cross_val_score(pipeline, X, y, scoring='accuracy', cv=cv, n_jobs=-1)\n",
        "score = np.mean(scores)\n",
        "print('Accuracy: %.3f' % score)"
      ],
      "execution_count": null,
      "outputs": [
        {
          "output_type": "stream",
          "text": [
            "Accuracy: 0.991\n"
          ],
          "name": "stdout"
        }
      ]
    },
    {
      "cell_type": "markdown",
      "metadata": {
        "id": "hmvU9FaoRuBH"
      },
      "source": [
        "- We get an **accuracy** of **99.1%** after performing 10-fold cross-validation on a Decision Tree model.\n",
        "\n",
        "- But, since our dataset contains **99% samples** belonging to **1 class**, and if our **model predicts all** the **samples** as the **majority class**, we will get an **accuracy** of **99%**.\n",
        "\n",
        "- Therefore, this can't be considered a good model at all, and we need to **balance** our **dataset** in order to train an effective model on it. "
      ]
    },
    {
      "cell_type": "markdown",
      "metadata": {
        "id": "uIKmxfuAy9rx"
      },
      "source": [
        "<a id = Section2></a>\n",
        "## **2. Treating Assumption Violation (Balancing)**"
      ]
    },
    {
      "cell_type": "markdown",
      "metadata": {
        "id": "1FSIp9WIPP5g"
      },
      "source": [
        "- **Tactics** to **Combat** Imbalanced Training data:\n",
        "\n",
        "  - **Collect more data**, if possible.\n",
        "\n",
        "  - Try **changing** the **performance metric**.\n",
        "\n",
        "  - Try **resampling** the dataset.\n",
        "\n",
        "  - Try **generating synthetic samples**."
      ]
    },
    {
      "cell_type": "markdown",
      "metadata": {
        "id": "H7Hzc6_86-Mb"
      },
      "source": [
        "- We will use **imbalanced-learn** library to balance our imbalanced datasets.\n",
        "\n",
        "- To **install** imbalanced-learn, run this command:"
      ]
    },
    {
      "cell_type": "code",
      "metadata": {
        "id": "uXrkbhEFz2b1"
      },
      "source": [
        "!pip install imbalanced-learn"
      ],
      "execution_count": null,
      "outputs": []
    },
    {
      "cell_type": "markdown",
      "metadata": {
        "id": "SeW_wnygOdVa"
      },
      "source": [
        "- To **update** the existing imbalanced-learn version to its latest state, use this command."
      ]
    },
    {
      "cell_type": "code",
      "metadata": {
        "id": "9vTMn1WsOc25",
        "outputId": "644e84b2-f3a0-45a4-80ef-d36ed98beb85",
        "colab": {
          "base_uri": "https://localhost:8080/",
          "height": 323
        }
      },
      "source": [
        "!pip install --upgrade imbalanced-learn"
      ],
      "execution_count": null,
      "outputs": [
        {
          "output_type": "stream",
          "text": [
            "Collecting imbalanced-learn\n",
            "\u001b[?25l  Downloading https://files.pythonhosted.org/packages/c8/73/36a13185c2acff44d601dc6107b5347e075561a49e15ddd4e69988414c3e/imbalanced_learn-0.6.2-py3-none-any.whl (163kB)\n",
            "\r\u001b[K     |██                              | 10kB 16.5MB/s eta 0:00:01\r\u001b[K     |████                            | 20kB 1.7MB/s eta 0:00:01\r\u001b[K     |██████                          | 30kB 2.2MB/s eta 0:00:01\r\u001b[K     |████████                        | 40kB 2.5MB/s eta 0:00:01\r\u001b[K     |██████████                      | 51kB 2.0MB/s eta 0:00:01\r\u001b[K     |████████████                    | 61kB 2.2MB/s eta 0:00:01\r\u001b[K     |██████████████                  | 71kB 2.5MB/s eta 0:00:01\r\u001b[K     |████████████████                | 81kB 2.6MB/s eta 0:00:01\r\u001b[K     |██████████████████              | 92kB 2.9MB/s eta 0:00:01\r\u001b[K     |████████████████████            | 102kB 2.7MB/s eta 0:00:01\r\u001b[K     |██████████████████████          | 112kB 2.7MB/s eta 0:00:01\r\u001b[K     |████████████████████████▏       | 122kB 2.7MB/s eta 0:00:01\r\u001b[K     |██████████████████████████▏     | 133kB 2.7MB/s eta 0:00:01\r\u001b[K     |████████████████████████████▏   | 143kB 2.7MB/s eta 0:00:01\r\u001b[K     |██████████████████████████████▏ | 153kB 2.7MB/s eta 0:00:01\r\u001b[K     |████████████████████████████████| 163kB 2.7MB/s \n",
            "\u001b[?25hRequirement already satisfied, skipping upgrade: joblib>=0.11 in /usr/local/lib/python3.6/dist-packages (from imbalanced-learn) (0.15.1)\n",
            "Requirement already satisfied, skipping upgrade: scikit-learn>=0.22 in /usr/local/lib/python3.6/dist-packages (from imbalanced-learn) (0.22.2.post1)\n",
            "Requirement already satisfied, skipping upgrade: scipy>=0.17 in /usr/local/lib/python3.6/dist-packages (from imbalanced-learn) (1.4.1)\n",
            "Requirement already satisfied, skipping upgrade: numpy>=1.11 in /usr/local/lib/python3.6/dist-packages (from imbalanced-learn) (1.18.4)\n",
            "Installing collected packages: imbalanced-learn\n",
            "  Found existing installation: imbalanced-learn 0.4.3\n",
            "    Uninstalling imbalanced-learn-0.4.3:\n",
            "      Successfully uninstalled imbalanced-learn-0.4.3\n",
            "Successfully installed imbalanced-learn-0.6.2\n"
          ],
          "name": "stdout"
        },
        {
          "output_type": "display_data",
          "data": {
            "application/vnd.colab-display-data+json": {
              "pip_warning": {
                "packages": [
                  "imblearn"
                ]
              }
            }
          },
          "metadata": {
            "tags": []
          }
        }
      ]
    },
    {
      "cell_type": "markdown",
      "metadata": {
        "id": "dGsSrbCMOK-z"
      },
      "source": [
        "**Note:** You need to restart the kernel after installing or updating the library in order to use it."
      ]
    },
    {
      "cell_type": "markdown",
      "metadata": {
        "id": "XMHkfAzdQXwF"
      },
      "source": [
        "<a id = Section201></a>\n",
        "### **2.1 Resampling**"
      ]
    },
    {
      "cell_type": "markdown",
      "metadata": {
        "id": "gB9Ws-i5PBWk"
      },
      "source": [
        "- **Resampling** involves **creating** a **new transformed version** of the training dataset in which the selected examples have a **different class distribution**.\n",
        "\n",
        "- This is a **simple** and **effective** strategy for imbalanced classification problems.\n",
        "\n",
        "<br> \n",
        "\n",
        "- The simplest strategy is to **choose examples** for the transformed dataset **randomly**, called **random resampling**.\n",
        "\n",
        "- There are **two** main **approaches** to random resampling for imbalanced classification:\n",
        "\n",
        "  - **Random Oversampling**: Randomly **duplicate** examples in the **minority** class.\n",
        "\n",
        "  - **Random Undersampling**: Randomly **delete** examples in the **majority** class."
      ]
    },
    {
      "cell_type": "markdown",
      "metadata": {
        "id": "RjXBmkTcUTpn"
      },
      "source": [
        "- Both approaches can be **repeated** until the **desired class distribution** is achieved in the training dataset, such as an equal split across the classes.\n",
        "\n",
        "- They are referred to as **“naive resampling”** methods because they **assume nothing** about the data and no heuristics are used.\n",
        "\n",
        "- This makes them **simple to implement** and **fast to execute**, which is desirable for very large and complex datasets.\n",
        "\n",
        "- Both techniques can be used for **two-class** (binary) classification problems and **multi-class** classification problems with one or more majority or minority classes.\n",
        "\n",
        "- Importantly, the **change** to the class distribution is only **applied** to the **training dataset**.\n",
        "\n",
        "  - The intent is to **influence** the **fit** of the models.\n",
        "  \n",
        "  - The resampling is **not applied** to the **test** or **holdout** dataset used to **evaluate** the performance of a model."
      ]
    },
    {
      "cell_type": "markdown",
      "metadata": {
        "id": "yBCYeHD7zdUu"
      },
      "source": [
        "<a id = Section20101></a>\n",
        "#### **2.1.1 Random Oversampling**"
      ]
    },
    {
      "cell_type": "markdown",
      "metadata": {
        "id": "0LukqzLBRGm8"
      },
      "source": [
        "- **Random oversamplin**g involves **randomly selecting examples** from the **minority** class, **with replacement**, and **adding** them to the **training** dataset.\n",
        "\n",
        "- Examples from the training dataset are selected **randomly with replacement**.\n",
        "\n",
        "  - This means that **examples** from the minority class can be **chosen** and **added** to the new “more balanced” training dataset **multiple times**.\n",
        "  \n",
        "  - They are **selected** from the original training dataset, **added** to the new training dataset, and then **returned** or “replaced” in the original dataset, allowing them to be **selected again.**\n",
        "\n",
        "<br> \n",
        "\n",
        "- This technique can be **effective** for those machine learning algorithms that are affected by a **skewed distribution** and where **multiple duplicate examples** for a given class can **influence** the **fit** of the model.\n",
        "\n",
        "  - This might include algorithms that **iteratively learn coefficients**, like **artificial neural networks** that use stochastic gradient descent.\n",
        "  \n",
        "  - It can also affect models that **seek good splits of** the **data**, such as **support vector machines** and **decision trees**.\n",
        "\n",
        "<br> \n",
        "\n",
        "- In some cases, seeking a balanced distribution for a severely imbalanced dataset can cause affected algorithms to **overfit** the **minority** class, leading to **increased generalization error**.\n",
        "\n",
        "  - The effect can be **better performance on** the **training** dataset, but **worse performance** on the **holdout** or **test** dataset.\n"
      ]
    },
    {
      "cell_type": "code",
      "metadata": {
        "id": "xa2tFwKV769L"
      },
      "source": [
        "from collections import Counter\n",
        "import numpy as np\n",
        "import matplotlib.pyplot as plt"
      ],
      "execution_count": null,
      "outputs": []
    },
    {
      "cell_type": "code",
      "metadata": {
        "id": "UQeg23Po6rkJ",
        "outputId": "226a15da-af62-4d2f-fb00-87b57fc231f4",
        "colab": {
          "base_uri": "https://localhost:8080/",
          "height": 34
        }
      },
      "source": [
        "from imblearn.pipeline import Pipeline\n",
        "from imblearn.over_sampling import RandomOverSampler"
      ],
      "execution_count": null,
      "outputs": [
        {
          "output_type": "stream",
          "text": [
            "Using TensorFlow backend.\n"
          ],
          "name": "stderr"
        }
      ]
    },
    {
      "cell_type": "code",
      "metadata": {
        "id": "pATVJRTh6oif"
      },
      "source": [
        "from sklearn.model_selection import cross_val_score\n",
        "from sklearn.model_selection import RepeatedStratifiedKFold\n",
        "from sklearn.tree import DecisionTreeClassifier"
      ],
      "execution_count": null,
      "outputs": []
    },
    {
      "cell_type": "markdown",
      "metadata": {
        "id": "NqRIyFTJ67kk"
      },
      "source": [
        "- Random oversampling can be implemented using the **RandomOverSampler** class.\n",
        "\n",
        "- It takes a `sampling_strategy` argument that can be set to **“minority”** to automatically **balance** the **minority** class with majority class or classes."
      ]
    },
    {
      "cell_type": "markdown",
      "metadata": {
        "id": "klnbzH0268H5"
      },
      "source": [
        "- This means that if the **majority** class had **1,000** examples and the **minority** class had **100**, this strategy would **oversampling** the **minority** class so that it has **1,000 examples**.\n",
        "\n",
        "- The class is like a scikit-learn transform object such that it is **fit** on a dataset, and then used to **generate** a new or transformed dataset.\n",
        "\n",
        "- Unlike the scikit-learn transforms, it will **change** the **number of examples** in the dataset, not just the values (like a scaler) or number of features (like a projection).\n",
        "\n",
        "- It can be **fit and applied** in one step by calling the `fit_sample()` function."
      ]
    },
    {
      "cell_type": "code",
      "metadata": {
        "id": "n-GdSOi4zcot"
      },
      "source": [
        "# Define oversampling strategy\n",
        "oversample = RandomOverSampler(sampling_strategy='minority')"
      ],
      "execution_count": null,
      "outputs": []
    },
    {
      "cell_type": "code",
      "metadata": {
        "id": "tkQ1R5S1zE8u"
      },
      "source": [
        "# Fit and apply the transform\n",
        "X_over, y_over = oversample.fit_resample(X, y)"
      ],
      "execution_count": null,
      "outputs": []
    },
    {
      "cell_type": "code",
      "metadata": {
        "id": "L5yeUyITZ5dy",
        "outputId": "c2411a3e-e011-4fa0-a933-b4055e546bee",
        "colab": {
          "base_uri": "https://localhost:8080/",
          "height": 34
        }
      },
      "source": [
        "# Summarize original class distribution\n",
        "print(Counter(y))"
      ],
      "execution_count": null,
      "outputs": [
        {
          "output_type": "stream",
          "text": [
            "Counter({0: 9900, 1: 100})\n"
          ],
          "name": "stdout"
        }
      ]
    },
    {
      "cell_type": "code",
      "metadata": {
        "id": "xa6nDfTa0dnZ",
        "outputId": "8bc037f5-6355-4368-8eea-7eb714209605",
        "colab": {
          "base_uri": "https://localhost:8080/",
          "height": 34
        }
      },
      "source": [
        "# Summarize class distribution\n",
        "print(Counter(y_over))"
      ],
      "execution_count": null,
      "outputs": [
        {
          "output_type": "stream",
          "text": [
            "Counter({0: 9900, 1: 9900})\n"
          ],
          "name": "stdout"
        }
      ]
    },
    {
      "cell_type": "markdown",
      "metadata": {
        "id": "XFdtSPLV69HR"
      },
      "source": [
        "- The original dataset had 9900 samples in the majority class and 100 samples in the minority class.\n",
        "\n",
        "- But, after the **Random Oversample** transform is **fitted** and **applied** to the dataset.\n",
        "\n",
        "  - The class distribution for the transformed dataset is showing that the **minority** class has the **same** number of **examples** as the **majority** class."
      ]
    },
    {
      "cell_type": "markdown",
      "metadata": {
        "id": "SW5P-ayY6lKu"
      },
      "source": [
        "#### **Creating a ML Pipeline with Random Oversampling**"
      ]
    },
    {
      "cell_type": "markdown",
      "metadata": {
        "id": "y8681lkUbEQ2"
      },
      "source": [
        "- Our pipeline will first perform **Random Oversampling** on the dataset, followed by a **Decision Tree Classifier**."
      ]
    },
    {
      "cell_type": "markdown",
      "metadata": {
        "id": "C4hUZ7BXbiGM"
      },
      "source": [
        "- Performing **10-fold cross-validation** on the dataset.\n",
        "\n",
        "- We are using **F1 score** as the evaluation **metric** for more robust results."
      ]
    },
    {
      "cell_type": "code",
      "metadata": {
        "id": "KHPsAAF67ZsP"
      },
      "source": [
        "# Define pipeline\n",
        "steps = [('over', RandomOverSampler()), ('model', DecisionTreeClassifier())]\n",
        "pipeline = Pipeline(steps=steps)"
      ],
      "execution_count": null,
      "outputs": []
    },
    {
      "cell_type": "code",
      "metadata": {
        "id": "OZtyfEDU6lhH",
        "outputId": "0832c7ea-161c-47df-9e09-98bf075556bb",
        "colab": {
          "base_uri": "https://localhost:8080/",
          "height": 34
        }
      },
      "source": [
        "# Evaluate pipeline\n",
        "cv = RepeatedStratifiedKFold(n_splits=10, n_repeats=3, random_state=1)\n",
        "scores = cross_val_score(pipeline, X, y, scoring='f1_micro', cv=cv, n_jobs=-1)\n",
        "score = np.mean(scores)\n",
        "print('F1 Score: %.3f' % score)"
      ],
      "execution_count": null,
      "outputs": [
        {
          "output_type": "stream",
          "text": [
            "F1 Score: 0.991\n"
          ],
          "name": "stdout"
        }
      ]
    },
    {
      "cell_type": "markdown",
      "metadata": {
        "id": "b0Dw-y9r7AE3"
      },
      "source": [
        "- We get a **F1 score** of **99.1%** after performing Random Oversampling and classification using Decision Tree Classifier.\n",
        "\n",
        "- The **results** might **vary slightly** every time this code is run, due to the **random nature** of the algorithm."
      ]
    },
    {
      "cell_type": "markdown",
      "metadata": {
        "id": "xYnkl5sVzheV"
      },
      "source": [
        "<a id = Section20102></a>\n",
        "#### **2.1.2 Random Undersampling**"
      ]
    },
    {
      "cell_type": "markdown",
      "metadata": {
        "id": "rejc4vtNRIwa"
      },
      "source": [
        "- Random undersampling involves **randomly selecting examples** from the **majority** class and **deleting** them from the training dataset.\n",
        "\n",
        "- This has the effect of **reducing** the **number** of **examples** in the **majority** class in the transformed version of the training dataset.\n",
        "\n",
        "<br>\n",
        "\n",
        "- This approach may be more **suitable** for those datasets where there is a **class imbalance** although a **sufficient** number of **examples** in the **minority** class.\n",
        "\n",
        "<br>\n",
        "\n",
        "- A **limitation** of undersampling is that **examples** from the majority class are **deleted** that may be **useful**, **important**, or perhaps **critical** to fitting a **robust decision boundary**.\n",
        "\n",
        "  - Given that examples are deleted randomly, there is no way to detect or preserve “good” or more information-rich examples from the majority class."
      ]
    },
    {
      "cell_type": "code",
      "metadata": {
        "id": "rS5LbzjC79Qy"
      },
      "source": [
        "from collections import Counter\n",
        "import numpy as np\n",
        "import matplotlib.pyplot as plt"
      ],
      "execution_count": null,
      "outputs": []
    },
    {
      "cell_type": "code",
      "metadata": {
        "id": "j0zUwjhY7EOD"
      },
      "source": [
        "from imblearn.pipeline import Pipeline\n",
        "from imblearn.under_sampling import RandomUnderSampler"
      ],
      "execution_count": null,
      "outputs": []
    },
    {
      "cell_type": "code",
      "metadata": {
        "id": "iXqgZLRy7t7H"
      },
      "source": [
        "from sklearn.model_selection import cross_val_score\n",
        "from sklearn.model_selection import RepeatedStratifiedKFold\n",
        "from sklearn.tree import DecisionTreeClassifier"
      ],
      "execution_count": null,
      "outputs": []
    },
    {
      "cell_type": "markdown",
      "metadata": {
        "id": "xAAzWOfS66Ua"
      },
      "source": [
        "- The random undersampling technique can be implemented using the **RandomUnderSampler** imbalanced-learn class.\n",
        "\n",
        "- Setting the `sampling_strategy` argument to **“majority”** will **undersample** the **majority** class determined by the class with the largest number of examples."
      ]
    },
    {
      "cell_type": "markdown",
      "metadata": {
        "id": "7QXE618d663_"
      },
      "source": [
        "- For example, a dataset with **1,000 examples** in the **majority** class and **100** examples in the **minority** class will be **undersampled** such that **both classes** would have **100 examples** in the transformed training dataset."
      ]
    },
    {
      "cell_type": "code",
      "metadata": {
        "id": "LQKUF0x_zkDu"
      },
      "source": [
        "# Define undersample strategy\n",
        "undersample = RandomUnderSampler(sampling_strategy='majority')"
      ],
      "execution_count": null,
      "outputs": []
    },
    {
      "cell_type": "code",
      "metadata": {
        "id": "F_iyNdNAzkGs"
      },
      "source": [
        "# Fit and apply the transform\n",
        "X_under, y_under = undersample.fit_resample(X, y)"
      ],
      "execution_count": null,
      "outputs": []
    },
    {
      "cell_type": "code",
      "metadata": {
        "id": "OW9tHhKmc0js",
        "outputId": "44bc1dfa-b8ea-4fc1-8de9-8b1a974f4e8d",
        "colab": {
          "base_uri": "https://localhost:8080/",
          "height": 34
        }
      },
      "source": [
        "# Summarize original class distribution\n",
        "print(Counter(y))"
      ],
      "execution_count": null,
      "outputs": [
        {
          "output_type": "stream",
          "text": [
            "Counter({0: 9900, 1: 100})\n"
          ],
          "name": "stdout"
        }
      ]
    },
    {
      "cell_type": "code",
      "metadata": {
        "id": "qVI1TTdI7RJA",
        "outputId": "ba2f6427-312d-4152-d360-9b06d9e4990f",
        "colab": {
          "base_uri": "https://localhost:8080/",
          "height": 34
        }
      },
      "source": [
        "# Summarize class distribution\n",
        "print(Counter(y_under))"
      ],
      "execution_count": null,
      "outputs": [
        {
          "output_type": "stream",
          "text": [
            "Counter({0: 100, 1: 100})\n"
          ],
          "name": "stdout"
        }
      ]
    },
    {
      "cell_type": "markdown",
      "metadata": {
        "id": "mbVrO5cW7rx_"
      },
      "source": [
        "- The original dataset had 9900 samples in the majority class and 100 samples in the minority class.\n",
        "\n",
        "- But, after the **Random Undersample** transform is **fitted** and **applied** to the dataset.\n",
        "\n",
        "  - We can see that that **majority** class is **undersampled** to have the **same** number of **examples** as the **minority** class."
      ]
    },
    {
      "cell_type": "markdown",
      "metadata": {
        "id": "In7BFVTsdBS2"
      },
      "source": [
        "#### **Creating a ML Pipeline with Random Underampling**"
      ]
    },
    {
      "cell_type": "markdown",
      "metadata": {
        "id": "Xl5KNKjLdBS3"
      },
      "source": [
        "- Our pipeline will first perform **Random Undersampling** on the dataset, followed by a **Decision Tree Classifier**."
      ]
    },
    {
      "cell_type": "code",
      "metadata": {
        "id": "Sb2oduC28ETB"
      },
      "source": [
        "# Define pipeline\n",
        "steps = [('under', RandomUnderSampler()), ('model', DecisionTreeClassifier())]\n",
        "pipeline = Pipeline(steps=steps)"
      ],
      "execution_count": null,
      "outputs": []
    },
    {
      "cell_type": "code",
      "metadata": {
        "id": "xiKph8Mv7r9w",
        "outputId": "351f1fdb-f4f7-48c2-bcd4-47caa6808749",
        "colab": {
          "base_uri": "https://localhost:8080/",
          "height": 34
        }
      },
      "source": [
        "# Evaluate pipeline\n",
        "cv = RepeatedStratifiedKFold(n_splits=10, n_repeats=3, random_state=1)\n",
        "scores = cross_val_score(pipeline, X, y, scoring='f1_micro', cv=cv, n_jobs=-1)\n",
        "score = np.mean(scores)\n",
        "print('F1 Score: %.3f' % score)"
      ],
      "execution_count": null,
      "outputs": [
        {
          "output_type": "stream",
          "text": [
            "F1 Score: 0.851\n"
          ],
          "name": "stdout"
        }
      ]
    },
    {
      "cell_type": "markdown",
      "metadata": {
        "id": "8BseDgsOdZpp"
      },
      "source": [
        "- We get a **F1 score** of **85.1%** after performing Random Underampling and classification using Decision Tree Classifier.\n",
        "\n",
        "- The **results** might **vary slightly** every time this code is run, due to the **random nature** of the algorithm.\n",
        "\n",
        "- These results are **worse** when compared with Random Oversampling results."
      ]
    },
    {
      "cell_type": "markdown",
      "metadata": {
        "id": "3HU_Hz508RXx"
      },
      "source": [
        "<a id = Section20103></a>\n",
        "#### **2.1.3 Combining Oversampling and Undersampling**"
      ]
    },
    {
      "cell_type": "markdown",
      "metadata": {
        "id": "Tht1yz0rlFUN"
      },
      "source": [
        "- Interesting results may be achieved by **combining** both **random oversampling** and **undersampling**.\n",
        "\n",
        "- For example, a **modest** amount of **oversampling** can be applied to the **minority** class to **improve** the **bias** towards these examples, whilst also applying a **modest** amount of **undersampling** to the **majority** class to **reduce** the **bias** on that class.\n",
        "\n",
        "- This can result in **improved overall performance** compared to performing one or the other techniques in isolation.\n",
        "\n",
        "- For example, if we had a dataset with a **1:100 class distribution**, we might first apply **oversampling** to **increase** the ratio to **1:10** by **duplicating** examples from the **minority** class, then apply **undersampling** to further **improve** the ratio to **1:2** by **deleting** examples from the **majority** class."
      ]
    },
    {
      "cell_type": "code",
      "metadata": {
        "id": "OifGj11K9QNJ"
      },
      "source": [
        "from collections import Counter\n",
        "import numpy as np\n",
        "import matplotlib.pyplot as plt"
      ],
      "execution_count": null,
      "outputs": []
    },
    {
      "cell_type": "code",
      "metadata": {
        "id": "YIHexpWS8bBK"
      },
      "source": [
        "from imblearn.pipeline import Pipeline\n",
        "from imblearn.over_sampling import RandomOverSampler\n",
        "from imblearn.under_sampling import RandomUnderSampler"
      ],
      "execution_count": null,
      "outputs": []
    },
    {
      "cell_type": "code",
      "metadata": {
        "id": "1ecTL6eg9FcC"
      },
      "source": [
        "from sklearn.model_selection import cross_val_score\n",
        "from sklearn.model_selection import RepeatedStratifiedKFold\n",
        "from sklearn.tree import DecisionTreeClassifier"
      ],
      "execution_count": null,
      "outputs": []
    },
    {
      "cell_type": "code",
      "metadata": {
        "id": "Gr9B_hx98vgQ",
        "outputId": "7a3fea98-83a5-4401-cdbc-e0208a577016",
        "colab": {
          "base_uri": "https://localhost:8080/",
          "height": 34
        }
      },
      "source": [
        "# Summarize original class distribution\n",
        "print(Counter(y))"
      ],
      "execution_count": null,
      "outputs": [
        {
          "output_type": "stream",
          "text": [
            "Counter({0: 9900, 1: 100})\n"
          ],
          "name": "stdout"
        }
      ]
    },
    {
      "cell_type": "markdown",
      "metadata": {
        "id": "NRBQJ7nFm6UT"
      },
      "source": [
        "- Originally, the **majority** class has **9900** samples, and the **minority** class has **100** samples."
      ]
    },
    {
      "cell_type": "markdown",
      "metadata": {
        "id": "aTJUEJqx8VCB"
      },
      "source": [
        "- This could be implemented using imbalanced-learn by using:\n",
        "\n",
        "  - A **RandomOverSampler** with `sampling_strategy` set to **0.1** (**10%**), then\n",
        "  \n",
        "  - A **RandomUnderSampler** with a `sampling_strategy` set to **0.5** (**50%**)."
      ]
    },
    {
      "cell_type": "markdown",
      "metadata": {
        "id": "bXt6vYpulznX"
      },
      "source": [
        "**Applying Random Oversampling**"
      ]
    },
    {
      "cell_type": "code",
      "metadata": {
        "id": "SOQkRZfg8d2i"
      },
      "source": [
        "# Define oversampling strategy\n",
        "over = RandomOverSampler(sampling_strategy=0.1)"
      ],
      "execution_count": null,
      "outputs": []
    },
    {
      "cell_type": "code",
      "metadata": {
        "id": "638vZLXM8d9N"
      },
      "source": [
        "# Fit and apply the transform\n",
        "X_new, y_new = over.fit_resample(X, y)"
      ],
      "execution_count": null,
      "outputs": []
    },
    {
      "cell_type": "code",
      "metadata": {
        "id": "au2LMri38lAZ",
        "outputId": "aba5a584-b11b-4e93-fa6d-e5773cb0e53b",
        "colab": {
          "base_uri": "https://localhost:8080/",
          "height": 34
        }
      },
      "source": [
        "# Summarize class distribution\n",
        "print(Counter(y_new))"
      ],
      "execution_count": null,
      "outputs": [
        {
          "output_type": "stream",
          "text": [
            "Counter({0: 9900, 1: 990})\n"
          ],
          "name": "stdout"
        }
      ]
    },
    {
      "cell_type": "markdown",
      "metadata": {
        "id": "d-YiEo-fmDy2"
      },
      "source": [
        "- The **majority** class now has **9900** samples, and the **minority** class has **990** samples, giving a **ratio** of **1:10**"
      ]
    },
    {
      "cell_type": "markdown",
      "metadata": {
        "id": "PwV0ToSh8ji3"
      },
      "source": [
        "**Applying Random Undersampling**"
      ]
    },
    {
      "cell_type": "code",
      "metadata": {
        "id": "UCWAZjmu8yVe"
      },
      "source": [
        "# Define undersampling strategy\n",
        "under = RandomUnderSampler(sampling_strategy=0.5)"
      ],
      "execution_count": null,
      "outputs": []
    },
    {
      "cell_type": "code",
      "metadata": {
        "id": "MSTkQd3V8ySJ"
      },
      "source": [
        "# Fit and apply the transform\n",
        "X_new, y_new = under.fit_resample(X_new, y_new)"
      ],
      "execution_count": null,
      "outputs": []
    },
    {
      "cell_type": "code",
      "metadata": {
        "id": "EL_BXqgg8VKR",
        "outputId": "5edf5ac1-663f-4f4b-874d-e205e4e9e2f4",
        "colab": {
          "base_uri": "https://localhost:8080/",
          "height": 34
        }
      },
      "source": [
        "# Summarize class distribution\n",
        "print(Counter(y_new))"
      ],
      "execution_count": null,
      "outputs": [
        {
          "output_type": "stream",
          "text": [
            "Counter({0: 1980, 1: 990})\n"
          ],
          "name": "stdout"
        }
      ]
    },
    {
      "cell_type": "markdown",
      "metadata": {
        "id": "NfKIJH429BrI"
      },
      "source": [
        "- The **majority** class now has **1980** samples, and the **minority** class has **990** samples, giving a **ratio** of **1:2**"
      ]
    },
    {
      "cell_type": "markdown",
      "metadata": {
        "id": "mcsAgwx-dKNK"
      },
      "source": [
        "#### **Creating a ML Pipeline with Random Oversampling and Undersampling**"
      ]
    },
    {
      "cell_type": "markdown",
      "metadata": {
        "id": "kuNLjvSDdKNM"
      },
      "source": [
        "- Our pipeline will first perform **Random Oversampling** on the dataset, and then **Random Undersampling**, followed by a **Decision Tree Classifier**."
      ]
    },
    {
      "cell_type": "code",
      "metadata": {
        "id": "2hf8T0Ko9fUL"
      },
      "source": [
        "# Define pipeline\n",
        "over = RandomOverSampler(sampling_strategy=0.1)\n",
        "under = RandomUnderSampler(sampling_strategy=0.5)\n",
        "steps = [('o', over), ('u', under), ('m', DecisionTreeClassifier())]\n",
        "pipeline = Pipeline(steps=steps)"
      ],
      "execution_count": null,
      "outputs": []
    },
    {
      "cell_type": "code",
      "metadata": {
        "id": "mMrabbcf9B0A",
        "outputId": "970fefc0-2444-453b-89dd-9fdc0be98263",
        "colab": {
          "base_uri": "https://localhost:8080/",
          "height": 34
        }
      },
      "source": [
        "# Evaluate pipeline\n",
        "cv = RepeatedStratifiedKFold(n_splits=10, n_repeats=3, random_state=1)\n",
        "scores = cross_val_score(pipeline, X, y, scoring='f1_micro', cv=cv, n_jobs=-1)\n",
        "score = np.mean(scores)\n",
        "print('F1 Score: %.3f' % score)"
      ],
      "execution_count": null,
      "outputs": [
        {
          "output_type": "stream",
          "text": [
            "F1 Score: 0.982\n"
          ],
          "name": "stdout"
        }
      ]
    },
    {
      "cell_type": "markdown",
      "metadata": {
        "id": "O_MvC5Bw-iFE"
      },
      "source": [
        "- We get a **F1 score** of **98.2%** after performing both Random Oversampling and Underampling, and then classification using Decision Tree Classifier.\n",
        "\n",
        "- The **results** might **vary slightly** every time this code is run, due to the **random nature** of the algorithm.\n",
        "\n",
        "- These results are way **better** when compared with Random Undersampling results, but still a little lower than Random Oversampling results.\n",
        "\n",
        "- This might not be the case for other real-world datasets, and we might achieve better results than Random Oversampling as well.\n",
        "\n",
        "- Always **experiment** with **different Resampling techniques** and compare the results before finalizing a method."
      ]
    },
    {
      "cell_type": "markdown",
      "metadata": {
        "id": "ydLC8Y9FzkR3"
      },
      "source": [
        "<a id = Section202></a>\n",
        "### **2.2 Generating Synthetic Samples using SMOTE**"
      ]
    },
    {
      "cell_type": "markdown",
      "metadata": {
        "id": "VAaQHiLuoP8s"
      },
      "source": [
        "- An **improvement** on **duplicating** examples from the **minority** class is to **synthesize new examples** from the **minority** class.\n",
        "\n",
        "- This is a type of **data augmentation** for **tabular data** and can be very **effective**.\n",
        "\n",
        "- Perhaps the **most** widely used approach to synthesizing new examples is called the **Synthetic Minority Oversampling TEchnique**, or **SMOTE** for short."
      ]
    },
    {
      "cell_type": "markdown",
      "metadata": {
        "id": "m8gDzFuHVdFe"
      },
      "source": [
        "<a id = Section20201></a>\n",
        "#### **2.2.1 Oversampling using SMOTE**"
      ]
    },
    {
      "cell_type": "markdown",
      "metadata": {
        "id": "QcSyr9MIokXN"
      },
      "source": [
        "- SMOTE works by **selecting examples** that are **close** in the **feature space**, **drawing** a **line** between the examples in the feature space and **drawing** a **new sample** at a **point along** that **line**.\n",
        "\n",
        "  - Specifically, a **random** example from the **minority** class is first chosen.\n",
        "\n",
        "  - Then **k** of the **nearest neighbors** for that example are **found** (typically k=5).\n",
        "  \n",
        "  - A **randomly selected neighbor** is chosen and a **synthetic** example is **created** at a **randomly selected point** between the two examples in feature space.\n",
        "\n",
        "- This procedure can be used to **create** as many **synthetic** examples for the **minority** class as are required.\n",
        "\n",
        "<br> \n",
        "\n",
        "- It is suggested, to first **using random undersampling trim** the number of **examples** in the **majority** class, then **use SMOTE** to **oversample** the **minority** class to balance the class distribution.\n",
        "\n",
        "  - The approach is **effective** because **new synthetic examples** from the minority class are created that are **plausible**, that is, are relatively **close in feature spac**e to existing examples from the **minority** class.\n",
        "\n",
        "<br> \n",
        "\n",
        "- A general **downside** of the approach is that **synthetic** examples are created **without considering** the **majority** class, possibly **resulting** in **ambiguous** examples if there is a **strong overlap** for the classes."
      ]
    },
    {
      "cell_type": "code",
      "metadata": {
        "id": "BZPL1UHu9t3Z"
      },
      "source": [
        "from collections import Counter\n",
        "import numpy as np\n",
        "import matplotlib.pyplot as plt"
      ],
      "execution_count": null,
      "outputs": []
    },
    {
      "cell_type": "code",
      "metadata": {
        "id": "5J1mIUhj9owk"
      },
      "source": [
        "from imblearn.over_sampling import SMOTE\n",
        "from imblearn.under_sampling import RandomUnderSampler\n",
        "from imblearn.pipeline import Pipeline"
      ],
      "execution_count": null,
      "outputs": []
    },
    {
      "cell_type": "code",
      "metadata": {
        "id": "VmfzzTKn_lyD"
      },
      "source": [
        "from sklearn.model_selection import cross_val_score\n",
        "from sklearn.model_selection import RepeatedStratifiedKFold\n",
        "from sklearn.tree import DecisionTreeClassifier"
      ],
      "execution_count": null,
      "outputs": []
    },
    {
      "cell_type": "code",
      "metadata": {
        "id": "ghJPZBUSs9ee",
        "outputId": "40dbc236-41da-4ac2-f42e-5c4ae0ff2e21",
        "colab": {
          "base_uri": "https://localhost:8080/",
          "height": 34
        }
      },
      "source": [
        "# Summarize original class distribution\n",
        "print(Counter(y))"
      ],
      "execution_count": null,
      "outputs": [
        {
          "output_type": "stream",
          "text": [
            "Counter({0: 9900, 1: 100})\n"
          ],
          "name": "stdout"
        }
      ]
    },
    {
      "cell_type": "markdown",
      "metadata": {
        "id": "VdxBbxgp-lYt"
      },
      "source": [
        "- We can use the SMOTE implementation provided by the imbalanced-learn Python library in the **SMOTE** class."
      ]
    },
    {
      "cell_type": "markdown",
      "metadata": {
        "id": "aP5tGPUI-l7O"
      },
      "source": [
        "- We will **define** a **SMOTE** instance with default parameters that will **balance** the **minority** class.\n",
        "\n",
        "- And then **fit** and **apply** it in one step to create a **transformed** version of our dataset."
      ]
    },
    {
      "cell_type": "code",
      "metadata": {
        "id": "FPXFgtvQ9keH"
      },
      "source": [
        "# Transform the dataset\n",
        "oversample = SMOTE()\n",
        "X_new, y_new = oversample.fit_resample(X, y)"
      ],
      "execution_count": null,
      "outputs": []
    },
    {
      "cell_type": "code",
      "metadata": {
        "id": "FJNpdmPS9laH",
        "outputId": "2ca9c7b4-73a1-402c-f711-dc5aa57ae754",
        "colab": {
          "base_uri": "https://localhost:8080/",
          "height": 34
        }
      },
      "source": [
        "# Summarize the new class distribution\n",
        "counter = Counter(y_new)\n",
        "print(counter)"
      ],
      "execution_count": null,
      "outputs": [
        {
          "output_type": "stream",
          "text": [
            "Counter({0: 9900, 1: 9900})\n"
          ],
          "name": "stdout"
        }
      ]
    },
    {
      "cell_type": "markdown",
      "metadata": {
        "id": "j7p-bCOh-mWU"
      },
      "source": [
        "- The transformed dataset has a **balanced** distribution now with **9,900** examples in **both** the **classes**."
      ]
    },
    {
      "cell_type": "code",
      "metadata": {
        "id": "v-l41pWv9lUI",
        "outputId": "d46a19bb-9438-4245-e642-8c86f3d6db25",
        "colab": {
          "base_uri": "https://localhost:8080/",
          "height": 265
        }
      },
      "source": [
        "# Scatter plot of examples by class label\n",
        "for label, _ in counter.items():\n",
        "\trow_ix = np.where(y_new == label)[0]\n",
        "\tplt.scatter(X_new[row_ix, 0], X_new[row_ix, 1], label=str(label))\n",
        "plt.legend()\n",
        "plt.show()"
      ],
      "execution_count": null,
      "outputs": [
        {
          "output_type": "display_data",
          "data": {
            "image/png": "[encoded data removed]",
            "text/plain": [
              "<Figure size 432x288 with 1 Axes>"
            ]
          },
          "metadata": {
            "tags": [],
            "needs_background": "light"
          }
        }
      ]
    },
    {
      "cell_type": "markdown",
      "metadata": {
        "id": "on8MFDCb-LWK"
      },
      "source": [
        "- The scatter plot shows **many more example**s in the **minority** class **created** along the lines **between** the **original** examples in the minority class."
      ]
    },
    {
      "cell_type": "markdown",
      "metadata": {
        "id": "e9x8Y7H4t6Qt"
      },
      "source": [
        "#### **Creating a Pipeline with SMOTE and Random Undersampling**"
      ]
    },
    {
      "cell_type": "markdown",
      "metadata": {
        "id": "AwLfRcO4t6Qu"
      },
      "source": [
        "- Our pipeline will first perform **Oversampling** using **SMOTE** on the dataset, and then **Random Undersampling**."
      ]
    },
    {
      "cell_type": "code",
      "metadata": {
        "id": "mVYlVx0h-VFu"
      },
      "source": [
        "# Define pipeline\n",
        "over = SMOTE(sampling_strategy=0.1)\n",
        "under = RandomUnderSampler(sampling_strategy=0.5)\n",
        "steps = [('o', over), ('u', under)]\n",
        "pipeline = Pipeline(steps=steps)"
      ],
      "execution_count": null,
      "outputs": []
    },
    {
      "cell_type": "code",
      "metadata": {
        "id": "qFNuAZei-Wd3"
      },
      "source": [
        "# Transform the dataset\n",
        "X_new, y_new = pipeline.fit_resample(X, y)"
      ],
      "execution_count": null,
      "outputs": []
    },
    {
      "cell_type": "code",
      "metadata": {
        "id": "w6-xyaLp-aGZ",
        "outputId": "0b35c45f-b2cf-4f72-e56a-2e80cb52c3b3",
        "colab": {
          "base_uri": "https://localhost:8080/",
          "height": 34
        }
      },
      "source": [
        "# Summarize the new class distribution\n",
        "counter = Counter(y_new)\n",
        "print(counter)"
      ],
      "execution_count": null,
      "outputs": [
        {
          "output_type": "stream",
          "text": [
            "Counter({0: 1980, 1: 990})\n"
          ],
          "name": "stdout"
        }
      ]
    },
    {
      "cell_type": "markdown",
      "metadata": {
        "id": "XqB1uKS3-oYE"
      },
      "source": [
        "- The **majority** class now has **1980** samples, and the **minority** class has **990** samples, giving a **ratio** of **1:2**"
      ]
    },
    {
      "cell_type": "code",
      "metadata": {
        "id": "Gf5fQiMZ9lXo",
        "outputId": "44d424d0-e4ae-49e1-91f7-00002828577d",
        "colab": {
          "base_uri": "https://localhost:8080/",
          "height": 265
        }
      },
      "source": [
        "# scatter plot of examples by class label\n",
        "for label, _ in counter.items():\n",
        "\trow_ix = np.where(y_new == label)[0]\n",
        "\tplt.scatter(X_new[row_ix, 0], X_new[row_ix, 1], label=str(label))\n",
        "plt.legend()\n",
        "plt.show()"
      ],
      "execution_count": null,
      "outputs": [
        {
          "output_type": "display_data",
          "data": {
            "image/png": "[encoded data removed]",
            "text/plain": [
              "<Figure size 432x288 with 1 Axes>"
            ]
          },
          "metadata": {
            "tags": [],
            "needs_background": "light"
          }
        }
      ]
    },
    {
      "cell_type": "markdown",
      "metadata": {
        "id": "xyUWWZnP_ohh"
      },
      "source": [
        "<a id = Section20202></a>\n",
        "#### **2.2.2 SMOTE for Classification**"
      ]
    },
    {
      "cell_type": "markdown",
      "metadata": {
        "id": "Gv7ZlV57uKN3"
      },
      "source": [
        "#### **Creating a ML Pipeline with SMOTE**"
      ]
    },
    {
      "cell_type": "markdown",
      "metadata": {
        "id": "DLCGE24euKN4"
      },
      "source": [
        "- Our pipeline will first perform **Oversampling** using **SMOTE** on the dataset, followed by a **Decision Tree Classifier**."
      ]
    },
    {
      "cell_type": "code",
      "metadata": {
        "id": "b1rcW4hp_nh9"
      },
      "source": [
        "# Define pipeline\n",
        "steps = [('over', SMOTE()), ('model', DecisionTreeClassifier())]\n",
        "pipeline = Pipeline(steps=steps)"
      ],
      "execution_count": null,
      "outputs": []
    },
    {
      "cell_type": "code",
      "metadata": {
        "id": "3T-ILpJl_ehM",
        "outputId": "0b9b4940-7fbc-45d4-cb64-9c59493833a8",
        "colab": {
          "base_uri": "https://localhost:8080/",
          "height": 34
        }
      },
      "source": [
        "# Evaluate pipeline\n",
        "cv = RepeatedStratifiedKFold(n_splits=10, n_repeats=3, random_state=1)\n",
        "scores = cross_val_score(pipeline, X, y, scoring='f1_micro', cv=cv, n_jobs=-1)\n",
        "print('Mean F1 Score: %.3f' % np.mean(scores))"
      ],
      "execution_count": null,
      "outputs": [
        {
          "output_type": "stream",
          "text": [
            "Mean F1 Score: 0.934\n"
          ],
          "name": "stdout"
        }
      ]
    },
    {
      "cell_type": "markdown",
      "metadata": {
        "id": "bY8ncIOnABp0"
      },
      "source": [
        "- We get a **F1 score** of **93.4%** after performing **Oversampling using SMOTE**, and then classification using Decision Tree Classifier.\n",
        "\n",
        "- The **results** might **vary slightly** every time this code is run, due to the **random nature** of the algorithm."
      ]
    },
    {
      "cell_type": "markdown",
      "metadata": {
        "id": "jYj8h4kOu55f"
      },
      "source": [
        "#### **Creating a ML Pipeline with SMOTE and Random Undersampling**"
      ]
    },
    {
      "cell_type": "markdown",
      "metadata": {
        "id": "YqnrWUeWu55f"
      },
      "source": [
        "- Our pipeline will first perform **Oversampling** using **SMOTE** on the dataset, and then **Random Undersampling**, followed by a **Decision Tree Classifier**."
      ]
    },
    {
      "cell_type": "code",
      "metadata": {
        "id": "R3ypNulJAGtl"
      },
      "source": [
        "# Define pipeline\n",
        "model = DecisionTreeClassifier()\n",
        "over = SMOTE(sampling_strategy=0.1)\n",
        "under = RandomUnderSampler(sampling_strategy=0.5)\n",
        "steps = [('over', over), ('under', under), ('model', model)]\n",
        "pipeline = Pipeline(steps=steps)"
      ],
      "execution_count": null,
      "outputs": []
    },
    {
      "cell_type": "code",
      "metadata": {
        "id": "jvpK_rUJAByR",
        "outputId": "c74f25df-e102-4f1a-9415-4528e0c2b9d8",
        "colab": {
          "base_uri": "https://localhost:8080/",
          "height": 34
        }
      },
      "source": [
        "# Evaluate pipeline\n",
        "cv = RepeatedStratifiedKFold(n_splits=10, n_repeats=3, random_state=1)\n",
        "scores = cross_val_score(pipeline, X, y, scoring='f1_micro', cv=cv, n_jobs=-1)\n",
        "print('Mean F1 Score: %.3f' % np.mean(scores))"
      ],
      "execution_count": null,
      "outputs": [
        {
          "output_type": "stream",
          "text": [
            "Mean F1 Score: 0.942\n"
          ],
          "name": "stdout"
        }
      ]
    },
    {
      "cell_type": "markdown",
      "metadata": {
        "id": "szoB4IpRAHuK"
      },
      "source": [
        "- We get a **F1 score** of **94.2%** after performing both Oversampling using SMOTE and Random Underampling, and then classification using Decision Tree Classifier.\n",
        "\n",
        "- The **results** might **vary slightly** every time this code is run, due to the **random nature** of the algorithm.\n",
        "\n",
        "- We are getting **better results** when **SMOTE** is **coupled** with **Random Undersampling**."
      ]
    },
    {
      "cell_type": "markdown",
      "metadata": {
        "id": "Z1ZIz0FCcST2"
      },
      "source": [
        "<a id = Section203></a>\n",
        "### **2.3 Cluster Centroid Undersampling**"
      ]
    },
    {
      "cell_type": "markdown",
      "metadata": {
        "id": "2rgicXw3j0zI"
      },
      "source": [
        "- In Cluster Centorid Undersampling, we perform **under-sampling** by **generating centroids** based on **clustering** methods.\n",
        "\n",
        "- It **under samples** the **majority** class by **replacing** a **cluster** of **majority samples** by the **cluster centroid** of a **KMeans** algorithm.\n",
        "\n",
        "- This algorithm **keeps N majority samples** by fitting the **KMeans** algorithm with **N cluster** to the majority class and using the **coordinates** of the **N cluster centroids** as the **new majority samples**."
      ]
    },
    {
      "cell_type": "code",
      "metadata": {
        "id": "ShZ86ngYk8jT"
      },
      "source": [
        "from collections import Counter\n",
        "import numpy as np\n",
        "import matplotlib.pyplot as plt"
      ],
      "execution_count": null,
      "outputs": []
    },
    {
      "cell_type": "code",
      "metadata": {
        "id": "issh8a1L5haU"
      },
      "source": [
        "from imblearn.pipeline import Pipeline\n",
        "from imblearn.under_sampling import ClusterCentroids"
      ],
      "execution_count": null,
      "outputs": []
    },
    {
      "cell_type": "code",
      "metadata": {
        "id": "7nAzuVwi5haX"
      },
      "source": [
        "from sklearn.model_selection import cross_val_score\n",
        "from sklearn.model_selection import RepeatedStratifiedKFold\n",
        "from sklearn.tree import DecisionTreeClassifier"
      ],
      "execution_count": null,
      "outputs": []
    },
    {
      "cell_type": "code",
      "metadata": {
        "outputId": "65a927c5-0839-499f-f3b6-020ea8210d6b",
        "id": "SmHU2Vw4k8ja",
        "colab": {
          "base_uri": "https://localhost:8080/",
          "height": 34
        }
      },
      "source": [
        "# Summarize original class distribution\n",
        "print(Counter(y))"
      ],
      "execution_count": null,
      "outputs": [
        {
          "output_type": "stream",
          "text": [
            "Counter({0: 9900, 1: 100})\n"
          ],
          "name": "stdout"
        }
      ]
    },
    {
      "cell_type": "markdown",
      "metadata": {
        "id": "ry4gQ0gOk8jc"
      },
      "source": [
        "- We can implement this procedure using the **ClusterCentroids** class in the imbalanced-learn library."
      ]
    },
    {
      "cell_type": "code",
      "metadata": {
        "id": "08mFC65Uk8jc"
      },
      "source": [
        "# Transform the dataset\n",
        "undersample = ClusterCentroids(random_state=42)\n",
        "X_new, y_new = undersample.fit_resample(X, y)"
      ],
      "execution_count": null,
      "outputs": []
    },
    {
      "cell_type": "code",
      "metadata": {
        "outputId": "4c015db6-fcd6-430e-8844-a5d6d3c7c6fa",
        "id": "EcRojWpbk8je",
        "colab": {
          "base_uri": "https://localhost:8080/",
          "height": 34
        }
      },
      "source": [
        "# Summarize the new class distribution\n",
        "counter = Counter(y_new)\n",
        "print(counter)"
      ],
      "execution_count": null,
      "outputs": [
        {
          "output_type": "stream",
          "text": [
            "Counter({0: 100, 1: 100})\n"
          ],
          "name": "stdout"
        }
      ]
    },
    {
      "cell_type": "markdown",
      "metadata": {
        "id": "VSaFBXECk8jg"
      },
      "source": [
        "- The class distribution is **balanced** after applying **Cluster Centroid** sampling into the dataset.\n",
        "\n",
        "- The **majority** class is **undersampled** to have same number of samples as the minority class."
      ]
    },
    {
      "cell_type": "code",
      "metadata": {
        "outputId": "db50bb83-913b-4595-9c68-2c1886702c8f",
        "id": "X50gcW1Tk8jh",
        "colab": {
          "base_uri": "https://localhost:8080/",
          "height": 265
        }
      },
      "source": [
        "# Scatter plot of examples by class label\n",
        "for label, _ in counter.items():\n",
        "\trow_ix = np.where(y_new == label)[0]\n",
        "\tplt.scatter(X_new[row_ix, 0], X_new[row_ix, 1], label=str(label))\n",
        "plt.legend()\n",
        "plt.show()"
      ],
      "execution_count": null,
      "outputs": [
        {
          "output_type": "display_data",
          "data": {
            "image/png": "[encoded data removed]",
            "text/plain": [
              "<Figure size 432x288 with 1 Axes>"
            ]
          },
          "metadata": {
            "tags": [],
            "needs_background": "light"
          }
        }
      ]
    },
    {
      "cell_type": "markdown",
      "metadata": {
        "id": "Jr4WKgAO5VC7"
      },
      "source": [
        "#### **Creating a ML Pipeline with Cluster Centroid Undersampling**"
      ]
    },
    {
      "cell_type": "markdown",
      "metadata": {
        "id": "E14vmU9j5VDA"
      },
      "source": [
        "- Our pipeline will first perform **Cluster Centroid Undersampling** on the dataset, followed by a **Decision Tree Classifier**."
      ]
    },
    {
      "cell_type": "code",
      "metadata": {
        "id": "hcaSpPgb5VDC"
      },
      "source": [
        "# Define pipeline\n",
        "steps = [('under', ClusterCentroids(random_state=42)), ('model', DecisionTreeClassifier())]\n",
        "pipeline = Pipeline(steps=steps)"
      ],
      "execution_count": null,
      "outputs": []
    },
    {
      "cell_type": "code",
      "metadata": {
        "outputId": "68cd00bf-f61f-4582-9759-270b8efc33f0",
        "id": "PlBA8gu75VDH",
        "colab": {
          "base_uri": "https://localhost:8080/",
          "height": 34
        }
      },
      "source": [
        "# Evaluate pipeline\n",
        "cv = RepeatedStratifiedKFold(n_splits=10, n_repeats=3, random_state=1)\n",
        "scores = cross_val_score(pipeline, X, y, scoring='f1_micro', cv=cv, n_jobs=-1)\n",
        "score = np.mean(scores)\n",
        "print('F1 Score: %.3f' % score)"
      ],
      "execution_count": null,
      "outputs": [
        {
          "output_type": "stream",
          "text": [
            "F1 Score: 0.888\n"
          ],
          "name": "stdout"
        }
      ]
    },
    {
      "cell_type": "markdown",
      "metadata": {
        "id": "50xVTvfr5VDK"
      },
      "source": [
        "- We get a **F1 score** of **88.8%** after performing Cluster Centroid Underampling and classification using Decision Tree Classifier.\n",
        "\n",
        "- The **results** might **vary slightly** every time this code is run, due to the **random nature** of the algorithm.\n",
        "\n",
        "- These results are much **better** than Random Undersampling, which had a **F1 score** of **85.1%**"
      ]
    }
  ]
}