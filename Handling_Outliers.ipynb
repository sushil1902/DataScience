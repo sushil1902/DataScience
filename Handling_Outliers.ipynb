{
  "nbformat": 4,
  "nbformat_minor": 0,
  "metadata": {
    "colab": {
      "name": "Handling Outliers.ipynb",
      "provenance": [],
      "collapsed_sections": [],
      "toc_visible": true
    },
    "kernelspec": {
      "name": "python3",
      "display_name": "Python 3"
    }
  },
  "cells": [
    {
      "cell_type": "markdown",
      "metadata": {
        "id": "V7i7Mb3WKWtI"
      },
      "source": [
        "\n",
        "\n",
        "<h1><center><strong>Handling Outliers</strong></center></h1>"
      ]
    },
    {
      "cell_type": "markdown",
      "metadata": {
        "id": "LKqoTLYsbj63"
      },
      "source": [
        "# **Table of Contents**\n",
        "\n",
        "1. [Introduction](#Section1)<br><br>\n",
        "2. [Standard Deviation Method](#Section2)<br><br>\n",
        "3. [Interquartile Range Method](#Section3)<br><br>\n",
        "4. [Automatic Outlier Detection](#Section4)<br><br>"
      ]
    },
    {
      "cell_type": "markdown",
      "metadata": {
        "id": "76Wh5CEJxUFl"
      },
      "source": [
        "<a id = Section1></a>\n",
        "### **1. Introduction**"
      ]
    },
    {
      "cell_type": "markdown",
      "metadata": {
        "id": "_tqHBgrGHVh5"
      },
      "source": [
        "- An **outlier** is an observation that is **unlike** the other observations.\n",
        "\n",
        "- It is **rare**, or **distinct**, or **does not fit** in some way.\n",
        "\n",
        "- Outliers can have many **causes**, such as:\n",
        "  \n",
        "  - **Measurement or input error**.\n",
        "\n",
        "  - **Data corruption**.\n",
        "\n",
        "<br> \n",
        "\n",
        "- There is **no precise way** to **define** and **identify outliers** in general because of the specifics of each dataset.\n",
        "\n",
        "  - Instead, you, or a domain expert, must **interpret** the **raw observations** and **decide** whether a **value** is an **outlier or not**.\n",
        "\n",
        "- Nevertheless, we can use **statistical methods** to **identify** observations that appear to be **rare** or **unlikely** given the available data.\n",
        "\n",
        "<br> \n",
        "\n",
        "- **Methods** to **Remove Outliers**:\n",
        "\n",
        "  - **Standard Deviation** Method\n",
        "\n",
        "  - **Interquartile Range** Method\n",
        "\n",
        "  - **Automatic** Outlier Detection"
      ]
    },
    {
      "cell_type": "markdown",
      "metadata": {
        "id": "BqPYLDyGAeFh"
      },
      "source": [
        "**Creating a Test Dataset for Outlier Detection and Removal**"
      ]
    },
    {
      "cell_type": "code",
      "metadata": {
        "id": "Uq03pYJAIOM_"
      },
      "source": [
        "import numpy as np"
      ],
      "execution_count": null,
      "outputs": []
    },
    {
      "cell_type": "code",
      "metadata": {
        "id": "aEoFVmV6AwLG"
      },
      "source": [
        "# Seed the random number generator\n",
        "np.random.seed(1)\n",
        "\n",
        "# Generate univariate observations\n",
        "data = 5 * np.random.randn(10000) + 50"
      ],
      "execution_count": null,
      "outputs": []
    },
    {
      "cell_type": "markdown",
      "metadata": {
        "id": "YlqbZ_i_AbXJ"
      },
      "source": [
        "<a id = Section2></a>\n",
        "### **2. Standard Deviation Method**"
      ]
    },
    {
      "cell_type": "markdown",
      "metadata": {
        "id": "WO54IAy1Ie00"
      },
      "source": [
        "- If we know that the **distribution** of values in the sample is **Gaussian** or **Gaussian-like**, we can use the **standard deviation** of the sample as a **cut-off** for identifying **outliers**.\n",
        "\n",
        "- The **Gaussian distribution** has the **property** that the **standard deviation from** the **mean** can be used to reliably **summarize** the **percentage** of **values** in the sample.\n",
        "\n",
        "- For example, within **one standard deviation** of the **mean** will cover **68%** of the **data**.\n",
        "\n",
        "- We can cover more of the data sample if we expand the range as follows:\n",
        "\n",
        "  - **1** Standard Deviation from the Mean: **68%**\n",
        "    \n",
        "  - **2** Standard Deviations from the Mean: **95%**\n",
        "    \n",
        "  - **3** Standard Deviations from the Mean: **99.7%**\n",
        "\n",
        "<br> \n",
        "\n",
        "- A **value** that falls **outside** of **3 standard deviations** is part of the distribution, but it is an **unlikely** or **rare** event at approximately **1 in 370 samples**.\n",
        "\n",
        "- **Three** standard deviations from the mean is a **common cut-off** in practice for identifying outliers in a Gaussian or Gaussian-like distribution.\n",
        "\n",
        "- For **smaller** samples of **data**, perhaps a value of **2** standard deviations (**95%**) can be used, and for **larger samples**, perhaps a value of **4** standard deviations (**99.9%**) can be used."
      ]
    },
    {
      "cell_type": "markdown",
      "metadata": {
        "id": "fmWhZ6qGAovi"
      },
      "source": [
        "- We can calculate the **mean** and **standard deviation** of a given sample.\n",
        "\n",
        "- Then calculate the **cut-off** for identifying **outliers** as more than **3** standard deviations from the mean."
      ]
    },
    {
      "cell_type": "code",
      "metadata": {
        "id": "8EJUS0S5A0NP",
        "outputId": "66cf92fd-8190-4dc5-bea6-2b291b44c974",
        "colab": {
          "base_uri": "https://localhost:8080/",
          "height": 50
        }
      },
      "source": [
        "# Calculate summary statistics\n",
        "data_mean, data_std = np.mean(data), np.std(data)\n",
        "print('Mean:', data_mean)\n",
        "print('Standard Deviation:', data_std)"
      ],
      "execution_count": null,
      "outputs": [
        {
          "output_type": "stream",
          "text": [
            "Mean: 50.04886328349552\n",
            "Standard Deviation: 4.993929218440242\n"
          ],
          "name": "stdout"
        }
      ]
    },
    {
      "cell_type": "markdown",
      "metadata": {
        "id": "kyvwfhNNK549"
      },
      "source": [
        "- The **mean** of the sample is **50.04** and the **standard deviation** is **4.99**"
      ]
    },
    {
      "cell_type": "code",
      "metadata": {
        "id": "Z0v52Fg0A0K8",
        "outputId": "09d197e8-a3e9-4857-822b-38b8fd7789c5",
        "colab": {
          "base_uri": "https://localhost:8080/",
          "height": 67
        }
      },
      "source": [
        "# Identify outliers\n",
        "cut_off = data_std * 3\n",
        "lower, upper = data_mean - cut_off, data_mean + cut_off\n",
        "print('Cut Off Value from Mean:', cut_off)\n",
        "print('Lower Bound:', lower)\n",
        "print('Upper Bound:', upper)"
      ],
      "execution_count": null,
      "outputs": [
        {
          "output_type": "stream",
          "text": [
            "Cut Off Value from Mean: 14.981787655320726\n",
            "Lower Bound: 35.06707562817479\n",
            "Upper Bound: 65.03065093881625\n"
          ],
          "name": "stdout"
        }
      ]
    },
    {
      "cell_type": "markdown",
      "metadata": {
        "id": "t5ws1ucsLDCU"
      },
      "source": [
        "- The calculated **cut-off** value for identifying outliers is **14.98** from **mean**.\n",
        "\n",
        "- Using this value:\n",
        "\n",
        "  - The **lower bound** for outliers is **35.06**\n",
        "\n",
        "  - The **upper bound** for outliers is **65.03**\n",
        "\n",
        "- Any value **outside** these **bounds** will be treated as an **outlier**."
      ]
    },
    {
      "cell_type": "markdown",
      "metadata": {
        "id": "I3Zv0NR1BhB0"
      },
      "source": [
        "- **Filtering** out those **values** from the data that are **not within** the **defined limits**."
      ]
    },
    {
      "cell_type": "code",
      "metadata": {
        "id": "gPm6CdqlA0H0",
        "outputId": "5ba8d1dc-c96d-411a-ffb4-6420b2590af3",
        "colab": {
          "base_uri": "https://localhost:8080/",
          "height": 34
        }
      },
      "source": [
        "# Identify outliers\n",
        "outliers = [x for x in data if x < lower or x > upper]\n",
        "print('Identified outliers: %d' % len(outliers))"
      ],
      "execution_count": null,
      "outputs": [
        {
          "output_type": "stream",
          "text": [
            "Identified outliers: 29\n"
          ],
          "name": "stdout"
        }
      ]
    },
    {
      "cell_type": "markdown",
      "metadata": {
        "id": "zNoXIsNkBhiJ"
      },
      "source": [
        "- We identified a total of **29 outliers** in our data.\n",
        "\n",
        "- **Removing** the identified **outliers** from the data."
      ]
    },
    {
      "cell_type": "code",
      "metadata": {
        "id": "ykw45ojRAoOh",
        "outputId": "c320099d-1e2b-4706-c2a5-5e825c72557c",
        "colab": {
          "base_uri": "https://localhost:8080/",
          "height": 34
        }
      },
      "source": [
        "# Remove outliers\n",
        "outliers_removed = [x for x in data if x >= lower and x <= upper]\n",
        "print('Non-outlier observations: %d' % len(outliers_removed))"
      ],
      "execution_count": null,
      "outputs": [
        {
          "output_type": "stream",
          "text": [
            "Non-outlier observations: 9971\n"
          ],
          "name": "stdout"
        }
      ]
    },
    {
      "cell_type": "markdown",
      "metadata": {
        "id": "OT7ajZJkBh_q"
      },
      "source": [
        "- We have **removed** the **outliers** from the data and are left with **9971** samples."
      ]
    },
    {
      "cell_type": "markdown",
      "metadata": {
        "id": "EkYnAlfAA74c"
      },
      "source": [
        "<a id = Section3></a>\n",
        "### **3. Interquartile Range Method**"
      ]
    },
    {
      "cell_type": "markdown",
      "metadata": {
        "id": "n14FE84nBASq"
      },
      "source": [
        "- **Not all data** is **normal** or normal enough to treat it as being drawn from a Gaussian distribution.\n",
        "\n",
        "- A good statistic for **summarizing** a **non-Gaussian distribution** sample of data is the **Interquartile Range**, or **IQR** for short.\n",
        "\n",
        "- The IQR is calculated as the **difference between** the **75th** and the **25th percentiles** of the data and **defines** the **box** in a **box and whisker plot**.\n",
        "\n",
        "- The **percentiles** can be **calculated** by **sorting** the **observations** and **selecting values** at **specific indices**.\n",
        "\n",
        "  - The **50th percentile** is the **middle** value, or the **average** of the **two middle values** for an even number of examples.\n",
        "  \n",
        "  - If we had **10,000** samples, then the **50th percentile** would be the **average** of the **5000th** and **5001st** values.\n",
        "\n",
        "- We refer to the **percentiles** as **quartiles** (**“quart” meaning 4**) because the **data** is **divided** into **four groups** via the **25th**, **50th** and **75th** values.\n",
        "\n",
        "- The **IQR** defines the **middle 50%** of the data, or the body of the data."
      ]
    },
    {
      "cell_type": "markdown",
      "metadata": {
        "id": "embp15VbBi4t"
      },
      "source": [
        "- The **IQR** can be used to **identify outliers** by defining limits on the sample values that are a **factor k** of the IQR **below** the **25th** percentile or **above** the **75th** percentile.\n",
        "\n",
        "  - The common value for the factor **k** is the value **1.5**.\n",
        "  \n",
        "  - A factor **k** of **3** or more can be used to identify values that are **extreme outliers** or **“far outs”** when described in the context of box and whisker plots.\n",
        "\n",
        "- On a **box and whisker plot**, these limits are drawn as **fences** on the **whiskers** (or the lines) that are drawn from the box.\n",
        "\n",
        "- **Values** that fall **outside** of **these** values are drawn as **dots**."
      ]
    },
    {
      "cell_type": "code",
      "metadata": {
        "id": "ZYp5oRcFNA8g"
      },
      "source": [
        "import matplotlib.pyplot as plt\n",
        "%matplotlib inline\n",
        "\n",
        "import seaborn as sns"
      ],
      "execution_count": null,
      "outputs": []
    },
    {
      "cell_type": "code",
      "metadata": {
        "id": "uJO_0z-sNBVb",
        "outputId": "3b96dfca-02c8-455e-c2fd-ed477db68722",
        "colab": {
          "base_uri": "https://localhost:8080/",
          "height": 312
        }
      },
      "source": [
        "plt.figure(figsize=(10, 4))\n",
        "sns.boxplot(data, palette='viridis')\n",
        "plt.xlabel('Values')\n",
        "plt.title('Box and Whisker Plot')"
      ],
      "execution_count": null,
      "outputs": [
        {
          "output_type": "execute_result",
          "data": {
            "text/plain": [
              "Text(0.5, 1.0, 'Box and Whisker Plot')"
            ]
          },
          "metadata": {
            "tags": []
          },
          "execution_count": 20
        },
        {
          "output_type": "display_data",
          "data": {
            "image/png": "[encoded data removed]",
            "text/plain": [
              "<Figure size 720x288 with 1 Axes>"
            ]
          },
          "metadata": {
            "tags": [],
            "needs_background": "light"
          }
        }
      ]
    },
    {
      "cell_type": "markdown",
      "metadata": {
        "id": "MJ0PiNK5OAu5"
      },
      "source": [
        "- We can see the **quartiles** and **fences** in the boxplot.\n",
        "\n",
        "- Also, the **points outside** the **fences** are drawn as **dots**, meaning they are **outliers**.\n",
        "\n",
        "<br> \n",
        "\n",
        "- We will now **calculate** the **quartiles**, and **IQR** of our data."
      ]
    },
    {
      "cell_type": "code",
      "metadata": {
        "id": "VEf79NsSBGmu",
        "outputId": "b6000228-8b8a-465f-d69f-a9dc47333491",
        "colab": {
          "base_uri": "https://localhost:8080/",
          "height": 34
        }
      },
      "source": [
        "# Calculate Interquartile range\n",
        "q25, q75 = np.percentile(data, 25), np.percentile(data, 75)\n",
        "iqr = q75 - q25\n",
        "print('Percentiles: 25th=%.3f, 75th=%.3f, IQR=%.3f' % (q25, q75, iqr))"
      ],
      "execution_count": null,
      "outputs": [
        {
          "output_type": "stream",
          "text": [
            "Percentiles: 25th=46.685, 75th=53.359, IQR=6.674\n"
          ],
          "name": "stdout"
        }
      ]
    },
    {
      "cell_type": "markdown",
      "metadata": {
        "id": "RM1F4vDJBjZ-"
      },
      "source": [
        "- The **25th** percentile is at **46.685**, the **75th** percentile is at **53.359**\n",
        "\n",
        "- The **IQR** for the data is **6.674**\n",
        "\n",
        "<br> \n",
        "\n",
        "- Now, **calculating** the **outlier cut-off** value."
      ]
    },
    {
      "cell_type": "code",
      "metadata": {
        "id": "uRCxsZR6BGtD",
        "outputId": "d1e1e39a-a364-40d8-e302-c5868d265327",
        "colab": {
          "base_uri": "https://localhost:8080/",
          "height": 67
        }
      },
      "source": [
        "# Calculate the outlier cutoff\n",
        "cut_off = iqr * 1.5\n",
        "lower, upper = q25 - cut_off, q75 + cut_off\n",
        "print('Cut Off Value from 25th and 75th Quartiles:', cut_off)\n",
        "print('Lower Bound:', lower)\n",
        "print('Upper Bound:', upper)"
      ],
      "execution_count": null,
      "outputs": [
        {
          "output_type": "stream",
          "text": [
            "Cut Off Value from 25th and 75th Quartiles: 10.01050258029353\n",
            "Lower Bound: 36.67487321019591\n",
            "Upper Bound: 63.369546757645324\n"
          ],
          "name": "stdout"
        }
      ]
    },
    {
      "cell_type": "markdown",
      "metadata": {
        "id": "MZeUJTclBj8z"
      },
      "source": [
        "- The calculated **cut-off** value for identifying outliers is **10.01** from the 25th and 75th quartiles.\n",
        "\n",
        "- Using this value:\n",
        "\n",
        "  - The **lower bound** for outliers is **36.67**\n",
        "\n",
        "  - The **upper bound** for outliers is **63.36**\n",
        "\n",
        "- Any value **outside** these **bounds** will be treated as an **outlier**."
      ]
    },
    {
      "cell_type": "markdown",
      "metadata": {
        "id": "FHXDbwGsPug1"
      },
      "source": [
        "- **Filtering** out those **values** from the data that are **not within** the **defined limits**."
      ]
    },
    {
      "cell_type": "code",
      "metadata": {
        "id": "ylA0EI_FBTkd",
        "outputId": "d70008cf-f61e-4c29-d194-fb602cae4f64",
        "colab": {
          "base_uri": "https://localhost:8080/",
          "height": 34
        }
      },
      "source": [
        "# Identify outliers\n",
        "outliers = [x for x in data if x < lower or x > upper]\n",
        "print('Identified outliers: %d' % len(outliers))"
      ],
      "execution_count": null,
      "outputs": [
        {
          "output_type": "stream",
          "text": [
            "Identified outliers: 81\n"
          ],
          "name": "stdout"
        }
      ]
    },
    {
      "cell_type": "markdown",
      "metadata": {
        "id": "vYx_gA9pPug3"
      },
      "source": [
        "- We identified a total of **81 outliers** in our data.\n",
        "\n",
        "- **Removing** the identified **outliers** from the data."
      ]
    },
    {
      "cell_type": "code",
      "metadata": {
        "id": "C0wDVgZ_BAZC",
        "outputId": "472dad3d-41d0-4bfa-cc85-5de27f41b530",
        "colab": {
          "base_uri": "https://localhost:8080/",
          "height": 34
        }
      },
      "source": [
        "# Remove outliers\n",
        "outliers_removed = [x for x in data if x >= lower and x <= upper]\n",
        "print('Non-outlier observations: %d' % len(outliers_removed))"
      ],
      "execution_count": null,
      "outputs": [
        {
          "output_type": "stream",
          "text": [
            "Non-outlier observations: 9919\n"
          ],
          "name": "stdout"
        }
      ]
    },
    {
      "cell_type": "markdown",
      "metadata": {
        "id": "8ol9fbtqPug3"
      },
      "source": [
        "- We have **removed** the **outliers** from the data and are left with **9919** samples."
      ]
    },
    {
      "cell_type": "markdown",
      "metadata": {
        "id": "r_xVOfinBmwJ"
      },
      "source": [
        "<a id = Section4></a>\n",
        "### **4. Automatic Outlier Detection**"
      ]
    },
    {
      "cell_type": "markdown",
      "metadata": {
        "id": "TQpVlbOVBtqq"
      },
      "source": [
        "#### **Using LOF (Local Outlier Factor)**"
      ]
    },
    {
      "cell_type": "markdown",
      "metadata": {
        "id": "HmGf_odzQJFW"
      },
      "source": [
        "- The **local outlier factor**, or **LOF** for short, is a technique that attempts to **harness** the idea of **nearest neighbors** for **outlier detection**.\n",
        "\n",
        "- **Each example** is **assigned** a **scoring** of how **isolated** or how **likely** it is to be **outliers** based on the **size** of its local **neighborhood**.\n",
        "\n",
        "- Those examples with the **largest score** are more likely to be **outliers**.\n",
        "\n",
        "- The scikit-learn library provides an implementation of this approach in the **LocalOutlierFactor** class."
      ]
    },
    {
      "cell_type": "code",
      "metadata": {
        "id": "-UqK46FJCMku"
      },
      "source": [
        "import pandas as pd"
      ],
      "execution_count": null,
      "outputs": []
    },
    {
      "cell_type": "code",
      "metadata": {
        "id": "Gc7eUdppCH2b"
      },
      "source": [
        "from sklearn.model_selection import train_test_split\n",
        "from sklearn.linear_model import LinearRegression\n",
        "from sklearn.metrics import mean_absolute_error\n",
        "from sklearn.neighbors import LocalOutlierFactor"
      ],
      "execution_count": null,
      "outputs": []
    },
    {
      "cell_type": "markdown",
      "metadata": {
        "id": "RFgMddFvCwha"
      },
      "source": [
        "**Loading the Dataset**"
      ]
    },
    {
      "cell_type": "markdown",
      "metadata": {
        "id": "8SYTa9tMSzD5"
      },
      "source": [
        "- We will use the **Boston Housing** regression problem that has **13 inputs** and **one numerical target**.\n",
        "\n",
        "- It requires learning the relationship between suburb characteristics and house prices."
      ]
    },
    {
      "cell_type": "code",
      "metadata": {
        "id": "AoF5nk_vCJ-b",
        "outputId": "115309af-cba1-4a78-cdcc-7ca23a54c714",
        "colab": {
          "base_uri": "https://localhost:8080/",
          "height": 195
        }
      },
      "source": [
        "# load the dataset\n",
        "df = pd.read_csv('https://raw.githubusercontent.com/insaid2018/Term-2/master/Data/Boston.csv')\n",
        "df.head()"
      ],
      "execution_count": null,
      "outputs": [
        {
          "output_type": "execute_result",
          "data": {
            "text/html": [
              "<div>\n",
              "<style scoped>\n",
              "    .dataframe tbody tr th:only-of-type {\n",
              "        vertical-align: middle;\n",
              "    }\n",
              "\n",
              "    .dataframe tbody tr th {\n",
              "        vertical-align: top;\n",
              "    }\n",
              "\n",
              "    .dataframe thead th {\n",
              "        text-align: right;\n",
              "    }\n",
              "</style>\n",
              "<table border=\"1\" class=\"dataframe\">\n",
              "  <thead>\n",
              "    <tr style=\"text-align: right;\">\n",
              "      <th></th>\n",
              "      <th>crim</th>\n",
              "      <th>zn</th>\n",
              "      <th>indus</th>\n",
              "      <th>chas</th>\n",
              "      <th>nox</th>\n",
              "      <th>rm</th>\n",
              "      <th>age</th>\n",
              "      <th>dis</th>\n",
              "      <th>rad</th>\n",
              "      <th>tax</th>\n",
              "      <th>ptratio</th>\n",
              "      <th>black</th>\n",
              "      <th>lstat</th>\n",
              "      <th>medv</th>\n",
              "    </tr>\n",
              "  </thead>\n",
              "  <tbody>\n",
              "    <tr>\n",
              "      <th>0</th>\n",
              "      <td>0.00632</td>\n",
              "      <td>18.0</td>\n",
              "      <td>2.31</td>\n",
              "      <td>0</td>\n",
              "      <td>0.538</td>\n",
              "      <td>6.575</td>\n",
              "      <td>65.2</td>\n",
              "      <td>4.0900</td>\n",
              "      <td>1</td>\n",
              "      <td>296.0</td>\n",
              "      <td>15.3</td>\n",
              "      <td>396.90</td>\n",
              "      <td>4.98</td>\n",
              "      <td>24.0</td>\n",
              "    </tr>\n",
              "    <tr>\n",
              "      <th>1</th>\n",
              "      <td>0.02731</td>\n",
              "      <td>0.0</td>\n",
              "      <td>7.07</td>\n",
              "      <td>0</td>\n",
              "      <td>0.469</td>\n",
              "      <td>6.421</td>\n",
              "      <td>78.9</td>\n",
              "      <td>4.9671</td>\n",
              "      <td>2</td>\n",
              "      <td>242.0</td>\n",
              "      <td>17.8</td>\n",
              "      <td>396.90</td>\n",
              "      <td>9.14</td>\n",
              "      <td>21.6</td>\n",
              "    </tr>\n",
              "    <tr>\n",
              "      <th>2</th>\n",
              "      <td>0.02729</td>\n",
              "      <td>0.0</td>\n",
              "      <td>7.07</td>\n",
              "      <td>0</td>\n",
              "      <td>0.469</td>\n",
              "      <td>7.185</td>\n",
              "      <td>61.1</td>\n",
              "      <td>4.9671</td>\n",
              "      <td>2</td>\n",
              "      <td>242.0</td>\n",
              "      <td>17.8</td>\n",
              "      <td>392.83</td>\n",
              "      <td>4.03</td>\n",
              "      <td>34.7</td>\n",
              "    </tr>\n",
              "    <tr>\n",
              "      <th>3</th>\n",
              "      <td>0.03237</td>\n",
              "      <td>0.0</td>\n",
              "      <td>2.18</td>\n",
              "      <td>0</td>\n",
              "      <td>0.458</td>\n",
              "      <td>6.998</td>\n",
              "      <td>45.8</td>\n",
              "      <td>6.0622</td>\n",
              "      <td>3</td>\n",
              "      <td>222.0</td>\n",
              "      <td>18.7</td>\n",
              "      <td>394.63</td>\n",
              "      <td>2.94</td>\n",
              "      <td>33.4</td>\n",
              "    </tr>\n",
              "    <tr>\n",
              "      <th>4</th>\n",
              "      <td>0.06905</td>\n",
              "      <td>0.0</td>\n",
              "      <td>2.18</td>\n",
              "      <td>0</td>\n",
              "      <td>0.458</td>\n",
              "      <td>7.147</td>\n",
              "      <td>54.2</td>\n",
              "      <td>6.0622</td>\n",
              "      <td>3</td>\n",
              "      <td>222.0</td>\n",
              "      <td>18.7</td>\n",
              "      <td>396.90</td>\n",
              "      <td>5.33</td>\n",
              "      <td>36.2</td>\n",
              "    </tr>\n",
              "  </tbody>\n",
              "</table>\n",
              "</div>"
            ],
            "text/plain": [
              "      crim    zn  indus  chas    nox  ...    tax  ptratio   black  lstat  medv\n",
              "0  0.00632  18.0   2.31     0  0.538  ...  296.0     15.3  396.90   4.98  24.0\n",
              "1  0.02731   0.0   7.07     0  0.469  ...  242.0     17.8  396.90   9.14  21.6\n",
              "2  0.02729   0.0   7.07     0  0.469  ...  242.0     17.8  392.83   4.03  34.7\n",
              "3  0.03237   0.0   2.18     0  0.458  ...  222.0     18.7  394.63   2.94  33.4\n",
              "4  0.06905   0.0   2.18     0  0.458  ...  222.0     18.7  396.90   5.33  36.2\n",
              "\n",
              "[5 rows x 14 columns]"
            ]
          },
          "metadata": {
            "tags": []
          },
          "execution_count": 37
        }
      ]
    },
    {
      "cell_type": "code",
      "metadata": {
        "id": "hy7GvhI1RBUX",
        "outputId": "faa20274-9fd1-428a-abd7-154a62e03caa",
        "colab": {
          "base_uri": "https://localhost:8080/",
          "height": 370
        }
      },
      "source": [
        "df.info()"
      ],
      "execution_count": null,
      "outputs": [
        {
          "output_type": "stream",
          "text": [
            "<class 'pandas.core.frame.DataFrame'>\n",
            "RangeIndex: 506 entries, 0 to 505\n",
            "Data columns (total 14 columns):\n",
            " #   Column   Non-Null Count  Dtype  \n",
            "---  ------   --------------  -----  \n",
            " 0   crim     506 non-null    float64\n",
            " 1   zn       506 non-null    float64\n",
            " 2   indus    506 non-null    float64\n",
            " 3   chas     506 non-null    int64  \n",
            " 4   nox      506 non-null    float64\n",
            " 5   rm       506 non-null    float64\n",
            " 6   age      506 non-null    float64\n",
            " 7   dis      506 non-null    float64\n",
            " 8   rad      506 non-null    int64  \n",
            " 9   tax      506 non-null    float64\n",
            " 10  ptratio  506 non-null    float64\n",
            " 11  black    506 non-null    float64\n",
            " 12  lstat    506 non-null    float64\n",
            " 13  medv     506 non-null    float64\n",
            "dtypes: float64(12), int64(2)\n",
            "memory usage: 55.5 KB\n"
          ],
          "name": "stdout"
        }
      ]
    },
    {
      "cell_type": "markdown",
      "metadata": {
        "id": "HRYI7VpuCxJi"
      },
      "source": [
        "- The dataset has **506** samples, and **14** variables.\n",
        "\n",
        "- The `medv` is the **target** variable."
      ]
    },
    {
      "cell_type": "markdown",
      "metadata": {
        "id": "rYdvnTZDTQhU"
      },
      "source": [
        "- First, we will retrieve the **array** of dataset **values**."
      ]
    },
    {
      "cell_type": "code",
      "metadata": {
        "id": "ThtqY6ZfCJ7t"
      },
      "source": [
        "# Retrieve the array\n",
        "data = df.values"
      ],
      "execution_count": null,
      "outputs": []
    },
    {
      "cell_type": "markdown",
      "metadata": {
        "id": "L5w7v8vHCxqN"
      },
      "source": [
        "- **Splitting** the dataset into **feature matrix, X** and **target variable, y**."
      ]
    },
    {
      "cell_type": "code",
      "metadata": {
        "id": "Hc0FaamDCT5j"
      },
      "source": [
        "# Split into input and output elements\n",
        "X, y = data[:, :-1], data[:, -1]"
      ],
      "execution_count": null,
      "outputs": []
    },
    {
      "cell_type": "code",
      "metadata": {
        "id": "wbSj_3h8Tr3l",
        "outputId": "22f6c06a-6d73-4877-fd06-d1b927aa69f2",
        "colab": {
          "base_uri": "https://localhost:8080/",
          "height": 34
        }
      },
      "source": [
        "# Summarize the shape of the dataset\n",
        "print(X.shape, y.shape)"
      ],
      "execution_count": null,
      "outputs": [
        {
          "output_type": "stream",
          "text": [
            "(506, 13) (506,)\n"
          ],
          "name": "stdout"
        }
      ]
    },
    {
      "cell_type": "markdown",
      "metadata": {
        "id": "lKQc5Mo_C0G_"
      },
      "source": [
        "- **Splitting** the data into **train** and **test sets**."
      ]
    },
    {
      "cell_type": "code",
      "metadata": {
        "id": "G0Nxlz2LCWlI"
      },
      "source": [
        "# Split into train and test sets\n",
        "X_train, X_test, y_train, y_test = train_test_split(X, y, test_size=0.33, random_state=1)"
      ],
      "execution_count": null,
      "outputs": []
    },
    {
      "cell_type": "code",
      "metadata": {
        "id": "tdFjI-HHC6Cb",
        "outputId": "fd587b92-2921-4421-b363-84fdb1821253",
        "colab": {
          "base_uri": "https://localhost:8080/",
          "height": 34
        }
      },
      "source": [
        "# Summarize the shape of the training dataset\n",
        "print(X_train.shape, y_train.shape)"
      ],
      "execution_count": null,
      "outputs": [
        {
          "output_type": "stream",
          "text": [
            "(339, 13) (339,)\n"
          ],
          "name": "stdout"
        }
      ]
    },
    {
      "cell_type": "markdown",
      "metadata": {
        "id": "y2cFj1w8C0e4"
      },
      "source": [
        "- We will **fit** a **linear regression** algorithm on the **trainig** set.\n",
        "\n",
        "- And, then **evaluate model performance** by making a **predictions** on the **test** data and evaluate the predictions using the **mean absolute error** (**MAE**)."
      ]
    },
    {
      "cell_type": "code",
      "metadata": {
        "id": "9ZHoqjWhB51A",
        "outputId": "a2852137-966d-40ff-c322-70614b79f576",
        "colab": {
          "base_uri": "https://localhost:8080/",
          "height": 34
        }
      },
      "source": [
        "# Fit the model\n",
        "model = LinearRegression()\n",
        "model.fit(X_train, y_train)"
      ],
      "execution_count": null,
      "outputs": [
        {
          "output_type": "execute_result",
          "data": {
            "text/plain": [
              "LinearRegression(copy_X=True, fit_intercept=True, n_jobs=None, normalize=False)"
            ]
          },
          "metadata": {
            "tags": []
          },
          "execution_count": 44
        }
      ]
    },
    {
      "cell_type": "markdown",
      "metadata": {
        "id": "QNXhK_tlC06n"
      },
      "source": [
        "- Making **predictions** on the test set."
      ]
    },
    {
      "cell_type": "code",
      "metadata": {
        "id": "qWqLiDhWCYNq"
      },
      "source": [
        "# Evaluate the model\n",
        "yhat = model.predict(X_test)"
      ],
      "execution_count": null,
      "outputs": []
    },
    {
      "cell_type": "markdown",
      "metadata": {
        "id": "6BVS4MqLC1e7"
      },
      "source": [
        "- **Evaluating** the **predictions** made by the model on test set."
      ]
    },
    {
      "cell_type": "code",
      "metadata": {
        "id": "2b_aUcUwCYKb",
        "outputId": "934c249e-40bb-4374-e919-e3c7186e88e0",
        "colab": {
          "base_uri": "https://localhost:8080/",
          "height": 34
        }
      },
      "source": [
        "# Evaluate predictions\n",
        "mae = mean_absolute_error(y_test, yhat)\n",
        "print('MAE: %.3f' % mae)"
      ],
      "execution_count": null,
      "outputs": [
        {
          "output_type": "stream",
          "text": [
            "MAE: 3.417\n"
          ],
          "name": "stdout"
        }
      ]
    },
    {
      "cell_type": "markdown",
      "metadata": {
        "id": "8yTspaaJC18X"
      },
      "source": [
        "- In this case, we can see that the model achieved a **MAE** of about **3.417**."
      ]
    },
    {
      "cell_type": "markdown",
      "metadata": {
        "id": "dkL1OFMsUnIn"
      },
      "source": [
        "**Identifying Outliers using LOF**"
      ]
    },
    {
      "cell_type": "markdown",
      "metadata": {
        "id": "QA94o90AU7p7"
      },
      "source": [
        "- We will `LocalOutlierFactor` model to make a **prediction** on the **training** dataset, marking each row in the training dataset as **normal** (**1**) or an **outlier** (**-1**)."
      ]
    },
    {
      "cell_type": "code",
      "metadata": {
        "id": "ynz1-0cmC23w"
      },
      "source": [
        "# Identify outliers in the training dataset\n",
        "lof = LocalOutlierFactor()\n",
        "yhat = lof.fit_predict(X_train)"
      ],
      "execution_count": null,
      "outputs": []
    },
    {
      "cell_type": "markdown",
      "metadata": {
        "id": "ZygUUS0iC-Qg"
      },
      "source": [
        "- We can then use these **predictions** to **remove** all **outliers** from the training dataset."
      ]
    },
    {
      "cell_type": "code",
      "metadata": {
        "id": "4_OoXq37C20N"
      },
      "source": [
        "# Select all rows that are not outliers\n",
        "mask = yhat != -1\n",
        "X_train, y_train = X_train[mask, :], y_train[mask]"
      ],
      "execution_count": null,
      "outputs": []
    },
    {
      "cell_type": "code",
      "metadata": {
        "id": "WQEUGQk-C2xC",
        "outputId": "3ed52b36-78b1-4700-a3c8-f593447ddd2a",
        "colab": {
          "base_uri": "https://localhost:8080/",
          "height": 34
        }
      },
      "source": [
        "# Summarize the shape of the updated training dataset\n",
        "print(X_train.shape, y_train.shape)"
      ],
      "execution_count": null,
      "outputs": [
        {
          "output_type": "stream",
          "text": [
            "(305, 13) (305,)\n"
          ],
          "name": "stdout"
        }
      ]
    },
    {
      "cell_type": "markdown",
      "metadata": {
        "id": "xUpK2152DDFB"
      },
      "source": [
        "- Original train set had **339** samples, but **after outlier removal** we are left with **305** samples.\n",
        "\n",
        "- This implies that **34 rows** were **removed** from the train set.\n",
        "\n",
        "- We can now **fit** and **evaluate** the model as per normal."
      ]
    },
    {
      "cell_type": "code",
      "metadata": {
        "id": "NiZs0re_C2tg",
        "outputId": "8960fe0e-8be4-4eea-d444-c67bf51ab8e7",
        "colab": {
          "base_uri": "https://localhost:8080/",
          "height": 34
        }
      },
      "source": [
        "# Fit the model\n",
        "model = LinearRegression()\n",
        "model.fit(X_train, y_train)"
      ],
      "execution_count": null,
      "outputs": [
        {
          "output_type": "execute_result",
          "data": {
            "text/plain": [
              "LinearRegression(copy_X=True, fit_intercept=True, n_jobs=None, normalize=False)"
            ]
          },
          "metadata": {
            "tags": []
          },
          "execution_count": 50
        }
      ]
    },
    {
      "cell_type": "code",
      "metadata": {
        "id": "CkmIQ2DHDGpY"
      },
      "source": [
        "# Evaluate the model\n",
        "yhat = model.predict(X_test)"
      ],
      "execution_count": null,
      "outputs": []
    },
    {
      "cell_type": "code",
      "metadata": {
        "id": "U-qBLdKACvjf",
        "outputId": "a59f601a-f3cd-4c40-b0a2-2e7560a7be0a",
        "colab": {
          "base_uri": "https://localhost:8080/",
          "height": 34
        }
      },
      "source": [
        "# Evaluate predictions\n",
        "mae = mean_absolute_error(y_test, yhat)\n",
        "print('MAE: %.3f' % mae)"
      ],
      "execution_count": null,
      "outputs": [
        {
          "output_type": "stream",
          "text": [
            "MAE: 3.356\n"
          ],
          "name": "stdout"
        }
      ]
    },
    {
      "cell_type": "markdown",
      "metadata": {
        "id": "x18NZ3KDDFdo"
      },
      "source": [
        "- The model achieved a **MAE** of about **3.417**, which is **lower** than what was obtained before outlier removal."
      ]
    },
    {
      "cell_type": "markdown",
      "metadata": {
        "id": "-gUDqGtqDLij"
      },
      "source": [
        "#### **Using IsolationForest**"
      ]
    },
    {
      "cell_type": "markdown",
      "metadata": {
        "id": "ZdPYce4E9SIc"
      },
      "source": [
        "- **Isolation Forest** is an **unsupervised** learning algorithm that belongs to the **ensemble decision trees** family.\n",
        "\n",
        "- It explicitly **isolates anomalies** instead of profiling and constructing normal points and regions by **assigning** a **score** to each data point.\n",
        "\n",
        "- It takes **advantage** of the fact that **anomalies** are the **minority data points** and that they have **attribute-values** that are very **different** from those of **normal** instances.\n",
        "\n",
        "- This algorithm works **great** with very **high dimensional datasets** and it proved to be a very **effective** way of **detecting anomalies**."
      ]
    },
    {
      "cell_type": "code",
      "metadata": {
        "id": "dktoOZnVDcB1"
      },
      "source": [
        "import numpy as np"
      ],
      "execution_count": null,
      "outputs": []
    },
    {
      "cell_type": "code",
      "metadata": {
        "id": "9c0-b4ugDg-P"
      },
      "source": [
        "from sklearn.ensemble import IsolationForest"
      ],
      "execution_count": null,
      "outputs": []
    },
    {
      "cell_type": "markdown",
      "metadata": {
        "id": "ABNfGX47DzFu"
      },
      "source": [
        "**Generating Data**"
      ]
    },
    {
      "cell_type": "code",
      "metadata": {
        "id": "3c441NoGDhSG"
      },
      "source": [
        "np.random.seed(1)\n",
        "random_data = np.random.randn(50000,2)  * 20 + 20"
      ],
      "execution_count": null,
      "outputs": []
    },
    {
      "cell_type": "code",
      "metadata": {
        "id": "qglFSzrjXsLe",
        "outputId": "07f50469-60f8-4f1a-d6e9-b551da07fc94",
        "colab": {
          "base_uri": "https://localhost:8080/",
          "height": 34
        }
      },
      "source": [
        "# Summarize the shape of the dataset\n",
        "print(random_data.shape)"
      ],
      "execution_count": null,
      "outputs": [
        {
          "output_type": "stream",
          "text": [
            "(50000, 2)\n"
          ],
          "name": "stdout"
        }
      ]
    },
    {
      "cell_type": "markdown",
      "metadata": {
        "id": "Lnd90fvuDznK"
      },
      "source": [
        "**Applying IsolationForest to our Data**"
      ]
    },
    {
      "cell_type": "code",
      "metadata": {
        "id": "Qu-38IKzDZlz",
        "outputId": "b89b77c2-71d6-4393-83a5-bb099553b75c",
        "colab": {
          "base_uri": "https://localhost:8080/",
          "height": 34
        }
      },
      "source": [
        "clf = IsolationForest(max_samples=100, random_state=1, contamination='auto')\n",
        "preds = clf.fit_predict(random_data)\n",
        "preds"
      ],
      "execution_count": null,
      "outputs": [
        {
          "output_type": "execute_result",
          "data": {
            "text/plain": [
              "array([-1,  1, -1, ...,  1,  1,  1])"
            ]
          },
          "metadata": {
            "tags": []
          },
          "execution_count": 57
        }
      ]
    },
    {
      "cell_type": "markdown",
      "metadata": {
        "id": "KxOMPPRV9HfV"
      },
      "source": [
        "- This code will **output** the **predictions** for **each data point** in an array.\n",
        "\n",
        "- If the result is **-1**, it means that this specific data point is an **outlier**.\n",
        "\n",
        "- If the result is **1**, then it means that the data point is **not an outlier**."
      ]
    },
    {
      "cell_type": "markdown",
      "metadata": {
        "id": "m_mcqy6HXJi-"
      },
      "source": [
        "- We can then use the **predictions** to **remove** all **outliers** from the data."
      ]
    },
    {
      "cell_type": "code",
      "metadata": {
        "id": "-hLa4rd7XJjC"
      },
      "source": [
        "# Select all rows that are not outliers\n",
        "mask = preds != -1\n",
        "outliers_removed = random_data[mask, :]"
      ],
      "execution_count": null,
      "outputs": []
    },
    {
      "cell_type": "code",
      "metadata": {
        "outputId": "e9f10e9a-0c4e-4f55-a6aa-2d2ef6b15ca6",
        "id": "z1hVorFgXJjK",
        "colab": {
          "base_uri": "https://localhost:8080/",
          "height": 34
        }
      },
      "source": [
        "# Summarize the shape of the dataset after outlier removal\n",
        "print(outliers_removed.shape)"
      ],
      "execution_count": null,
      "outputs": [
        {
          "output_type": "stream",
          "text": [
            "(35501, 2)\n"
          ],
          "name": "stdout"
        }
      ]
    },
    {
      "cell_type": "markdown",
      "metadata": {
        "id": "p2o1tekeYAJi"
      },
      "source": [
        "- **14499** samples were **removed** from the data, as they were labelled as **outliers**."
      ]
    }
  ]
}